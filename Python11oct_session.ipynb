{
 "cells": [
  {
   "cell_type": "code",
   "execution_count": 4,
   "id": "ad2cab41",
   "metadata": {},
   "outputs": [
    {
     "name": "stdout",
     "output_type": "stream",
     "text": [
      "enter n1:100.5\n",
      "enter n2:200.5\n",
      "the addition of 100.5 and 200.5\n"
     ]
    },
    {
     "data": {
      "text/plain": [
       "301.0"
      ]
     },
     "execution_count": 4,
     "metadata": {},
     "output_type": "execute_result"
    }
   ],
   "source": [
    "n1=eval(input(\"enter n1:\")) #we are using eval for evaluating something#\n",
    "n2=eval(input(\"enter n2:\")) #eval is something we use when we no int or float value will be good without getting error.\n",
    "print(\"the addition of {} and {}\". format(n1,n2,n1+n2))\n",
    "n1+n2"
   ]
  },
  {
   "cell_type": "code",
   "execution_count": 15,
   "id": "66c05676",
   "metadata": {},
   "outputs": [
    {
     "name": "stdout",
     "output_type": "stream",
     "text": [
      "enter n1:100\n",
      "enter n2:200.5\n",
      "the addition of 100 and 200.5 is: 300.5\n",
      "the subtraction of 100 and 200.5 is: -100.5\n",
      "the multiplication of 100 and 200.5 is: 20050.0\n"
     ]
    }
   ],
   "source": [
    "num1=eval(input(\"enter n1:\"))\n",
    "num2=eval(input(\"enter n2:\"))\n",
    "ans=num1+num2\n",
    "sub=num1-num2\n",
    "mul=num1*num2\n",
    "print(\"the addition of {} and {} is: {}\".format(num1,num2,num1+num2))\n",
    "print(\"the subtraction of {} and {} is: {}\".format(num1,num2,num1-num2))\n",
    "print(\"the multiplication of {} and {} is: {}\".format(num1,num2,num1*num2))"
   ]
  },
  {
   "cell_type": "code",
   "execution_count": 20,
   "id": "e2304f95",
   "metadata": {},
   "outputs": [
    {
     "name": "stdout",
     "output_type": "stream",
     "text": [
      "enter first number:2\n",
      "enter second number:3\n",
      "enter third number:5\n",
      "the original value before round off:  3.3333333333333335\n",
      "the average of 2, 3 and 5 is 3.33\n"
     ]
    }
   ],
   "source": [
    "# ask keyboard enter 3 numbers\n",
    "# and find the average\n",
    "#if a,b,c\n",
    "\n",
    "n1=eval(input(\"enter first number:\"))\n",
    "n2=eval(input(\"enter second number:\"))\n",
    "n3=eval(input(\"enter third number:\"))\n",
    "average=(n1+n2+n3)/3\n",
    "final_avg=round(average,2)\n",
    "print(\"the original value before round off: \", average)\n",
    "print(\"the average of {}, {} and {} is {}\" .format(n1,n2,n3,final_avg))\n"
   ]
  },
  {
   "cell_type": "code",
   "execution_count": null,
   "id": "0c1694ce",
   "metadata": {},
   "outputs": [],
   "source": [
    "12/2 #division\n",
    "12%2 #modulus\n",
    "12//2 #floor value"
   ]
  },
  {
   "cell_type": "code",
   "execution_count": 1,
   "id": "67d8710c",
   "metadata": {},
   "outputs": [
    {
     "data": {
      "text/plain": [
       "6.0"
      ]
     },
     "execution_count": 1,
     "metadata": {},
     "output_type": "execute_result"
    }
   ],
   "source": [
    "12/2"
   ]
  },
  {
   "cell_type": "code",
   "execution_count": 2,
   "id": "46992a8e",
   "metadata": {},
   "outputs": [
    {
     "data": {
      "text/plain": [
       "0"
      ]
     },
     "execution_count": 2,
     "metadata": {},
     "output_type": "execute_result"
    }
   ],
   "source": [
    "12%2"
   ]
  },
  {
   "cell_type": "code",
   "execution_count": 3,
   "id": "f6eab2e5",
   "metadata": {},
   "outputs": [
    {
     "data": {
      "text/plain": [
       "6"
      ]
     },
     "execution_count": 3,
     "metadata": {},
     "output_type": "execute_result"
    }
   ],
   "source": [
    "12//2"
   ]
  },
  {
   "cell_type": "code",
   "execution_count": 21,
   "id": "4fcf12f5",
   "metadata": {},
   "outputs": [
    {
     "name": "stdout",
     "output_type": "stream",
     "text": [
      "enter bill value:500\n",
      "enter tip value:100\n",
      "The total amount is:  600\n"
     ]
    }
   ],
   "source": [
    "#ask the user to enter \n",
    "#bill amt\n",
    "#tip \n",
    "#total\n",
    "\n",
    "bill_amt=eval(input(\"enter bill value:\"))\n",
    "tip_amt=eval(input(\"enter tip value:\"))\n",
    "total_amt=bill_amt+tip_amt\n",
    "print(\"The total amount is: \", total_amt)"
   ]
  },
  {
   "cell_type": "code",
   "execution_count": 30,
   "id": "ae8c2a23",
   "metadata": {},
   "outputs": [
    {
     "name": "stdout",
     "output_type": "stream",
     "text": [
      "enter bill amount:5000\n",
      "enter tip percentage: 10\n",
      "The Total is {} 5500.0\n"
     ]
    }
   ],
   "source": [
    "bill_amt=eval(input(\"enter bill amount:\"))\n",
    "tip_per=eval(input(\"enter tip percentage: \"))\n",
    "tip_amt= bill_amt*(tip_per)/100\n",
    "total=bill_amt+tip_amt\n",
    "print(\"The Total is {}\", total)"
   ]
  },
  {
   "cell_type": "code",
   "execution_count": null,
   "id": "0a40a423",
   "metadata": {},
   "outputs": [],
   "source": [
    "# wap ask the user enter dollars \n",
    "# input: how any dollars u want to pay: 100\n",
    "#print('no dollars are not accepted')\n",
    "#print(\"the what will accepted\")\n",
    "#print(\"only indian rupees\")\n",
    "#input: one dollar equal to how any rupees: 80\n",
    "# then total amt to pay: 100*80"
   ]
  },
  {
   "cell_type": "code",
   "execution_count": null,
   "id": "7298c7e1",
   "metadata": {},
   "outputs": [],
   "source": [
    "n1=eval(input(\"how any dollars you want to pay\"))\n",
    "print(\"no dollars are not accepted\")\n",
    "print(\"then what will be accepted\")\n",
    "print(\"Only Indian Rupess\")\n",
    "n2=eval(input(\"One dollar equal to how any Indian Rupees\"))\n",
    "amount=n1*n2\n",
    "print(\"The total amount to pay{}\". format(amount))"
   ]
  },
  {
   "cell_type": "code",
   "execution_count": null,
   "id": "8dab8443",
   "metadata": {},
   "outputs": [],
   "source": []
  }
 ],
 "metadata": {
  "kernelspec": {
   "display_name": "Python 3 (ipykernel)",
   "language": "python",
   "name": "python3"
  },
  "language_info": {
   "codemirror_mode": {
    "name": "ipython",
    "version": 3
   },
   "file_extension": ".py",
   "mimetype": "text/x-python",
   "name": "python",
   "nbconvert_exporter": "python",
   "pygments_lexer": "ipython3",
   "version": "3.9.13"
  }
 },
 "nbformat": 4,
 "nbformat_minor": 5
}
