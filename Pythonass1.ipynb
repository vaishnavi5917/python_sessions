{
 "cells": [
  {
   "cell_type": "code",
   "execution_count": 34,
   "id": "1de736cb",
   "metadata": {},
   "outputs": [],
   "source": [
    "#1. Ask the user to enter a number. Print out the square of the number,\n",
    "#but use the sep optional argument to print it out in a full sentence that\n",
    "#ends in a period.\n",
    "#Sample output is shown below.\n",
    "#Enter a number: 5\n",
    "#The square of 5 is 25."
   ]
  },
  {
   "cell_type": "code",
   "execution_count": 47,
   "id": "08d8fd50",
   "metadata": {},
   "outputs": [
    {
     "name": "stdout",
     "output_type": "stream",
     "text": [
      "Enter a number: 5\n",
      "The square of 5 is 25."
     ]
    }
   ],
   "source": [
    "num=int(input(\"Enter a number: \"))\n",
    "square_root=num**2\n",
    "print(\"The square of {} is {}\". format(num,square_root),sep='',end='.')"
   ]
  },
  {
   "cell_type": "code",
   "execution_count": null,
   "id": "d30f793e",
   "metadata": {},
   "outputs": [],
   "source": [
    "#2. Ask the user to enter a number x. Use the sep optional argument to\n",
    "#print out x, 2x, 3x, 4x, and 5x, each separated by three dashes, like\n",
    "#below.\n",
    "#Enter a number: 7\n",
    "#7---14---21---28---35"
   ]
  },
  {
   "cell_type": "code",
   "execution_count": 9,
   "id": "111ba21e",
   "metadata": {},
   "outputs": [
    {
     "name": "stdout",
     "output_type": "stream",
     "text": [
      "Enter a number:5\n",
      "5---10---15---20---25\n"
     ]
    }
   ],
   "source": [
    "num=eval(input(\"Enter a number:\"))\n",
    "print(num,2*num,3*num,4*num,5*num, sep='---')"
   ]
  },
  {
   "cell_type": "code",
   "execution_count": 22,
   "id": "a788ee14",
   "metadata": {},
   "outputs": [
    {
     "name": "stdout",
     "output_type": "stream",
     "text": [
      "Enter the weight in kilograms: 1000\n",
      "round(1000.0) Kilograms converted into pounds is 2200.0\n"
     ]
    }
   ],
   "source": [
    "#3. Write a program that asks the user for a weight in kilograms and\n",
    "#converts it to pounds. There are 2.2 pounds in a kilogram.\n",
    "\n",
    "x=float(input(\"Enter the weight in kilograms: \"))\n",
    "y=x*(2.2)\n",
    "print(\"{} Kilograms converted into pounds is {}\". format(x,y))"
   ]
  },
  {
   "cell_type": "code",
   "execution_count": 48,
   "id": "2528a87e",
   "metadata": {},
   "outputs": [
    {
     "name": "stdout",
     "output_type": "stream",
     "text": [
      "Enter the first number: 5\n",
      "Enter the second number: 7\n",
      "Enter the third number: 8\n",
      "The total value is 20 and The Average value is 15\n"
     ]
    }
   ],
   "source": [
    "#4. Write a program that asks the user to enter three numbers (use three\n",
    "#separate input statements).Create variables called total and average\n",
    "#that hold the sum and average of the three numbers and print out the\n",
    "#values of total and average. \n",
    "\n",
    "x=eval(input(\"Enter the first number: \"))\n",
    "y=eval(input(\"Enter the second number: \"))\n",
    "z=eval(input(\"Enter the third number: \"))\n",
    "total=x+y+z\n",
    "average= round(x+y+z/3)\n",
    "print(\"The total value is {} and The Average value is {}\". format(total,average))"
   ]
  },
  {
   "cell_type": "code",
   "execution_count": 41,
   "id": "d21e1b99",
   "metadata": {},
   "outputs": [
    {
     "name": "stdout",
     "output_type": "stream",
     "text": [
      "Enter the price of meal:5000\n",
      "Enter the tip percent: 10\n",
      "The total bill amount including tip amount is 5500.0\n"
     ]
    }
   ],
   "source": [
    "#5. A lot of cell phones have tip calculators. Write one. Ask the user for\n",
    "#the price of the meal and the percent tip they want to leave. Then\n",
    "#print both the tip amount and the total bill with the tip included.\n",
    "\n",
    "price=eval(input(\"Enter the price of meal:\"))\n",
    "tip_per=eval(input(\"Enter the tip percent: \"))\n",
    "tip_amt=price*tip_per/100\n",
    "print(\"The total bill amount including tip amount is {}\". format(price + tip_amt))"
   ]
  },
  {
   "cell_type": "code",
   "execution_count": null,
   "id": "9a9868c2",
   "metadata": {},
   "outputs": [],
   "source": []
  }
 ],
 "metadata": {
  "kernelspec": {
   "display_name": "Python 3 (ipykernel)",
   "language": "python",
   "name": "python3"
  },
  "language_info": {
   "codemirror_mode": {
    "name": "ipython",
    "version": 3
   },
   "file_extension": ".py",
   "mimetype": "text/x-python",
   "name": "python",
   "nbconvert_exporter": "python",
   "pygments_lexer": "ipython3",
   "version": "3.9.13"
  }
 },
 "nbformat": 4,
 "nbformat_minor": 5
}
