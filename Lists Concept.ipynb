{
 "cells": [
  {
   "cell_type": "markdown",
   "id": "4b591e57",
   "metadata": {},
   "source": [
    "#  Lists\n",
    "- What all we will learn\n"
   ]
  },
  {
   "cell_type": "code",
   "execution_count": 3,
   "id": "5aced6f6",
   "metadata": {},
   "outputs": [
    {
     "data": {
      "text/plain": [
       "[1, 2, 3, 4]"
      ]
     },
     "execution_count": 3,
     "metadata": {},
     "output_type": "execute_result"
    }
   ],
   "source": [
    "# array of elements stored in square brackets\n",
    "list1=[1,2,3,4]\n",
    "list1"
   ]
  },
  {
   "cell_type": "code",
   "execution_count": 4,
   "id": "18a8de61",
   "metadata": {},
   "outputs": [
    {
     "data": {
      "text/plain": [
       "['A', 'B', 'C']"
      ]
     },
     "execution_count": 4,
     "metadata": {},
     "output_type": "execute_result"
    }
   ],
   "source": [
    "list2=['A','B','C']\n",
    "list2"
   ]
  },
  {
   "cell_type": "code",
   "execution_count": 5,
   "id": "ea17bdf8",
   "metadata": {},
   "outputs": [
    {
     "data": {
      "text/plain": [
       "['APPLE', 1234]"
      ]
     },
     "execution_count": 5,
     "metadata": {},
     "output_type": "execute_result"
    }
   ],
   "source": [
    "list3=['APPLE',1234]\n",
    "list3"
   ]
  },
  {
   "cell_type": "code",
   "execution_count": 6,
   "id": "7a814c72",
   "metadata": {},
   "outputs": [
    {
     "data": {
      "text/plain": [
       "['A', 1, 2.6, (10+30j)]"
      ]
     },
     "execution_count": 6,
     "metadata": {},
     "output_type": "execute_result"
    }
   ],
   "source": [
    "list4=['A',1,2.6,(10+30j)]\n",
    "list4"
   ]
  },
  {
   "cell_type": "code",
   "execution_count": null,
   "id": "a497a523",
   "metadata": {},
   "outputs": [],
   "source": [
    "--> List is a heterogeneous property\n",
    "--> any kind of data type elements we can store in the form of list"
   ]
  },
  {
   "cell_type": "code",
   "execution_count": 7,
   "id": "3b2db0e4",
   "metadata": {},
   "outputs": [
    {
     "data": {
      "text/plain": [
       "[100, 100, 100]"
      ]
     },
     "execution_count": 7,
     "metadata": {},
     "output_type": "execute_result"
    }
   ],
   "source": [
    "list5=[100,100,100]\n",
    "list5"
   ]
  },
  {
   "cell_type": "code",
   "execution_count": null,
   "id": "88f8967e",
   "metadata": {},
   "outputs": [],
   "source": [
    "--> List elements can be duplicated\n",
    "--> which means duplicate elements are allowed"
   ]
  },
  {
   "cell_type": "code",
   "execution_count": 8,
   "id": "b35b1d70",
   "metadata": {},
   "outputs": [
    {
     "data": {
      "text/plain": [
       "['hai how are you', [1, 2, 3]]"
      ]
     },
     "execution_count": 8,
     "metadata": {},
     "output_type": "execute_result"
    }
   ],
   "source": [
    "list7=['hai how are you',[1,2,3]]\n",
    "list7"
   ]
  },
  {
   "cell_type": "code",
   "execution_count": null,
   "id": "e71badd4",
   "metadata": {},
   "outputs": [],
   "source": [
    "--> list in list also it can take"
   ]
  },
  {
   "cell_type": "code",
   "execution_count": null,
   "id": "c981bee0",
   "metadata": {},
   "outputs": [],
   "source": [
    "Starting with type"
   ]
  },
  {
   "cell_type": "code",
   "execution_count": 9,
   "id": "002f2b06",
   "metadata": {},
   "outputs": [
    {
     "data": {
      "text/plain": [
       "list"
      ]
     },
     "execution_count": 9,
     "metadata": {},
     "output_type": "execute_result"
    }
   ],
   "source": [
    "type(list1) # Dont ever take keyword as a variable that is 'list', we shld always use list1 or list2 something like that"
   ]
  },
  {
   "cell_type": "code",
   "execution_count": 10,
   "id": "d7a43a2f",
   "metadata": {},
   "outputs": [
    {
     "data": {
      "text/plain": [
       "[1, 2, 3, 4]"
      ]
     },
     "execution_count": 10,
     "metadata": {},
     "output_type": "execute_result"
    }
   ],
   "source": [
    "list1"
   ]
  },
  {
   "cell_type": "code",
   "execution_count": 11,
   "id": "867609f6",
   "metadata": {},
   "outputs": [
    {
     "data": {
      "text/plain": [
       "4"
      ]
     },
     "execution_count": 11,
     "metadata": {},
     "output_type": "execute_result"
    }
   ],
   "source": [
    "# First starting with length\n",
    "len(list1)"
   ]
  },
  {
   "cell_type": "code",
   "execution_count": 12,
   "id": "ae73f3d2",
   "metadata": {},
   "outputs": [
    {
     "name": "stdout",
     "output_type": "stream",
     "text": [
      "4\n",
      "4\n",
      "1\n",
      "10\n"
     ]
    }
   ],
   "source": [
    "# Keywords (len-max-min-sum)\n",
    "print(len(list1)) #4\n",
    "print(max(list1)) #4\n",
    "print(min(list1)) #1\n",
    "print(sum(list1)) #1+2+3+4=10"
   ]
  },
  {
   "cell_type": "code",
   "execution_count": 13,
   "id": "12c2cc63",
   "metadata": {},
   "outputs": [
    {
     "name": "stdout",
     "output_type": "stream",
     "text": [
      "['A', 'B', 'C']\n",
      "3\n",
      "C\n",
      "A\n"
     ]
    }
   ],
   "source": [
    "print(list2)\n",
    "print(len(list2))\n",
    "print(max(list2)) \n",
    "print(min(list2))\n"
   ]
  },
  {
   "cell_type": "code",
   "execution_count": 14,
   "id": "291f676d",
   "metadata": {},
   "outputs": [
    {
     "ename": "TypeError",
     "evalue": "unsupported operand type(s) for +: 'int' and 'str'",
     "output_type": "error",
     "traceback": [
      "\u001b[1;31m---------------------------------------------------------------------------\u001b[0m",
      "\u001b[1;31mTypeError\u001b[0m                                 Traceback (most recent call last)",
      "\u001b[1;32m~\\AppData\\Local\\Temp\\ipykernel_16576\\1030970775.py\u001b[0m in \u001b[0;36m<module>\u001b[1;34m\u001b[0m\n\u001b[1;32m----> 1\u001b[1;33m \u001b[0mprint\u001b[0m\u001b[1;33m(\u001b[0m\u001b[0msum\u001b[0m\u001b[1;33m(\u001b[0m\u001b[0mlist2\u001b[0m\u001b[1;33m)\u001b[0m\u001b[1;33m)\u001b[0m \u001b[1;31m#It will get error because unsupported operator\u001b[0m\u001b[1;33m\u001b[0m\u001b[1;33m\u001b[0m\u001b[0m\n\u001b[0m\u001b[0;32m      2\u001b[0m \u001b[1;31m#becoz usm will be only for numbers\u001b[0m\u001b[1;33m\u001b[0m\u001b[1;33m\u001b[0m\u001b[0m\n",
      "\u001b[1;31mTypeError\u001b[0m: unsupported operand type(s) for +: 'int' and 'str'"
     ]
    }
   ],
   "source": [
    "print(sum(list2)) #It will get error because unsupported operator\n",
    "#becoz usm will be only for numbers"
   ]
  },
  {
   "cell_type": "code",
   "execution_count": 15,
   "id": "d20dacb4",
   "metadata": {},
   "outputs": [
    {
     "name": "stdout",
     "output_type": "stream",
     "text": [
      "['APPLE', 1234]\n",
      "2\n"
     ]
    },
    {
     "ename": "TypeError",
     "evalue": "unsupported operand type(s) for +: 'int' and 'str'",
     "output_type": "error",
     "traceback": [
      "\u001b[1;31m---------------------------------------------------------------------------\u001b[0m",
      "\u001b[1;31mTypeError\u001b[0m                                 Traceback (most recent call last)",
      "\u001b[1;32m~\\AppData\\Local\\Temp\\ipykernel_16576\\832149793.py\u001b[0m in \u001b[0;36m<module>\u001b[1;34m\u001b[0m\n\u001b[0;32m      5\u001b[0m \u001b[1;31m# becoz same category should be compared\u001b[0m\u001b[1;33m\u001b[0m\u001b[1;33m\u001b[0m\u001b[0m\n\u001b[0;32m      6\u001b[0m \u001b[1;31m#print(min(list3)) # this also error\u001b[0m\u001b[1;33m\u001b[0m\u001b[1;33m\u001b[0m\u001b[0m\n\u001b[1;32m----> 7\u001b[1;33m \u001b[0mprint\u001b[0m\u001b[1;33m(\u001b[0m\u001b[0msum\u001b[0m\u001b[1;33m(\u001b[0m\u001b[0mlist3\u001b[0m\u001b[1;33m)\u001b[0m\u001b[1;33m)\u001b[0m \u001b[1;31m#error\u001b[0m\u001b[1;33m\u001b[0m\u001b[1;33m\u001b[0m\u001b[0m\n\u001b[0m",
      "\u001b[1;31mTypeError\u001b[0m: unsupported operand type(s) for +: 'int' and 'str'"
     ]
    }
   ],
   "source": [
    "print(list3)\n",
    "print(len(list3))\n",
    "#print(max(list3)) #error will come \n",
    "#>' not supported between instances of 'int' and 'str'\n",
    "# becoz same category should be compared\n",
    "#print(min(list3)) # this also error\n",
    "print(sum(list3)) #error"
   ]
  },
  {
   "cell_type": "code",
   "execution_count": 16,
   "id": "f4b75888",
   "metadata": {},
   "outputs": [
    {
     "name": "stdout",
     "output_type": "stream",
     "text": [
      "['A', 1, 2.6, (10+30j)]\n",
      "4\n"
     ]
    },
    {
     "ename": "TypeError",
     "evalue": "'>' not supported between instances of 'int' and 'str'",
     "output_type": "error",
     "traceback": [
      "\u001b[1;31m---------------------------------------------------------------------------\u001b[0m",
      "\u001b[1;31mTypeError\u001b[0m                                 Traceback (most recent call last)",
      "\u001b[1;32m~\\AppData\\Local\\Temp\\ipykernel_16576\\463378203.py\u001b[0m in \u001b[0;36m<module>\u001b[1;34m\u001b[0m\n\u001b[0;32m      1\u001b[0m \u001b[0mprint\u001b[0m\u001b[1;33m(\u001b[0m\u001b[0mlist4\u001b[0m\u001b[1;33m)\u001b[0m\u001b[1;33m\u001b[0m\u001b[1;33m\u001b[0m\u001b[0m\n\u001b[0;32m      2\u001b[0m \u001b[0mprint\u001b[0m\u001b[1;33m(\u001b[0m\u001b[0mlen\u001b[0m\u001b[1;33m(\u001b[0m\u001b[0mlist4\u001b[0m\u001b[1;33m)\u001b[0m\u001b[1;33m)\u001b[0m\u001b[1;33m\u001b[0m\u001b[1;33m\u001b[0m\u001b[0m\n\u001b[1;32m----> 3\u001b[1;33m \u001b[0mprint\u001b[0m\u001b[1;33m(\u001b[0m\u001b[0mmax\u001b[0m\u001b[1;33m(\u001b[0m\u001b[0mlist4\u001b[0m\u001b[1;33m)\u001b[0m\u001b[1;33m)\u001b[0m \u001b[1;31m#error will be for max min sum\u001b[0m\u001b[1;33m\u001b[0m\u001b[1;33m\u001b[0m\u001b[0m\n\u001b[0m",
      "\u001b[1;31mTypeError\u001b[0m: '>' not supported between instances of 'int' and 'str'"
     ]
    }
   ],
   "source": [
    "print(list4)\n",
    "print(len(list4))\n",
    "print(max(list4)) #error will be for max min sum"
   ]
  },
  {
   "cell_type": "code",
   "execution_count": 17,
   "id": "9107a0d3",
   "metadata": {},
   "outputs": [
    {
     "name": "stdout",
     "output_type": "stream",
     "text": [
      "[100, 100, 100]\n",
      "3\n",
      "100\n",
      "100\n",
      "300\n"
     ]
    }
   ],
   "source": [
    "print(list5)\n",
    "print(len(list5))\n",
    "print(max(list5))\n",
    "print(min(list5))\n",
    "print(sum(list5))"
   ]
  },
  {
   "cell_type": "code",
   "execution_count": 18,
   "id": "5967a91c",
   "metadata": {},
   "outputs": [
    {
     "name": "stdout",
     "output_type": "stream",
     "text": [
      "['A', 'a']\n",
      "2\n",
      "a\n",
      "A\n"
     ]
    },
    {
     "ename": "TypeError",
     "evalue": "unsupported operand type(s) for +: 'int' and 'str'",
     "output_type": "error",
     "traceback": [
      "\u001b[1;31m---------------------------------------------------------------------------\u001b[0m",
      "\u001b[1;31mTypeError\u001b[0m                                 Traceback (most recent call last)",
      "\u001b[1;32m~\\AppData\\Local\\Temp\\ipykernel_16576\\3423743376.py\u001b[0m in \u001b[0;36m<module>\u001b[1;34m\u001b[0m\n\u001b[0;32m      4\u001b[0m \u001b[0mprint\u001b[0m\u001b[1;33m(\u001b[0m\u001b[0mmax\u001b[0m\u001b[1;33m(\u001b[0m\u001b[0mlist6\u001b[0m\u001b[1;33m)\u001b[0m\u001b[1;33m)\u001b[0m\u001b[1;33m\u001b[0m\u001b[1;33m\u001b[0m\u001b[0m\n\u001b[0;32m      5\u001b[0m \u001b[0mprint\u001b[0m\u001b[1;33m(\u001b[0m\u001b[0mmin\u001b[0m\u001b[1;33m(\u001b[0m\u001b[0mlist6\u001b[0m\u001b[1;33m)\u001b[0m\u001b[1;33m)\u001b[0m\u001b[1;33m\u001b[0m\u001b[1;33m\u001b[0m\u001b[0m\n\u001b[1;32m----> 6\u001b[1;33m \u001b[0mprint\u001b[0m\u001b[1;33m(\u001b[0m\u001b[0msum\u001b[0m\u001b[1;33m(\u001b[0m\u001b[0mlist6\u001b[0m\u001b[1;33m)\u001b[0m\u001b[1;33m)\u001b[0m \u001b[1;31m#error will come\u001b[0m\u001b[1;33m\u001b[0m\u001b[1;33m\u001b[0m\u001b[0m\n\u001b[0m",
      "\u001b[1;31mTypeError\u001b[0m: unsupported operand type(s) for +: 'int' and 'str'"
     ]
    }
   ],
   "source": [
    "list6=['A','a']\n",
    "print(list6)\n",
    "print(len(list6))\n",
    "print(max(list6))\n",
    "print(min(list6))\n",
    "print(sum(list6)) #error will come"
   ]
  },
  {
   "cell_type": "code",
   "execution_count": 19,
   "id": "e06d93af",
   "metadata": {},
   "outputs": [
    {
     "name": "stdout",
     "output_type": "stream",
     "text": [
      "['hai how are you', [1, 2, 3]]\n",
      "2\n"
     ]
    },
    {
     "ename": "TypeError",
     "evalue": "'>' not supported between instances of 'list' and 'str'",
     "output_type": "error",
     "traceback": [
      "\u001b[1;31m---------------------------------------------------------------------------\u001b[0m",
      "\u001b[1;31mTypeError\u001b[0m                                 Traceback (most recent call last)",
      "\u001b[1;32m~\\AppData\\Local\\Temp\\ipykernel_16576\\3876033283.py\u001b[0m in \u001b[0;36m<module>\u001b[1;34m\u001b[0m\n\u001b[0;32m      1\u001b[0m \u001b[0mprint\u001b[0m\u001b[1;33m(\u001b[0m\u001b[0mlist7\u001b[0m\u001b[1;33m)\u001b[0m\u001b[1;33m\u001b[0m\u001b[1;33m\u001b[0m\u001b[0m\n\u001b[0;32m      2\u001b[0m \u001b[0mprint\u001b[0m\u001b[1;33m(\u001b[0m\u001b[0mlen\u001b[0m\u001b[1;33m(\u001b[0m\u001b[0mlist7\u001b[0m\u001b[1;33m)\u001b[0m\u001b[1;33m)\u001b[0m\u001b[1;33m\u001b[0m\u001b[1;33m\u001b[0m\u001b[0m\n\u001b[1;32m----> 3\u001b[1;33m \u001b[0mprint\u001b[0m\u001b[1;33m(\u001b[0m\u001b[0mmax\u001b[0m\u001b[1;33m(\u001b[0m\u001b[0mlist7\u001b[0m\u001b[1;33m)\u001b[0m\u001b[1;33m)\u001b[0m \u001b[1;31m#from here error\u001b[0m\u001b[1;33m\u001b[0m\u001b[1;33m\u001b[0m\u001b[0m\n\u001b[0m\u001b[0;32m      4\u001b[0m \u001b[0mprint\u001b[0m\u001b[1;33m(\u001b[0m\u001b[0mmin\u001b[0m\u001b[1;33m(\u001b[0m\u001b[0mlist7\u001b[0m\u001b[1;33m)\u001b[0m\u001b[1;33m)\u001b[0m\u001b[1;33m\u001b[0m\u001b[1;33m\u001b[0m\u001b[0m\n\u001b[0;32m      5\u001b[0m \u001b[0mprint\u001b[0m\u001b[1;33m(\u001b[0m\u001b[0msum\u001b[0m\u001b[1;33m(\u001b[0m\u001b[0mlist7\u001b[0m\u001b[1;33m)\u001b[0m\u001b[1;33m)\u001b[0m\u001b[1;33m\u001b[0m\u001b[1;33m\u001b[0m\u001b[0m\n",
      "\u001b[1;31mTypeError\u001b[0m: '>' not supported between instances of 'list' and 'str'"
     ]
    }
   ],
   "source": [
    "print(list7)\n",
    "print(len(list7))\n",
    "print(max(list7)) #from here error\n",
    "print(min(list7))\n",
    "print(sum(list7)) "
   ]
  },
  {
   "cell_type": "code",
   "execution_count": 20,
   "id": "570c15a6",
   "metadata": {},
   "outputs": [
    {
     "name": "stdout",
     "output_type": "stream",
     "text": [
      "[1, 2, 3, 4]\n",
      "['A', 'B', 'C']\n"
     ]
    }
   ],
   "source": [
    "print(list1)\n",
    "print(list2)"
   ]
  },
  {
   "cell_type": "code",
   "execution_count": 21,
   "id": "d08c1b51",
   "metadata": {},
   "outputs": [],
   "source": [
    "list_con=list1+list2\n",
    "#If we do any operation we should save in any other variable"
   ]
  },
  {
   "cell_type": "code",
   "execution_count": 22,
   "id": "b488812b",
   "metadata": {},
   "outputs": [
    {
     "name": "stdout",
     "output_type": "stream",
     "text": [
      "[1, 2, 3, 4, 'A', 'B', 'C']\n"
     ]
    }
   ],
   "source": [
    "print(list_con) #here we saved in list_conc,when we want to use"
   ]
  },
  {
   "cell_type": "code",
   "execution_count": 23,
   "id": "c1f98cc3",
   "metadata": {},
   "outputs": [
    {
     "ename": "SyntaxError",
     "evalue": "invalid syntax (3183685052.py, line 1)",
     "output_type": "error",
     "traceback": [
      "\u001b[1;36m  File \u001b[1;32m\"C:\\Users\\Vaishnavi\\AppData\\Local\\Temp\\ipykernel_16576\\3183685052.py\"\u001b[1;36m, line \u001b[1;32m1\u001b[0m\n\u001b[1;33m    list1-list2===> error\u001b[0m\n\u001b[1;37m                 ^\u001b[0m\n\u001b[1;31mSyntaxError\u001b[0m\u001b[1;31m:\u001b[0m invalid syntax\n"
     ]
    }
   ],
   "source": [
    "list1-list2===> error\n",
    "list1*list2===>error\n",
    "list1/list2====>error\n",
    "\n",
    "#becoz lists wont accept all this functions only conactenation will be done\n",
    "#Both strings and lists accept only concatenation"
   ]
  },
  {
   "cell_type": "code",
   "execution_count": 25,
   "id": "d3be1b7f",
   "metadata": {},
   "outputs": [
    {
     "data": {
      "text/plain": [
       "[1, 2, 3, 4, 1, 2, 3, 4]"
      ]
     },
     "execution_count": 25,
     "metadata": {},
     "output_type": "execute_result"
    }
   ],
   "source": [
    "2*list1 #Like this we have to do (list1+list1)"
   ]
  },
  {
   "cell_type": "code",
   "execution_count": 26,
   "id": "3e0b52b6",
   "metadata": {},
   "outputs": [
    {
     "data": {
      "text/plain": [
       "['A', 'B', 'C']"
      ]
     },
     "execution_count": 26,
     "metadata": {},
     "output_type": "execute_result"
    }
   ],
   "source": [
    "list2"
   ]
  },
  {
   "cell_type": "code",
   "execution_count": 27,
   "id": "e07170de",
   "metadata": {},
   "outputs": [
    {
     "data": {
      "text/plain": [
       "False"
      ]
     },
     "execution_count": 27,
     "metadata": {},
     "output_type": "execute_result"
    }
   ],
   "source": [
    "'A' in list2 #true\n",
    "'B' in list2 #true\n",
    "'C'in list2 #true\n",
    "'D'in list2 #false becoz not there in list2\n",
    "\n",
    "#i in list2 (i is of all elements in list2)"
   ]
  },
  {
   "cell_type": "code",
   "execution_count": null,
   "id": "36ac8289",
   "metadata": {},
   "outputs": [],
   "source": [
    "#whenever u are reading 'in' operator\n",
    "#iterate the loop(for/while) and print the elements\n",
    "#in operator while wont work"
   ]
  },
  {
   "cell_type": "code",
   "execution_count": null,
   "id": "d33255cd",
   "metadata": {},
   "outputs": [],
   "source": [
    "for i in list2: \n",
    "    print(i)\n",
    "    "
   ]
  },
  {
   "cell_type": "code",
   "execution_count": null,
   "id": "1f892003",
   "metadata": {},
   "outputs": [],
   "source": [
    "#If you want to deal with while \n",
    "#we require numbers"
   ]
  },
  {
   "cell_type": "code",
   "execution_count": null,
   "id": "9da5264f",
   "metadata": {},
   "outputs": [],
   "source": [
    "# NEXT CONCEPT IS INDEX OPERATOR\n",
    "in while loop i starts with 0 thats why"
   ]
  },
  {
   "cell_type": "code",
   "execution_count": 28,
   "id": "64912b39",
   "metadata": {},
   "outputs": [
    {
     "data": {
      "text/plain": [
       "[1, 2, 3, 4]"
      ]
     },
     "execution_count": 28,
     "metadata": {},
     "output_type": "execute_result"
    }
   ],
   "source": [
    "list1 #python index starts with 0,1,2,3,4..\n",
    "1  2  3  4\n",
    "0  1  2  3"
   ]
  },
  {
   "cell_type": "code",
   "execution_count": null,
   "id": "cc408ac6",
   "metadata": {},
   "outputs": [],
   "source": [
    "A  B  C  D\n",
    "0  1  2  3"
   ]
  },
  {
   "cell_type": "code",
   "execution_count": 32,
   "id": "78b5d041",
   "metadata": {},
   "outputs": [
    {
     "data": {
      "text/plain": [
       "('A', 'B', 'C')"
      ]
     },
     "execution_count": 32,
     "metadata": {},
     "output_type": "execute_result"
    }
   ],
   "source": [
    "list2[0],list2[1],list2[2]"
   ]
  },
  {
   "cell_type": "code",
   "execution_count": 37,
   "id": "0d2c3540",
   "metadata": {},
   "outputs": [
    {
     "name": "stdout",
     "output_type": "stream",
     "text": [
      "0 A\n",
      "1 B\n",
      "2 C\n",
      "3 D\n"
     ]
    }
   ],
   "source": [
    "list2=['A','B','C','D']\n",
    "#print(len(list2))\n",
    "for i in range(len(list2)):\n",
    "    print(i,list2[i])"
   ]
  },
  {
   "cell_type": "code",
   "execution_count": 42,
   "id": "4df46fd0",
   "metadata": {},
   "outputs": [
    {
     "name": "stdout",
     "output_type": "stream",
     "text": [
      "0 A\n",
      "1 B\n",
      "2 C\n",
      "3 D\n"
     ]
    }
   ],
   "source": [
    "i=0\n",
    "while i<=3:\n",
    "    print(i,list2[i])\n",
    "    i=i+1\n",
    "    "
   ]
  },
  {
   "cell_type": "code",
   "execution_count": null,
   "id": "463a2264",
   "metadata": {},
   "outputs": [],
   "source": [
    "#1.print the positive index of 'A' is 0\n",
    "#print the positive index of 'B' is 1\n",
    "\n",
    "#2.print the negative index of 'A' is 0\n",
    "#print the negative index of 'B' is 1\n",
    "\n",
    "#3. print the positive index of 'A' is 0nd negative index of 'A' is -4\n",
    "\n",
    "-4  -3  -2  -1\n",
    "A   B    C   D\n",
    "0   1    2   3"
   ]
  },
  {
   "cell_type": "code",
   "execution_count": 82,
   "id": "d6f97c55",
   "metadata": {},
   "outputs": [
    {
     "name": "stdout",
     "output_type": "stream",
     "text": [
      "The positive index of A is 0\n",
      "The positive index of B is 1\n",
      "The positive index of C is 2\n",
      "The positive index of D is 3\n"
     ]
    }
   ],
   "source": [
    "list2='A','B','C','D'\n",
    "for i in range(len(list2)):\n",
    "    print(\"The positive index of {} is {}\".format(list2[i],i))"
   ]
  },
  {
   "cell_type": "code",
   "execution_count": 75,
   "id": "d80ae41e",
   "metadata": {},
   "outputs": [
    {
     "name": "stdout",
     "output_type": "stream",
     "text": [
      "The negative index of A is -4\n",
      "The negative index of B is -3\n",
      "The negative index of C is -2\n",
      "The negative index of D is -1\n"
     ]
    }
   ],
   "source": [
    "for i in range(len(list2)):\n",
    "    print(\"The negative index of {} is {}\".format(list2[i],i-len(list2)))"
   ]
  },
  {
   "cell_type": "code",
   "execution_count": 3,
   "id": "918300be",
   "metadata": {},
   "outputs": [
    {
     "data": {
      "text/plain": [
       "[1, 2, 3, 4]"
      ]
     },
     "execution_count": 3,
     "metadata": {},
     "output_type": "execute_result"
    }
   ],
   "source": [
    "# check the mutable condition\n",
    "list1=[1,2,3,4]\n",
    "list1"
   ]
  },
  {
   "cell_type": "code",
   "execution_count": 4,
   "id": "d6c7db23",
   "metadata": {},
   "outputs": [],
   "source": [
    "list1[0]='AAAA'"
   ]
  },
  {
   "cell_type": "code",
   "execution_count": 5,
   "id": "8c64bf37",
   "metadata": {},
   "outputs": [
    {
     "data": {
      "text/plain": [
       "['AAAA', 2, 3, 4]"
      ]
     },
     "execution_count": 5,
     "metadata": {},
     "output_type": "execute_result"
    }
   ],
   "source": [
    "list1  #LIST IS MUTABLE AND STRING IS IMMUTABLE"
   ]
  },
  {
   "cell_type": "code",
   "execution_count": 6,
   "id": "8e6886c3",
   "metadata": {},
   "outputs": [
    {
     "data": {
      "text/plain": [
       "4"
      ]
     },
     "execution_count": 6,
     "metadata": {},
     "output_type": "execute_result"
    }
   ],
   "source": [
    "list1[3]"
   ]
  },
  {
   "cell_type": "code",
   "execution_count": 72,
   "id": "6f6daee5",
   "metadata": {},
   "outputs": [
    {
     "ename": "IndexError",
     "evalue": "list index out of range",
     "output_type": "error",
     "traceback": [
      "\u001b[1;31m---------------------------------------------------------------------------\u001b[0m",
      "\u001b[1;31mIndexError\u001b[0m                                Traceback (most recent call last)",
      "\u001b[1;32m~\\AppData\\Local\\Temp\\ipykernel_16576\\1139700898.py\u001b[0m in \u001b[0;36m<module>\u001b[1;34m\u001b[0m\n\u001b[0;32m      1\u001b[0m \u001b[0mlist1\u001b[0m\u001b[1;33m=\u001b[0m\u001b[1;33m[\u001b[0m\u001b[1;33m[\u001b[0m\u001b[1;33m[\u001b[0m\u001b[1;33m[\u001b[0m\u001b[1;33m[\u001b[0m\u001b[1;36m1\u001b[0m\u001b[1;33m,\u001b[0m\u001b[1;36m2\u001b[0m\u001b[1;33m,\u001b[0m\u001b[1;36m3\u001b[0m\u001b[1;33m,\u001b[0m\u001b[1;36m4\u001b[0m\u001b[1;33m]\u001b[0m\u001b[1;33m]\u001b[0m\u001b[1;33m]\u001b[0m\u001b[1;33m]\u001b[0m\u001b[1;33m]\u001b[0m\u001b[1;33m\u001b[0m\u001b[1;33m\u001b[0m\u001b[0m\n\u001b[1;32m----> 2\u001b[1;33m \u001b[0mlist1\u001b[0m\u001b[1;33m[\u001b[0m\u001b[1;36m0\u001b[0m\u001b[1;33m]\u001b[0m\u001b[1;33m[\u001b[0m\u001b[1;36m1\u001b[0m\u001b[1;33m]\u001b[0m\u001b[1;33m\u001b[0m\u001b[1;33m\u001b[0m\u001b[0m\n\u001b[0m\u001b[0;32m      3\u001b[0m \u001b[1;31m#retrieve the index of 4\u001b[0m\u001b[1;33m\u001b[0m\u001b[1;33m\u001b[0m\u001b[0m\n\u001b[0;32m      4\u001b[0m \u001b[1;31m#what is the index of 4?\u001b[0m\u001b[1;33m\u001b[0m\u001b[1;33m\u001b[0m\u001b[0m\n",
      "\u001b[1;31mIndexError\u001b[0m: list index out of range"
     ]
    }
   ],
   "source": [
    "list1=[[[[[1,2,3,4]]]]]\n",
    "list1[0]\n",
    "#retrieve the index of 4\n",
    "#what is the index of 4?\n",
    "# in the list1 how many elements are there"
   ]
  },
  {
   "cell_type": "code",
   "execution_count": 71,
   "id": "f1d7b89c",
   "metadata": {},
   "outputs": [
    {
     "ename": "IndexError",
     "evalue": "list index out of range",
     "output_type": "error",
     "traceback": [
      "\u001b[1;31m---------------------------------------------------------------------------\u001b[0m",
      "\u001b[1;31mIndexError\u001b[0m                                Traceback (most recent call last)",
      "\u001b[1;32m~\\AppData\\Local\\Temp\\ipykernel_16576\\4289879289.py\u001b[0m in \u001b[0;36m<module>\u001b[1;34m\u001b[0m\n\u001b[1;32m----> 1\u001b[1;33m \u001b[0mlist1\u001b[0m\u001b[1;33m[\u001b[0m\u001b[1;36m4\u001b[0m\u001b[1;33m]\u001b[0m\u001b[1;33m\u001b[0m\u001b[1;33m\u001b[0m\u001b[0m\n\u001b[0m",
      "\u001b[1;31mIndexError\u001b[0m: list index out of range"
     ]
    }
   ],
   "source": [
    "list1[4]"
   ]
  },
  {
   "cell_type": "code",
   "execution_count": 76,
   "id": "9c78ddb9",
   "metadata": {},
   "outputs": [],
   "source": [
    "list2=[[[[['A','B',[1,2,3,['Cherry']]]]]]]"
   ]
  },
  {
   "cell_type": "code",
   "execution_count": 77,
   "id": "4c4a89b3",
   "metadata": {},
   "outputs": [
    {
     "data": {
      "text/plain": [
       "[[[['A', 'B', [1, 2, 3, ['Cherry']]]]]]"
      ]
     },
     "execution_count": 77,
     "metadata": {},
     "output_type": "execute_result"
    }
   ],
   "source": [
    "list2[0]"
   ]
  },
  {
   "cell_type": "code",
   "execution_count": 78,
   "id": "5ed134db",
   "metadata": {},
   "outputs": [
    {
     "ename": "IndexError",
     "evalue": "list index out of range",
     "output_type": "error",
     "traceback": [
      "\u001b[1;31m---------------------------------------------------------------------------\u001b[0m",
      "\u001b[1;31mIndexError\u001b[0m                                Traceback (most recent call last)",
      "\u001b[1;32m~\\AppData\\Local\\Temp\\ipykernel_16576\\2338509527.py\u001b[0m in \u001b[0;36m<module>\u001b[1;34m\u001b[0m\n\u001b[1;32m----> 1\u001b[1;33m \u001b[0mlist2\u001b[0m\u001b[1;33m[\u001b[0m\u001b[1;36m1\u001b[0m\u001b[1;33m]\u001b[0m\u001b[1;33m\u001b[0m\u001b[1;33m\u001b[0m\u001b[0m\n\u001b[0m",
      "\u001b[1;31mIndexError\u001b[0m: list index out of range"
     ]
    }
   ],
   "source": [
    "list2[1] #error becoz this is all one element"
   ]
  },
  {
   "cell_type": "code",
   "execution_count": 90,
   "id": "c7dc06cd",
   "metadata": {},
   "outputs": [
    {
     "data": {
      "text/plain": [
       "['Cherry']"
      ]
     },
     "execution_count": 90,
     "metadata": {},
     "output_type": "execute_result"
    }
   ],
   "source": [
    "list2=[[[[['A','B',[1,2,3,['Cherry']]]]]]]\n",
    "list2[0][0][0][0][2][3]"
   ]
  },
  {
   "cell_type": "code",
   "execution_count": 91,
   "id": "c4f40466",
   "metadata": {},
   "outputs": [],
   "source": [
    "list1=[[1,2,3]]"
   ]
  },
  {
   "cell_type": "code",
   "execution_count": 106,
   "id": "d4e5a2a6",
   "metadata": {},
   "outputs": [
    {
     "name": "stdout",
     "output_type": "stream",
     "text": [
      "0\n",
      "1\n",
      "2\n"
     ]
    }
   ],
   "source": [
    "#print 1,2,3 using for loop\n",
    "l1=[[1,2,3]]\n",
    "for i in range(len(list1[0])):\n",
    "    print(i)"
   ]
  },
  {
   "cell_type": "code",
   "execution_count": 102,
   "id": "bbe4e6f8",
   "metadata": {},
   "outputs": [
    {
     "data": {
      "text/plain": [
       "[3, 'A', 'C']"
      ]
     },
     "execution_count": 102,
     "metadata": {},
     "output_type": "execute_result"
    }
   ],
   "source": [
    "list_con[2:7:2]"
   ]
  },
  {
   "cell_type": "markdown",
   "id": "f4f4cc7f",
   "metadata": {},
   "source": [
    "# Nov 9th\n",
    "- Todays session"
   ]
  },
  {
   "cell_type": "code",
   "execution_count": null,
   "id": "d381b40e",
   "metadata": {},
   "outputs": [],
   "source": []
  },
  {
   "cell_type": "markdown",
   "id": "b801c6aa",
   "metadata": {},
   "source": [
    "# Nov 10th"
   ]
  },
  {
   "cell_type": "code",
   "execution_count": null,
   "id": "eb9549fc",
   "metadata": {},
   "outputs": [],
   "source": []
  },
  {
   "cell_type": "code",
   "execution_count": null,
   "id": "41d698ac",
   "metadata": {},
   "outputs": [],
   "source": []
  },
  {
   "cell_type": "code",
   "execution_count": null,
   "id": "76570967",
   "metadata": {},
   "outputs": [],
   "source": []
  },
  {
   "cell_type": "code",
   "execution_count": null,
   "id": "14295bab",
   "metadata": {},
   "outputs": [],
   "source": []
  },
  {
   "cell_type": "code",
   "execution_count": null,
   "id": "ff99cfaf",
   "metadata": {},
   "outputs": [],
   "source": []
  },
  {
   "cell_type": "code",
   "execution_count": null,
   "id": "d1691186",
   "metadata": {},
   "outputs": [],
   "source": []
  },
  {
   "cell_type": "code",
   "execution_count": null,
   "id": "4aa4346a",
   "metadata": {},
   "outputs": [],
   "source": []
  },
  {
   "cell_type": "code",
   "execution_count": null,
   "id": "a800bad1",
   "metadata": {},
   "outputs": [],
   "source": []
  },
  {
   "cell_type": "code",
   "execution_count": null,
   "id": "d0b0d568",
   "metadata": {},
   "outputs": [],
   "source": []
  },
  {
   "cell_type": "code",
   "execution_count": null,
   "id": "8fc90883",
   "metadata": {},
   "outputs": [],
   "source": []
  },
  {
   "cell_type": "code",
   "execution_count": null,
   "id": "8f0be518",
   "metadata": {},
   "outputs": [],
   "source": []
  },
  {
   "cell_type": "code",
   "execution_count": null,
   "id": "cfa5a542",
   "metadata": {},
   "outputs": [],
   "source": []
  },
  {
   "cell_type": "code",
   "execution_count": null,
   "id": "36fe2c59",
   "metadata": {},
   "outputs": [],
   "source": []
  },
  {
   "cell_type": "code",
   "execution_count": null,
   "id": "2b10e3df",
   "metadata": {},
   "outputs": [],
   "source": []
  },
  {
   "cell_type": "code",
   "execution_count": null,
   "id": "dd3826bf",
   "metadata": {},
   "outputs": [],
   "source": []
  },
  {
   "cell_type": "code",
   "execution_count": null,
   "id": "f2db3dfa",
   "metadata": {},
   "outputs": [],
   "source": []
  },
  {
   "cell_type": "code",
   "execution_count": null,
   "id": "ce1edf45",
   "metadata": {},
   "outputs": [],
   "source": []
  },
  {
   "cell_type": "code",
   "execution_count": null,
   "id": "e2bfa638",
   "metadata": {},
   "outputs": [],
   "source": []
  },
  {
   "cell_type": "code",
   "execution_count": null,
   "id": "0136eac8",
   "metadata": {},
   "outputs": [],
   "source": []
  },
  {
   "cell_type": "code",
   "execution_count": null,
   "id": "54410f9f",
   "metadata": {},
   "outputs": [],
   "source": [
    "string1='kl.rahul@pune.com','virat.kohli'\n",
    "list1=string1.split(',')\n",
    "for i in list1:\n",
    "    print(i.split('.')[0])\n",
    "    print(i.split('.')[1]).split(\"@\")[0])\n",
    "    "
   ]
  },
  {
   "cell_type": "markdown",
   "id": "bde7428d",
   "metadata": {},
   "source": [
    "# Copy Method"
   ]
  },
  {
   "cell_type": "code",
   "execution_count": null,
   "id": "e538bc7e",
   "metadata": {},
   "outputs": [],
   "source": []
  },
  {
   "cell_type": "code",
   "execution_count": null,
   "id": "09e07b6e",
   "metadata": {},
   "outputs": [],
   "source": []
  },
  {
   "cell_type": "code",
   "execution_count": null,
   "id": "19eb0911",
   "metadata": {},
   "outputs": [],
   "source": []
  },
  {
   "cell_type": "code",
   "execution_count": null,
   "id": "781bc425",
   "metadata": {},
   "outputs": [],
   "source": []
  },
  {
   "cell_type": "code",
   "execution_count": null,
   "id": "cbfd4972",
   "metadata": {},
   "outputs": [],
   "source": []
  },
  {
   "cell_type": "markdown",
   "id": "2c9818d0",
   "metadata": {},
   "source": [
    "# Extend Method"
   ]
  },
  {
   "cell_type": "code",
   "execution_count": 9,
   "id": "d7c8a43c",
   "metadata": {},
   "outputs": [],
   "source": [
    "list1=[1,2,3,4]\n",
    "list2=['A','B','C','D']\n",
    "list1.extend(list2)"
   ]
  },
  {
   "cell_type": "code",
   "execution_count": 10,
   "id": "b424a874",
   "metadata": {},
   "outputs": [
    {
     "data": {
      "text/plain": [
       "[1, 2, 3, 4, 'A', 'B', 'C', 'D']"
      ]
     },
     "execution_count": 10,
     "metadata": {},
     "output_type": "execute_result"
    }
   ],
   "source": [
    "list1"
   ]
  },
  {
   "cell_type": "code",
   "execution_count": 11,
   "id": "757999e4",
   "metadata": {},
   "outputs": [
    {
     "data": {
      "text/plain": [
       "['A', 'B', 'C', 'D', 1, 2, 3, 4]"
      ]
     },
     "execution_count": 11,
     "metadata": {},
     "output_type": "execute_result"
    }
   ],
   "source": [
    "list1=[1,2,3,4]\n",
    "list2=['A','B','C','D']\n",
    "list2.extend(list1)\n",
    "list2"
   ]
  },
  {
   "cell_type": "code",
   "execution_count": 13,
   "id": "e649138f",
   "metadata": {},
   "outputs": [
    {
     "name": "stdout",
     "output_type": "stream",
     "text": [
      "The Ram's age is:  25\n",
      "The Raheem's age is:  30\n",
      "The Robert's age is:  35\n"
     ]
    }
   ],
   "source": [
    "list1=['Ram','Rahee','Robert']\n",
    "list2=[25,30,35]\n",
    "print(\"The Ram's age is: \",list2[0])\n",
    "print(\"The Raheem's age is: \",list2[1])\n",
    "print(\"The Robert's age is: \",list2[2])"
   ]
  },
  {
   "cell_type": "markdown",
   "id": "7a11dba0",
   "metadata": {},
   "source": [
    "# Zip"
   ]
  },
  {
   "cell_type": "code",
   "execution_count": 16,
   "id": "0ae316f4",
   "metadata": {},
   "outputs": [
    {
     "name": "stdout",
     "output_type": "stream",
     "text": [
      "Ram age is 25\n",
      "Rahee age is 30\n",
      "Robert age is 35\n"
     ]
    }
   ],
   "source": [
    "list1=['Ram','Rahee','Robert']\n",
    "list2=[25,30,35]\n",
    "for i,j in zip(list1,list2): #so here i is list1 ,j is list2\n",
    "    print('{} age is {}'.format(i,j))"
   ]
  },
  {
   "cell_type": "markdown",
   "id": "6cf44436",
   "metadata": {},
   "source": [
    "# Keywords\n",
    "1. max()\n",
    "2. min()\n",
    "3. type()\n",
    "4. len()\n",
    "5. zip()\n"
   ]
  },
  {
   "cell_type": "markdown",
   "id": "e5b76911",
   "metadata": {},
   "source": [
    "# Methods are different\n",
    "\n",
    "1. \n"
   ]
  },
  {
   "cell_type": "markdown",
   "id": "76d31add",
   "metadata": {},
   "source": [
    "# Sort"
   ]
  },
  {
   "cell_type": "code",
   "execution_count": 17,
   "id": "a2124322",
   "metadata": {},
   "outputs": [
    {
     "data": {
      "text/plain": [
       "['A', 'B', 'C', 'D']"
      ]
     },
     "execution_count": 17,
     "metadata": {},
     "output_type": "execute_result"
    }
   ],
   "source": [
    "list1=['B','D','A','C']\n",
    "list1.sort()\n",
    "list1"
   ]
  },
  {
   "cell_type": "code",
   "execution_count": null,
   "id": "3845c5fe",
   "metadata": {},
   "outputs": [],
   "source": []
  }
 ],
 "metadata": {
  "kernelspec": {
   "display_name": "Python 3 (ipykernel)",
   "language": "python",
   "name": "python3"
  },
  "language_info": {
   "codemirror_mode": {
    "name": "ipython",
    "version": 3
   },
   "file_extension": ".py",
   "mimetype": "text/x-python",
   "name": "python",
   "nbconvert_exporter": "python",
   "pygments_lexer": "ipython3",
   "version": "3.9.13"
  }
 },
 "nbformat": 4,
 "nbformat_minor": 5
}
