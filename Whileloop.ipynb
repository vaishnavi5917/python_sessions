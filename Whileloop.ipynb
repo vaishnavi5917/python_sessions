{
 "cells": [
  {
   "cell_type": "code",
   "execution_count": 1,
   "id": "91017cda",
   "metadata": {},
   "outputs": [
    {
     "name": "stdout",
     "output_type": "stream",
     "text": [
      "-1 -2 -3 -4 -5 -6 -7 -8 -9 -10 "
     ]
    }
   ],
   "source": [
    "i = -1\n",
    "while i >= -10:\n",
    "    print(i, end=' ')\n",
    "    i -= 1"
   ]
  },
  {
   "cell_type": "code",
   "execution_count": 2,
   "id": "76c96594",
   "metadata": {},
   "outputs": [
    {
     "name": "stdout",
     "output_type": "stream",
     "text": [
      "-10 -9 -8 -7 -6 -5 -4 -3 -2 -1 "
     ]
    }
   ],
   "source": [
    "i=-10\n",
    "while i < 0:\n",
    "    print(i,end=' ')\n",
    "    i+=1"
   ]
  },
  {
   "cell_type": "code",
   "execution_count": 3,
   "id": "f605b808",
   "metadata": {},
   "outputs": [
    {
     "name": "stdout",
     "output_type": "stream",
     "text": [
      "10 9 8 7 6 5 4 3 2 1 0 "
     ]
    }
   ],
   "source": [
    "i=10\n",
    "while i>-1:\n",
    "    print(i,end=' ')\n",
    "    i=i-1"
   ]
  },
  {
   "cell_type": "code",
   "execution_count": 7,
   "id": "9dcb176a",
   "metadata": {},
   "outputs": [
    {
     "name": "stdout",
     "output_type": "stream",
     "text": [
      "Enter a number:2000\n",
      "The hundred notes are: {} 20.0\n",
      "The fifty notes are: {} 40.0\n",
      "The ten notes are: {} 200.0\n"
     ]
    }
   ],
   "source": [
    "# whatsapp group given example\n",
    "# A cashier has currency notes of denominations 10,50,100.\n",
    "#If the amount to be withdrawn is input through the keyboards in hundreds, \n",
    "#find the total no of currency notes of each denomination the cashier will have to give to the withdrawer\n",
    "def notes():\n",
    "    try:\n",
    "        amount=eval(input(\"Enter a number:\"))\n",
    "        hundred=amount/100\n",
    "        fifty=amount/50\n",
    "        ten=amount/10\n",
    "        print(\"The hundred notes are: {}\",hundred)\n",
    "        print(\"The fifty notes are: {}\",fifty)\n",
    "        print(\"The ten notes are: {}\",ten)\n",
    "    except Exception as e:\n",
    "        print(e)\n",
    "\n",
    "notes()"
   ]
  },
  {
   "cell_type": "code",
   "execution_count": null,
   "id": "b7634e07",
   "metadata": {},
   "outputs": [],
   "source": []
  }
 ],
 "metadata": {
  "kernelspec": {
   "display_name": "Python 3 (ipykernel)",
   "language": "python",
   "name": "python3"
  },
  "language_info": {
   "codemirror_mode": {
    "name": "ipython",
    "version": 3
   },
   "file_extension": ".py",
   "mimetype": "text/x-python",
   "name": "python",
   "nbconvert_exporter": "python",
   "pygments_lexer": "ipython3",
   "version": "3.9.13"
  }
 },
 "nbformat": 4,
 "nbformat_minor": 5
}
