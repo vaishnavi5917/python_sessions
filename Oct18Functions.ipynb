{
 "cells": [
  {
   "cell_type": "code",
   "execution_count": 1,
   "id": "8aad3d5d",
   "metadata": {},
   "outputs": [],
   "source": [
    "# FUNCTIONS: \n",
    "#It is piece of code having set of instructions which we can recall multiple times. \n",
    "\n",
    "#First we r learning functions without arguments\n",
    "\n",
    "#DEFINITION: \n",
    "# It is a Block of code\n",
    "#have set of instructions\n",
    "#and can be recalled multiple times"
   ]
  },
  {
   "cell_type": "code",
   "execution_count": null,
   "id": "a4947049",
   "metadata": {},
   "outputs": [],
   "source": [
    "a=20\n",
    "b=30\n",
    "print(a+b)"
   ]
  },
  {
   "cell_type": "code",
   "execution_count": null,
   "id": "f873134e",
   "metadata": {},
   "outputs": [],
   "source": [
    "# SYNTAX\n",
    "\n",
    "def <function_name>(any fn will close by brackets):\n",
    "    #statement 1\n",
    "    #statement 2\n",
    "    #statement 3"
   ]
  },
  {
   "cell_type": "code",
   "execution_count": null,
   "id": "7def6ba6",
   "metadata": {},
   "outputs": [],
   "source": [
    "def add():\n",
    "    a=20\n",
    "    b=30\n",
    "    print(a+b)\n",
    "    \n",
    "#if u run the fn it will not return any output\n",
    "#until unless u call the function\n",
    "\n",
    "add()"
   ]
  },
  {
   "cell_type": "code",
   "execution_count": null,
   "id": "31e0adf1",
   "metadata": {},
   "outputs": [],
   "source": [
    "# i want to do an operation of adding a base salary and DA amount\n",
    "\n",
    "base_salary=eval(input(\"Enter amount of base salary: \"))\n",
    "DA_amount=eval(input(\"Enter DA amount\"))\n",
    "total_salary=base_salary+DA_amount\n",
    "print(\"The total salary is: \",total_salary)"
   ]
  },
  {
   "cell_type": "code",
   "execution_count": null,
   "id": "4a1b40d4",
   "metadata": {},
   "outputs": [],
   "source": [
    "def salary():\n",
    "    base_salary=eval(input(\"Enter amount of base salary: \"))\n",
    "    DA_amount=eval(input(\"Enter DA amount: \"))\n",
    "    total_salary=base_salary+DA_amount\n",
    "    print(\"The total salary is: \",total_salary)\n",
    "    \n",
    "salary()\n",
    "#if we dont call function again \n",
    "#it will not give any output or any errror"
   ]
  },
  {
   "cell_type": "code",
   "execution_count": null,
   "id": "840d7670",
   "metadata": {},
   "outputs": [],
   "source": [
    "#wap ask the user enter 3 nos and calculate average\n",
    "#implement a function on this\n",
    "\n",
    "no1=eval(input(\"Enter first no: \"))\n",
    "no2=eval(input(\"Enter second no: \"))\n",
    "no3=eval(input(\"Enter third no: \"))\n",
    "average=(no1+no2+no3)/3\n",
    "print(\"The average of 3 numbers is:\",average)"
   ]
  },
  {
   "cell_type": "code",
   "execution_count": null,
   "id": "d6e6f424",
   "metadata": {},
   "outputs": [],
   "source": [
    "def average():\n",
    "    no1=eval(input(\"Enter first no: \"))\n",
    "    no2=eval(input(\"Enter second no: \"))\n",
    "    no3=eval(input(\"Enter third no: \"))\n",
    "    average=(no1+no2+no3)/3\n",
    "    print(\"The average of 3 numbers is:\",average)\n",
    "    \n",
    "average()"
   ]
  },
  {
   "cell_type": "code",
   "execution_count": null,
   "id": "b04c8741",
   "metadata": {},
   "outputs": [],
   "source": [
    "#wap ask the user enter bill amount\n",
    "#enter how much tip u want to pay\n",
    "#then calculate total bill\n",
    "# implement function\n",
    "\n",
    "#1st method\n",
    "bill_amt=eval(input(\"Enter bill amount: \"))\n",
    "tip_amt=eval(input(\"Enter tip amount: \"))\n",
    "total_bill=bill_amt+tip_amt\n",
    "print(\"The total amount is:\",total_bill)"
   ]
  },
  {
   "cell_type": "code",
   "execution_count": null,
   "id": "c46ee02f",
   "metadata": {},
   "outputs": [],
   "source": [
    "#2nd method using function \n",
    "def bill():\n",
    "    bill_amt=eval(input(\"Enter bill amount: \"))\n",
    "    tip_amt=eval(input(\"Enter tip amount: \"))\n",
    "    total_bill=bill_amt+tip_amt\n",
    "    print(\"The total amount is:\",total_bill)\n",
    "\n",
    "bill()"
   ]
  },
  {
   "cell_type": "code",
   "execution_count": null,
   "id": "f3051bf7",
   "metadata": {},
   "outputs": [],
   "source": [
    "#3rd method using try-exception\n",
    "def bill():\n",
    "    try:\n",
    "        bill_amt=eval(input(\"Enter bill amount: \"))\n",
    "        tip_amt=eval(input(\"Enter tip amount: \"))\n",
    "        total_bill=bill_amt+tip_amt\n",
    "        print(\"The total amount is:\",total_bill)\n",
    "        \n",
    "    except Exception as e:\n",
    "        print(e)\n",
    "\n",
    "bill()"
   ]
  },
  {
   "cell_type": "code",
   "execution_count": null,
   "id": "0eadc2fe",
   "metadata": {},
   "outputs": [],
   "source": [
    "#wap ask the user to enter a no\n",
    "#print if it is an even no or odd no\n",
    "#implement a function on this\n",
    "\n",
    "def number():\n",
    "    num=eval(input(\"Enter a number: \"))\n",
    "    if num%2==0:\n",
    "        print(\"It is a even number\")\n",
    "    else:\n",
    "        print(\"It is a odd number\")\n",
    "        \n",
    "number()"
   ]
  },
  {
   "cell_type": "code",
   "execution_count": null,
   "id": "0e91b658",
   "metadata": {},
   "outputs": [],
   "source": [
    "def number():\n",
    "    try:\n",
    "        num=eval(input(\"Enter a number: \"))\n",
    "        if num%2==0:\n",
    "            print(\"It is a even number\")\n",
    "        else:\n",
    "            print(\"It is a odd number\")\n",
    "    except Exception as e:\n",
    "        print(e)\n",
    "number()"
   ]
  },
  {
   "cell_type": "code",
   "execution_count": null,
   "id": "c58ac0c3",
   "metadata": {},
   "outputs": [],
   "source": [
    "import random\n",
    "random.randint()"
   ]
  },
  {
   "cell_type": "code",
   "execution_count": null,
   "id": "b629adb9",
   "metadata": {},
   "outputs": [],
   "source": [
    "#with arguments\n",
    "\n",
    "def add(a,b):\n",
    "    print(a+b)\n",
    "add(20,30)\n",
    "\n",
    "#how many variables u provide"
   ]
  },
  {
   "cell_type": "code",
   "execution_count": null,
   "id": "fc4b6c53",
   "metadata": {},
   "outputs": [],
   "source": [
    "def add(a):\n",
    "    b=30\n",
    "    print(a+b)\n",
    "add(20)"
   ]
  },
  {
   "cell_type": "code",
   "execution_count": null,
   "id": "503d6dc4",
   "metadata": {},
   "outputs": [],
   "source": [
    "def add(a,b):\n",
    "    print(a+b)\n",
    "add(20,30) # here it will take a as 20 \n",
    "\n",
    "def add(b,a):\n",
    "    print(a+b)\n",
    "add(20,10) # here it will take b as 20 "
   ]
  },
  {
   "cell_type": "code",
   "execution_count": null,
   "id": "08685b4b",
   "metadata": {},
   "outputs": [],
   "source": [
    "#def add(a,b):\n",
    "    #print(a+b)\n",
    "    \n",
    "#add() #error would be of missing 2 req positional arguments\n",
    "\n",
    "def add():\n",
    "    print(x+y)\n",
    "    \n",
    "add"
   ]
  },
  {
   "cell_type": "code",
   "execution_count": 1,
   "id": "71bef9b9",
   "metadata": {},
   "outputs": [
    {
     "name": "stdout",
     "output_type": "stream",
     "text": [
      "The total salary is:  35000\n"
     ]
    }
   ],
   "source": [
    "#without arguments\n",
    "#def salary():\n",
    "    #base_salary=eval(input(\"Enter amount of base salary: \"))\n",
    "    #DA_amount=eval(input(\"Enter DA amount: \"))\n",
    "    #total_salary=base_salary+DA_amount\n",
    "    #print(\"The total salary is: \",total_salary)\n",
    "    \n",
    "#salary()\n",
    "\n",
    "#with arguments\n",
    "def salary(base_salary,DA_amount):\n",
    "    total_salary=base_salary+DA_amount\n",
    "    print(\"The total salary is: \",total_salary)\n",
    "    \n",
    "salary(25000,10000)"
   ]
  },
  {
   "cell_type": "code",
   "execution_count": 2,
   "id": "627bde38",
   "metadata": {},
   "outputs": [
    {
     "name": "stdout",
     "output_type": "stream",
     "text": [
      "avg is:  20.0\n"
     ]
    }
   ],
   "source": [
    "def avg(n1,n2,n3):\n",
    "    avg=(n1+n2+n3)/3\n",
    "    print(\"avg is: \",avg)\n",
    "    \n",
    "avg(10,20,30)"
   ]
  },
  {
   "cell_type": "code",
   "execution_count": 3,
   "id": "8dc290b4",
   "metadata": {},
   "outputs": [
    {
     "name": "stdout",
     "output_type": "stream",
     "text": [
      "avg is:  110.0\n"
     ]
    }
   ],
   "source": [
    "#1. WITHOUT ARGUMENTS\n",
    "#2. WITH ARGUMENTS\n",
    "#3. DEFAULT ARGUMENTS\n",
    "\n",
    "def avg(n1,n2,n3=300):\n",
    "    avg=(n1+n2+n3)/3\n",
    "    print(\"avg is: \",avg)\n",
    "    \n",
    "avg(10,20) #Here n1=10, n2=20, n3=300(default argument)"
   ]
  },
  {
   "cell_type": "code",
   "execution_count": 2,
   "id": "d916ba2c",
   "metadata": {},
   "outputs": [
    {
     "name": "stdout",
     "output_type": "stream",
     "text": [
      "n1: 10\n",
      "n2: 20\n",
      "n3: 500\n",
      "avg is:  176.66666666666666\n"
     ]
    }
   ],
   "source": [
    "def avg(n1,n2,n3=500):  #default parameter shld be last1\n",
    "    print(\"n1:\",n1)\n",
    "    print(\"n2:\",n2)\n",
    "    print(\"n3:\",n3)\n",
    "    avg=(n1+n2+n3)/3\n",
    "    print(\"avg is: \",avg)\n",
    "    \n",
    "avg(10,20)\n",
    "\n",
    "#initialization is first------\n",
    "#or calling is first\n",
    "#latest value n3=30\n",
    "\n",
    "#step1: what initialization\n",
    "#step2: calling\n",
    "#step3: inside the function"
   ]
  },
  {
   "cell_type": "code",
   "execution_count": 7,
   "id": "7ddbdfef",
   "metadata": {},
   "outputs": [
    {
     "name": "stdout",
     "output_type": "stream",
     "text": [
      "150\n"
     ]
    }
   ],
   "source": [
    "def add(x,y):\n",
    "    print(x+y)\n",
    "    \n",
    "add(50,100)\n",
    "    "
   ]
  },
  {
   "cell_type": "code",
   "execution_count": 9,
   "id": "5cf4ded9",
   "metadata": {},
   "outputs": [
    {
     "name": "stdout",
     "output_type": "stream",
     "text": [
      "n1: 10\n",
      "n2: 20\n",
      "n3: 500\n",
      "avg is:  176.66666666666666\n"
     ]
    },
    {
     "data": {
      "text/plain": [
       "176.66666666666666"
      ]
     },
     "execution_count": 9,
     "metadata": {},
     "output_type": "execute_result"
    }
   ],
   "source": [
    "# using Return function:\n",
    "\n",
    "def avg(n1,n2,n3=500):  #default parameter shld be last1\n",
    "    print(\"n1:\",n1)\n",
    "    print(\"n2:\",n2)\n",
    "    print(\"n3:\",n3)\n",
    "    avg=(n1+n2+n3)/3\n",
    "    print(\"avg is: \",avg)\n",
    "    return(avg)\n",
    "\n",
    "avg(10,20)"
   ]
  },
  {
   "cell_type": "code",
   "execution_count": null,
   "id": "0afca147",
   "metadata": {},
   "outputs": [],
   "source": []
  }
 ],
 "metadata": {
  "kernelspec": {
   "display_name": "Python 3 (ipykernel)",
   "language": "python",
   "name": "python3"
  },
  "language_info": {
   "codemirror_mode": {
    "name": "ipython",
    "version": 3
   },
   "file_extension": ".py",
   "mimetype": "text/x-python",
   "name": "python",
   "nbconvert_exporter": "python",
   "pygments_lexer": "ipython3",
   "version": "3.9.13"
  }
 },
 "nbformat": 4,
 "nbformat_minor": 5
}
