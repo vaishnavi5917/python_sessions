{
 "cells": [
  {
   "cell_type": "code",
   "execution_count": null,
   "id": "9f4ca38c",
   "metadata": {},
   "outputs": [],
   "source": [
    "# CONDITIONAL STATEMENTS \n",
    "\n",
    "what is meant by conditions in english\n",
    "suppose if some thing is happend in one direction so that is the solution\n",
    "if not is happend in different direction so that another one is solu\n",
    "else is hapend in different direction so that another one is solut\n",
    "\n",
    "if\n",
    "if not ======== else"
   ]
  },
  {
   "cell_type": "code",
   "execution_count": null,
   "id": "cfaec140",
   "metadata": {},
   "outputs": [],
   "source": [
    "yes or no\n",
    "if ======= yes\n",
    "else ===== no"
   ]
  },
  {
   "cell_type": "code",
   "execution_count": null,
   "id": "a03a3876",
   "metadata": {},
   "outputs": [],
   "source": [
    "# syntax\n",
    "# whenever the colon is there indentation will come\n",
    "if <condition>:\n",
    "#st1\n",
    "#st2\n",
    "#st3"
   ]
  },
  {
   "cell_type": "code",
   "execution_count": null,
   "id": "af1573e8",
   "metadata": {},
   "outputs": [],
   "source": [
    "# FIRST USING \"IF\" CONDITION"
   ]
  },
  {
   "cell_type": "code",
   "execution_count": 1,
   "id": "3ef592cc",
   "metadata": {},
   "outputs": [
    {
     "name": "stdout",
     "output_type": "stream",
     "text": [
      "Enter a name:python\n",
      "hello\n"
     ]
    }
   ],
   "source": [
    "name=input(\"Enter a name:\") #step-1: ask keyboard enter some name \n",
    "if name=='python': #step-2: 'python'=='python' \n",
    "    print(\"hello\") #step-3 then print hello"
   ]
  },
  {
   "cell_type": "code",
   "execution_count": null,
   "id": "4fec9ecf",
   "metadata": {},
   "outputs": [],
   "source": [
    "name='python' #storing the value\n",
    "name='python' #comparing the value"
   ]
  },
  {
   "cell_type": "code",
   "execution_count": 2,
   "id": "973c13ab",
   "metadata": {},
   "outputs": [
    {
     "data": {
      "text/plain": [
       "False"
      ]
     },
     "execution_count": 2,
     "metadata": {},
     "output_type": "execute_result"
    }
   ],
   "source": [
    "'anil'=='python'"
   ]
  },
  {
   "cell_type": "code",
   "execution_count": null,
   "id": "ce3059fd",
   "metadata": {},
   "outputs": [],
   "source": [
    "if <True/False>"
   ]
  },
  {
   "cell_type": "code",
   "execution_count": 4,
   "id": "682de2a1",
   "metadata": {},
   "outputs": [
    {
     "name": "stdout",
     "output_type": "stream",
     "text": [
      "enter a name:p\n"
     ]
    }
   ],
   "source": [
    "name=input(\"enter a name:\") #step1: ask keyboard name='python'\n",
    "if name=='python':  #step2: if python==python if True:\n",
    "    print('hello')  #inside the if block\n",
    "    print(name)     #name also inside the if block "
   ]
  },
  {
   "cell_type": "code",
   "execution_count": 5,
   "id": "2905841d",
   "metadata": {},
   "outputs": [
    {
     "name": "stdout",
     "output_type": "stream",
     "text": [
      "hello\n",
      "python\n"
     ]
    }
   ],
   "source": [
    "name='python'\n",
    "\n",
    "if name=='python':  \n",
    "    print('hello')  \n",
    "    \n",
    "print(name)"
   ]
  },
  {
   "cell_type": "code",
   "execution_count": 6,
   "id": "057d5cf1",
   "metadata": {},
   "outputs": [
    {
     "name": "stdout",
     "output_type": "stream",
     "text": [
      "p\n"
     ]
    }
   ],
   "source": [
    "name='p'\n",
    "\n",
    "if name=='python': #'p'=='python' False  \n",
    "    print('hello')  #not entering into if block so no permission\n",
    "    \n",
    "print(name)"
   ]
  },
  {
   "cell_type": "code",
   "execution_count": 9,
   "id": "6147e39a",
   "metadata": {},
   "outputs": [
    {
     "name": "stdout",
     "output_type": "stream",
     "text": [
      "8\n"
     ]
    }
   ],
   "source": [
    "name='python'\n",
    "if name=='python':  \n",
    "    print(3++5)  \n",
    "\n",
    "else:\n",
    "    print(\"Enter correct ans\")"
   ]
  },
  {
   "cell_type": "code",
   "execution_count": 10,
   "id": "00ef61a7",
   "metadata": {},
   "outputs": [
    {
     "name": "stdout",
     "output_type": "stream",
     "text": [
      "Enter correct ans\n"
     ]
    }
   ],
   "source": [
    "name='p'\n",
    "if name=='python':  \n",
    "    print(3+5)  \n",
    "\n",
    "else:\n",
    "    print(\"Enter correct ans\")"
   ]
  },
  {
   "cell_type": "code",
   "execution_count": 11,
   "id": "6dff6303",
   "metadata": {},
   "outputs": [
    {
     "name": "stdout",
     "output_type": "stream",
     "text": [
      "Enter a name:python\n",
      "Hello python\n",
      "How are you\n",
      "hey\n",
      "bro\n"
     ]
    }
   ],
   "source": [
    "name=input(\"Enter a name:\") #name=python\n",
    "if name=='python':\n",
    "    print('Hello', name)\n",
    "    print(\"How are you\")\n",
    "else:\n",
    "    print(\"Provide a valid one\")\n",
    "    print(\"You are out\")\n",
    "    \n",
    "print('hey')\n",
    "print('bro')"
   ]
  },
  {
   "cell_type": "code",
   "execution_count": 2,
   "id": "27755d2f",
   "metadata": {},
   "outputs": [
    {
     "ename": "SyntaxError",
     "evalue": "invalid syntax (2111928095.py, line 6)",
     "output_type": "error",
     "traceback": [
      "\u001b[1;36m  File \u001b[1;32m\"C:\\Users\\Vaishnavi\\AppData\\Local\\Temp\\ipykernel_22868\\2111928095.py\"\u001b[1;36m, line \u001b[1;32m6\u001b[0m\n\u001b[1;33m    if number%2=0:\u001b[0m\n\u001b[1;37m               ^\u001b[0m\n\u001b[1;31mSyntaxError\u001b[0m\u001b[1;31m:\u001b[0m invalid syntax\n"
     ]
    }
   ],
   "source": [
    "#wap ask the user to enter a no\n",
    "# and check whether it is a even or odd no\n",
    "\n",
    "try:\n",
    "    number=eval(input(\"Enter a number:\"))\n",
    "    if number%2==0:\n",
    "        print(\"Even number\")\n",
    "\n",
    "    else:\n",
    "        print(\"Odd number\")\n",
    "        \n",
    "except Exception as e:\n",
    "    print(e)"
   ]
  },
  {
   "cell_type": "code",
   "execution_count": 17,
   "id": "9864275b",
   "metadata": {},
   "outputs": [
    {
     "data": {
      "text/plain": [
       "1"
      ]
     },
     "execution_count": 17,
     "metadata": {},
     "output_type": "execute_result"
    }
   ],
   "source": [
    "9%2"
   ]
  },
  {
   "cell_type": "code",
   "execution_count": 1,
   "id": "974d8e4e",
   "metadata": {},
   "outputs": [
    {
     "data": {
      "text/plain": [
       "0"
      ]
     },
     "execution_count": 1,
     "metadata": {},
     "output_type": "execute_result"
    }
   ],
   "source": [
    "8%2"
   ]
  },
  {
   "cell_type": "code",
   "execution_count": 19,
   "id": "ae646645",
   "metadata": {},
   "outputs": [
    {
     "name": "stdout",
     "output_type": "stream",
     "text": [
      "49 is odd no\n"
     ]
    }
   ],
   "source": [
    "#wap ask the user to generate a random integer no\n",
    "#print it is an even or odd no\n",
    "\n",
    "import random\n",
    "try:\n",
    "    n=random.randint(1,100)\n",
    "    \n",
    "    if n%2==0:\n",
    "        print(\"{}is a even no\".format(n))\n",
    "    else:\n",
    "        print(\"{} is odd no\".format(n))\n",
    "        \n",
    "except Exception as e:\n",
    "    print(e)"
   ]
  },
  {
   "cell_type": "code",
   "execution_count": 23,
   "id": "ba87d8ff",
   "metadata": {},
   "outputs": [
    {
     "name": "stdout",
     "output_type": "stream",
     "text": [
      "Enter a no:-9\n",
      "negative\n"
     ]
    }
   ],
   "source": [
    "# wap ask the user to enter a no\n",
    "# if it is>=0 then print positive\n",
    "#otherwise print it is a negative no\n",
    "import random\n",
    "try:\n",
    "    n=random.randint(-100,100)\n",
    "    no=eval(input(\"Enter a no:\"))\n",
    "    if no>=0:\n",
    "        print(\"positive\")\n",
    "\n",
    "    else:\n",
    "        print(\"negative\")\n",
    "        \n",
    "except Exception as e:\n",
    "    print(e)"
   ]
  },
  {
   "cell_type": "code",
   "execution_count": null,
   "id": "fffc95a4",
   "metadata": {},
   "outputs": [],
   "source": [
    "n=eval(input(\"Enter a no:\"))\n",
    "if n>0:\n",
    "    print(\"{} is a positive no\".format(n))\n",
    "\n",
    "elif n<0:\n",
    "    print(\"is a negative no\".format(n))\n",
    "        \n",
    "else \n",
    "    print(\"it is a zero\")\n",
    "    "
   ]
  },
  {
   "cell_type": "code",
   "execution_count": 2,
   "id": "53f3b3bc",
   "metadata": {},
   "outputs": [
    {
     "name": "stdout",
     "output_type": "stream",
     "text": [
      "eenter a number:5\n",
      "enter only 1 2 3 4\n"
     ]
    }
   ],
   "source": [
    "#wap ask the user enter a no\n",
    "# if no=1   print one\n",
    "# if no=2   print two\n",
    "# if no=3   print three\n",
    "# if no=4   print four\n",
    "#otherwise print enter only 1 2 3 4\n",
    "\n",
    "try:\n",
    "    num=eval(input(\"eenter a number:\"))\n",
    "    if num==1:\n",
    "        print('one')\n",
    "    elif num==2:\n",
    "        print('two')\n",
    "    elif num==3:\n",
    "        print('three')\n",
    "    elif num==4:\n",
    "        print('four')\n",
    "    else:\n",
    "        print('enter only 1 2 3 4')\n",
    "        \n",
    "except Exception as e:\n",
    "    print(e)\n"
   ]
  },
  {
   "cell_type": "code",
   "execution_count": 3,
   "id": "7814ab8a",
   "metadata": {},
   "outputs": [
    {
     "name": "stdout",
     "output_type": "stream",
     "text": [
      "eenter a number:3\n",
      "three\n"
     ]
    }
   ],
   "source": [
    "try:\n",
    "    num=eval(input(\"eenter a number:\"))\n",
    "    if num==1:\n",
    "        print('one')\n",
    "    elif num==2:\n",
    "        print('two')\n",
    "    elif num==3:\n",
    "        print('three')\n",
    "    elif num==4:\n",
    "        print('four')\n",
    "    else:\n",
    "        print('enter only 1 2 3 4')\n",
    "        \n",
    "except Exception as e:\n",
    "    print(e)"
   ]
  },
  {
   "cell_type": "code",
   "execution_count": null,
   "id": "3035f6e6",
   "metadata": {},
   "outputs": [],
   "source": []
  }
 ],
 "metadata": {
  "kernelspec": {
   "display_name": "Python 3 (ipykernel)",
   "language": "python",
   "name": "python3"
  },
  "language_info": {
   "codemirror_mode": {
    "name": "ipython",
    "version": 3
   },
   "file_extension": ".py",
   "mimetype": "text/x-python",
   "name": "python",
   "nbconvert_exporter": "python",
   "pygments_lexer": "ipython3",
   "version": "3.9.13"
  }
 },
 "nbformat": 4,
 "nbformat_minor": 5
}
