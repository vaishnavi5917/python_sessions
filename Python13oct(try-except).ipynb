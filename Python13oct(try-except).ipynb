{
 "cells": [
  {
   "cell_type": "code",
   "execution_count": 5,
   "id": "6578f38a",
   "metadata": {},
   "outputs": [
    {
     "name": "stdout",
     "output_type": "stream",
     "text": [
      "Enter a number:100\n",
      "200\n"
     ]
    }
   ],
   "source": [
    "#try-except:\n",
    "#In try block we need to write the code\n",
    "try: \n",
    "    n1=eval(input(\"Enter a number:\"))\n",
    "    n2=100\n",
    "    add=n1+n2\n",
    "    print(add)\n",
    "    \n",
    "# In except block we need to write error code\n",
    "\n",
    "except:\n",
    "    print(\"Error coming look at the syntax\")\n",
    "    \n",
    "#when error is in code, then except block will print\n",
    "# First on is without error and second is with error."
   ]
  },
  {
   "cell_type": "code",
   "execution_count": 6,
   "id": "d6ad4025",
   "metadata": {},
   "outputs": [
    {
     "name": "stdout",
     "output_type": "stream",
     "text": [
      "Enter a number:python\n",
      "Error coming look at the syntax\n"
     ]
    }
   ],
   "source": [
    "#try-except:\n",
    "#In try block we need to write the code\n",
    "try: \n",
    "    n1=eval(input(\"Enter a number:\"))\n",
    "    n2=100\n",
    "    add=n1+n2\n",
    "    print(add)\n",
    "    \n",
    "# In except block we need to write error code\n",
    "\n",
    "except:\n",
    "    print(\"Error coming look at the syntax\")\n",
    "    \n",
    "#when error is in code, then except block will print"
   ]
  },
  {
   "cell_type": "code",
   "execution_count": 7,
   "id": "c8ceec45",
   "metadata": {},
   "outputs": [
    {
     "name": "stdout",
     "output_type": "stream",
     "text": [
      "Enter a number:100\n",
      "200\n"
     ]
    }
   ],
   "source": [
    "n1=eval(input(\"Enter a number:\"))\n",
    "n2=100\n",
    "add=n1+n2\n",
    "print(add)"
   ]
  },
  {
   "cell_type": "code",
   "execution_count": 8,
   "id": "8f18baae",
   "metadata": {},
   "outputs": [
    {
     "name": "stdout",
     "output_type": "stream",
     "text": [
      "Enter a number:0\n",
      "100\n"
     ]
    }
   ],
   "source": [
    "try: \n",
    "    n1=eval(input(\"Enter a number:\"))\n",
    "    n2=100\n",
    "    add=n1+n2\n",
    "    print(add)\n",
    "\n",
    "except Exception as e:\n",
    "    print(e) #This is how to catch the error"
   ]
  },
  {
   "cell_type": "code",
   "execution_count": 10,
   "id": "141bb6f3",
   "metadata": {},
   "outputs": [
    {
     "name": "stdout",
     "output_type": "stream",
     "text": [
      "Enter a number:0\n",
      "division by zero\n"
     ]
    }
   ],
   "source": [
    "try: \n",
    "    n1=eval(input(\"Enter a number:\"))\n",
    "    n2=0\n",
    "    add=n1/n2\n",
    "    print(add)\n",
    "\n",
    "except Exception as e: #Exception is written as e becoz we can't write full exceptio name\n",
    "    print(e) #This is how to catch the error"
   ]
  },
  {
   "cell_type": "code",
   "execution_count": 11,
   "id": "d1415c6c",
   "metadata": {},
   "outputs": [
    {
     "name": "stdout",
     "output_type": "stream",
     "text": [
      "the addition of 100 and 200 is 300\n"
     ]
    }
   ],
   "source": [
    "try:\n",
    "    number1=100\n",
    "    number2=200\n",
    "    add=number1+number2\n",
    "    print(\"the addition of {} and {} is {}\".format(number1,number2,add))\n",
    "    \n",
    "except exception as e:\n",
    "    print(e)"
   ]
  },
  {
   "cell_type": "code",
   "execution_count": 14,
   "id": "864a5e7e",
   "metadata": {},
   "outputs": [
    {
     "name": "stdout",
     "output_type": "stream",
     "text": [
      "enter a number1:100\n",
      "enter a number2:200\n",
      "the addition of 100 and 200 is 100200\n"
     ]
    }
   ],
   "source": [
    "try:\n",
    "    number1=input(\"enter a number1:\") # step-1: it will ask the number1='100'\n",
    "    number2=input(\"enter a number2:\") # step-2: it will ask the number2='200'\n",
    "    add=number1+number2 # '100'+'200'='100200'\n",
    "    print(\"the addition of {} and {} is {}\".format(number1,number2,add))\n",
    "    \n",
    "except Exception as e:\n",
    "    print(e)"
   ]
  },
  {
   "cell_type": "code",
   "execution_count": 15,
   "id": "f0a8a58d",
   "metadata": {},
   "outputs": [
    {
     "name": "stdout",
     "output_type": "stream",
     "text": [
      "enter a number1:100\n",
      "enter a number2:400\n",
      "the addition of 100 and 400 is 500\n"
     ]
    }
   ],
   "source": [
    "try:\n",
    "    number1=input(\"enter a number1:\") # step-1: it will ask the number1='100'\n",
    "    number2=input(\"enter a number2:\") # step-2: it will ask the number2='200'\n",
    "    add=int(number1)+int(number2) # int('100')+int('200')=100+200=\n",
    "    print(\"the addition of {} and {} is {}\".format(number1,number2,add))\n",
    "    \n",
    "except Exception as e:\n",
    "    print(e)"
   ]
  },
  {
   "cell_type": "code",
   "execution_count": null,
   "id": "93d966fb",
   "metadata": {},
   "outputs": [],
   "source": [
    "# ----------------------case-1:---------------------------------\n",
    "number1=100 # manually we provided value 100\n",
    "number2=200 # manually we provided value 200\n",
    "add=number1+number2 # 100+200 =300\n",
    "print(\"the addition of {} and {} is {}\".format(number1,number2,add))\n",
    "#------------------ case-2-------------------------------------\n",
    "number1=input(\"enter a number1:\") # step-1: it will ask the number1='100'\n",
    "number2=input(\"enter a number2:\") # step-2: it will ask the number2='200'\n",
    "add=number1+number2 # '100'+'200'='100200'\n",
    "print(\"the addition of {} and {} is {}\".format(number1,number2,add))\n",
    "#---------------- case-3(type casting)-------------------------------------\n",
    "number1=input(\"enter a number1:\") # step-1: it will ask the number1='100'\n",
    "number2=input(\"enter a number2:\") # step-2: it will ask the number2='200'\n",
    "add=int(number1)+int(number2) # int('100')+int('200')=100+200=\n",
    "print(\"the addition of {} and {} is {}\".format(number1,number2,add))"
   ]
  },
  {
   "cell_type": "code",
   "execution_count": 16,
   "id": "87ae3d66",
   "metadata": {},
   "outputs": [
    {
     "name": "stdout",
     "output_type": "stream",
     "text": [
      "enter a number1:100\n",
      "enter a number2:200\n",
      "the addition of 100 and 200 is 300\n"
     ]
    }
   ],
   "source": [
    "#---------------- case-4(type casting)-------------------------------------\n",
    "try:\n",
    "    number1=int(input(\"enter a number1:\")) # step-1: it will ask the number1=in\n",
    "    number2=int(input(\"enter a number2:\")) # step-2: it will ask the number2=in\n",
    "    add=number1+number2 # 100+200=300\n",
    "    print(\"the addition of {} and {} is {}\".format(number1,number2,add))\n",
    "\n",
    "except Exception as e:\n",
    "    print(e)"
   ]
  },
  {
   "cell_type": "code",
   "execution_count": 17,
   "id": "f2c6378d",
   "metadata": {},
   "outputs": [
    {
     "name": "stdout",
     "output_type": "stream",
     "text": [
      "enter n1:100\n",
      "enter n2:200\n",
      "the addition of 100 and 200 is : 300\n",
      "the subraction of 100 and 200 is : -100\n",
      "the multiplication of 100 and 200 is : 20000\n"
     ]
    }
   ],
   "source": [
    "try:\n",
    "    num1=eval(input(\"enter n1:\")) # step-1: int('100.5') ===== error\n",
    "    num2=eval(input(\"enter n2:\"))\n",
    "    ans= num1+num2\n",
    "    sub = num1-num2\n",
    "    mul= num1*num2\n",
    "    print(\"the addition of {} and {} is : {}\".format(num1,num2,ans))\n",
    "    print(\"the subraction of {} and {} is : {}\".format(num1,num2,sub))\n",
    "    print(\"the multiplication of {} and {} is : {}\".format(num1,num2,mul))\n",
    "    \n",
    "except Exception as e:\n",
    "    print(e)"
   ]
  },
  {
   "cell_type": "code",
   "execution_count": 20,
   "id": "15d5a528",
   "metadata": {},
   "outputs": [
    {
     "name": "stdout",
     "output_type": "stream",
     "text": [
      "enter n1:p\n",
      "name 'p' is not defined\n"
     ]
    }
   ],
   "source": [
    "try:\n",
    "    num1=eval(input(\"enter n1:\")) # step-1: int('100.5') ===== error\n",
    "    num2=eval(input(\"enter n2:\"))\n",
    "    ans= num1+num2\n",
    "    sub = num1-num2\n",
    "    mul= num1*num2\n",
    "    print(\"the addition of {} and {} is : {}\".format(num1,num2,ans))\n",
    "    print(\"the subraction of {} and {} is : {}\".format(num1,num2,sub))\n",
    "    print(\"the multiplication of {} and {} is : {}\".format(num1,num2,mul))\n",
    "    \n",
    "except Exception as e:\n",
    "    print(e)"
   ]
  },
  {
   "cell_type": "code",
   "execution_count": 22,
   "id": "9daf7d9a",
   "metadata": {},
   "outputs": [
    {
     "name": "stdout",
     "output_type": "stream",
     "text": [
      "300\n",
      "enter no 1:100\n",
      "enter no 2:200\n",
      "300\n"
     ]
    }
   ],
   "source": [
    "#1.wap ask the user enter two numbers and add those number\n",
    "num1=100\n",
    "num2=200\n",
    "add=num1+num2\n",
    "print(add)\n",
    "\n",
    "#2. wap ask the user enter numbers from keyboard and add those numbers\n",
    "no1=eval(input(\"enter no 1:\"))\n",
    "no2=eval(input(\"enter no 2:\"))\n",
    "add2=no1+no2\n",
    "print(add2)\n",
    "\n",
    "#3.wap ask the user to enter 2 random integer nos and add those nos\n"
   ]
  },
  {
   "cell_type": "code",
   "execution_count": 3,
   "id": "25d64488",
   "metadata": {},
   "outputs": [
    {
     "name": "stdout",
     "output_type": "stream",
     "text": [
      "number1 is: 90\n",
      "number2 is: 98\n",
      "188\n"
     ]
    }
   ],
   "source": [
    "import random\n",
    "number1=random.randint(1,100) #shift+tab\n",
    "print('number1 is:',number1)\n",
    "number2=random.randint(1,200)\n",
    "print('number2 is:',number2)\n",
    "add=number1+number2\n",
    "print(add)"
   ]
  },
  {
   "cell_type": "code",
   "execution_count": 4,
   "id": "54ebfe53",
   "metadata": {},
   "outputs": [
    {
     "name": "stdout",
     "output_type": "stream",
     "text": [
      "Help on method randrange in module random:\n",
      "\n",
      "randrange(start, stop=None, step=1) method of random.Random instance\n",
      "    Choose a random item from range(start, stop[, step]).\n",
      "    \n",
      "    This fixes the problem with randint() which includes the\n",
      "    endpoint; in Python this is usually not what you want.\n",
      "\n"
     ]
    }
   ],
   "source": [
    "help(random.randrange)"
   ]
  },
  {
   "cell_type": "code",
   "execution_count": 5,
   "id": "f74ec554",
   "metadata": {},
   "outputs": [
    {
     "data": {
      "text/plain": [
       "80"
      ]
     },
     "execution_count": 5,
     "metadata": {},
     "output_type": "execute_result"
    }
   ],
   "source": [
    "random.randrange(0,100,step=5)\n",
    "\n",
    "#start=0\n",
    "#stop=100\n",
    "#step=5\n",
    "\n",
    "# 0  5  10  15  20   25    30.....\n",
    "\n",
    "#Loops clear idea\n",
    "\n",
    "#read python everybody"
   ]
  },
  {
   "cell_type": "code",
   "execution_count": null,
   "id": "22d6d61f",
   "metadata": {},
   "outputs": [],
   "source": [
    "import <package_name>\n",
    "dir(<package_name)\n",
    "help(<package_name>.method"
   ]
  },
  {
   "cell_type": "code",
   "execution_count": 6,
   "id": "6d77a172",
   "metadata": {},
   "outputs": [
    {
     "data": {
      "text/plain": [
       "['BPF',\n",
       " 'LOG4',\n",
       " 'NV_MAGICCONST',\n",
       " 'RECIP_BPF',\n",
       " 'Random',\n",
       " 'SG_MAGICCONST',\n",
       " 'SystemRandom',\n",
       " 'TWOPI',\n",
       " '_Sequence',\n",
       " '_Set',\n",
       " '__all__',\n",
       " '__builtins__',\n",
       " '__cached__',\n",
       " '__doc__',\n",
       " '__file__',\n",
       " '__loader__',\n",
       " '__name__',\n",
       " '__package__',\n",
       " '__spec__',\n",
       " '_accumulate',\n",
       " '_acos',\n",
       " '_bisect',\n",
       " '_ceil',\n",
       " '_cos',\n",
       " '_e',\n",
       " '_exp',\n",
       " '_floor',\n",
       " '_inst',\n",
       " '_log',\n",
       " '_os',\n",
       " '_pi',\n",
       " '_random',\n",
       " '_repeat',\n",
       " '_sha512',\n",
       " '_sin',\n",
       " '_sqrt',\n",
       " '_test',\n",
       " '_test_generator',\n",
       " '_urandom',\n",
       " '_warn',\n",
       " 'betavariate',\n",
       " 'choice',\n",
       " 'choices',\n",
       " 'expovariate',\n",
       " 'gammavariate',\n",
       " 'gauss',\n",
       " 'getrandbits',\n",
       " 'getstate',\n",
       " 'lognormvariate',\n",
       " 'normalvariate',\n",
       " 'paretovariate',\n",
       " 'randbytes',\n",
       " 'randint',\n",
       " 'random',\n",
       " 'randrange',\n",
       " 'sample',\n",
       " 'seed',\n",
       " 'setstate',\n",
       " 'shuffle',\n",
       " 'triangular',\n",
       " 'uniform',\n",
       " 'vonmisesvariate',\n",
       " 'weibullvariate']"
      ]
     },
     "execution_count": 6,
     "metadata": {},
     "output_type": "execute_result"
    }
   ],
   "source": [
    "import random\n",
    "dir(random)"
   ]
  },
  {
   "cell_type": "code",
   "execution_count": 7,
   "id": "0b150ea3",
   "metadata": {},
   "outputs": [
    {
     "name": "stdout",
     "output_type": "stream",
     "text": [
      "Help on method randint in module random:\n",
      "\n",
      "randint(a, b) method of random.Random instance\n",
      "    Return random integer in range [a, b], including both end points.\n",
      "\n"
     ]
    }
   ],
   "source": [
    "help(random.randint)"
   ]
  },
  {
   "cell_type": "code",
   "execution_count": null,
   "id": "54a8f28f",
   "metadata": {},
   "outputs": [],
   "source": [
    "#sir how to find in which package it is there. only by googling anaconda rep\n",
    "\n",
    "pip freeze "
   ]
  },
  {
   "cell_type": "code",
   "execution_count": null,
   "id": "c09cc42e",
   "metadata": {},
   "outputs": [],
   "source": [
    "what is difference between randint and randrange "
   ]
  },
  {
   "cell_type": "code",
   "execution_count": 8,
   "id": "32a3c11c",
   "metadata": {},
   "outputs": [],
   "source": [
    "import pandas"
   ]
  },
  {
   "cell_type": "code",
   "execution_count": 10,
   "id": "ab4ad303",
   "metadata": {},
   "outputs": [
    {
     "data": {
      "text/plain": [
       "['BooleanDtype',\n",
       " 'Categorical',\n",
       " 'CategoricalDtype',\n",
       " 'CategoricalIndex',\n",
       " 'DataFrame',\n",
       " 'DateOffset',\n",
       " 'DatetimeIndex',\n",
       " 'DatetimeTZDtype',\n",
       " 'ExcelFile',\n",
       " 'ExcelWriter',\n",
       " 'Flags',\n",
       " 'Float32Dtype',\n",
       " 'Float64Dtype',\n",
       " 'Float64Index',\n",
       " 'Grouper',\n",
       " 'HDFStore',\n",
       " 'Index',\n",
       " 'IndexSlice',\n",
       " 'Int16Dtype',\n",
       " 'Int32Dtype',\n",
       " 'Int64Dtype',\n",
       " 'Int64Index',\n",
       " 'Int8Dtype',\n",
       " 'Interval',\n",
       " 'IntervalDtype',\n",
       " 'IntervalIndex',\n",
       " 'MultiIndex',\n",
       " 'NA',\n",
       " 'NaT',\n",
       " 'NamedAgg',\n",
       " 'Period',\n",
       " 'PeriodDtype',\n",
       " 'PeriodIndex',\n",
       " 'RangeIndex',\n",
       " 'Series',\n",
       " 'SparseDtype',\n",
       " 'StringDtype',\n",
       " 'Timedelta',\n",
       " 'TimedeltaIndex',\n",
       " 'Timestamp',\n",
       " 'UInt16Dtype',\n",
       " 'UInt32Dtype',\n",
       " 'UInt64Dtype',\n",
       " 'UInt64Index',\n",
       " 'UInt8Dtype',\n",
       " '__all__',\n",
       " '__builtins__',\n",
       " '__cached__',\n",
       " '__deprecated_num_index_names',\n",
       " '__dir__',\n",
       " '__doc__',\n",
       " '__docformat__',\n",
       " '__file__',\n",
       " '__getattr__',\n",
       " '__git_version__',\n",
       " '__loader__',\n",
       " '__name__',\n",
       " '__package__',\n",
       " '__path__',\n",
       " '__spec__',\n",
       " '__version__',\n",
       " '_config',\n",
       " '_is_numpy_dev',\n",
       " '_libs',\n",
       " '_testing',\n",
       " '_typing',\n",
       " '_version',\n",
       " 'api',\n",
       " 'array',\n",
       " 'arrays',\n",
       " 'bdate_range',\n",
       " 'compat',\n",
       " 'concat',\n",
       " 'core',\n",
       " 'crosstab',\n",
       " 'cut',\n",
       " 'date_range',\n",
       " 'describe_option',\n",
       " 'errors',\n",
       " 'eval',\n",
       " 'factorize',\n",
       " 'get_dummies',\n",
       " 'get_option',\n",
       " 'infer_freq',\n",
       " 'interval_range',\n",
       " 'io',\n",
       " 'isna',\n",
       " 'isnull',\n",
       " 'json_normalize',\n",
       " 'lreshape',\n",
       " 'melt',\n",
       " 'merge',\n",
       " 'merge_asof',\n",
       " 'merge_ordered',\n",
       " 'notna',\n",
       " 'notnull',\n",
       " 'offsets',\n",
       " 'option_context',\n",
       " 'options',\n",
       " 'pandas',\n",
       " 'period_range',\n",
       " 'pivot',\n",
       " 'pivot_table',\n",
       " 'plotting',\n",
       " 'qcut',\n",
       " 'read_clipboard',\n",
       " 'read_csv',\n",
       " 'read_excel',\n",
       " 'read_feather',\n",
       " 'read_fwf',\n",
       " 'read_gbq',\n",
       " 'read_hdf',\n",
       " 'read_html',\n",
       " 'read_json',\n",
       " 'read_orc',\n",
       " 'read_parquet',\n",
       " 'read_pickle',\n",
       " 'read_sas',\n",
       " 'read_spss',\n",
       " 'read_sql',\n",
       " 'read_sql_query',\n",
       " 'read_sql_table',\n",
       " 'read_stata',\n",
       " 'read_table',\n",
       " 'read_xml',\n",
       " 'reset_option',\n",
       " 'set_eng_float_format',\n",
       " 'set_option',\n",
       " 'show_versions',\n",
       " 'test',\n",
       " 'testing',\n",
       " 'timedelta_range',\n",
       " 'to_datetime',\n",
       " 'to_numeric',\n",
       " 'to_pickle',\n",
       " 'to_timedelta',\n",
       " 'tseries',\n",
       " 'unique',\n",
       " 'util',\n",
       " 'value_counts',\n",
       " 'wide_to_long']"
      ]
     },
     "execution_count": 10,
     "metadata": {},
     "output_type": "execute_result"
    }
   ],
   "source": [
    "dir(pandas)"
   ]
  },
  {
   "cell_type": "code",
   "execution_count": null,
   "id": "fdeadf2b",
   "metadata": {},
   "outputs": [],
   "source": []
  }
 ],
 "metadata": {
  "kernelspec": {
   "display_name": "Python 3 (ipykernel)",
   "language": "python",
   "name": "python3"
  },
  "language_info": {
   "codemirror_mode": {
    "name": "ipython",
    "version": 3
   },
   "file_extension": ".py",
   "mimetype": "text/x-python",
   "name": "python",
   "nbconvert_exporter": "python",
   "pygments_lexer": "ipython3",
   "version": "3.9.13"
  }
 },
 "nbformat": 4,
 "nbformat_minor": 5
}
