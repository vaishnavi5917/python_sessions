{
 "cells": [
  {
   "cell_type": "code",
   "execution_count": 2,
   "id": "4cbdc45a",
   "metadata": {},
   "outputs": [
    {
     "data": {
      "text/plain": [
       "97"
      ]
     },
     "execution_count": 2,
     "metadata": {},
     "output_type": "execute_result"
    }
   ],
   "source": [
    "#ord First keyword for ascii ASCII(Aerican Stanard Code Inforation Interchange)\n",
    "ord('a')\n"
   ]
  },
  {
   "cell_type": "code",
   "execution_count": 3,
   "id": "58d784df",
   "metadata": {},
   "outputs": [
    {
     "data": {
      "text/plain": [
       "65"
      ]
     },
     "execution_count": 3,
     "metadata": {},
     "output_type": "execute_result"
    }
   ],
   "source": [
    "ord('A')"
   ]
  },
  {
   "cell_type": "code",
   "execution_count": 4,
   "id": "83152745",
   "metadata": {},
   "outputs": [
    {
     "data": {
      "text/plain": [
       "False"
      ]
     },
     "execution_count": 4,
     "metadata": {},
     "output_type": "execute_result"
    }
   ],
   "source": [
    "'Apple'>'apple' #false becoz it will copare ascii values i.e 65>97"
   ]
  },
  {
   "cell_type": "code",
   "execution_count": 5,
   "id": "5158ee07",
   "metadata": {},
   "outputs": [
    {
     "data": {
      "text/plain": [
       "False"
      ]
     },
     "execution_count": 5,
     "metadata": {},
     "output_type": "execute_result"
    }
   ],
   "source": [
    "'Apple'>'Bat'#if we dont know any value we need to do ord('that value') i.e ord('B')"
   ]
  },
  {
   "cell_type": "code",
   "execution_count": 6,
   "id": "82431a1c",
   "metadata": {},
   "outputs": [
    {
     "data": {
      "text/plain": [
       "True"
      ]
     },
     "execution_count": 6,
     "metadata": {},
     "output_type": "execute_result"
    }
   ],
   "source": [
    "'Apple'>'APPLE'\n",
    "\n",
    "#Here we need to check like \n",
    "#'A' 'A'(same)\n",
    "# 'p' 'P'\n",
    "#i.e 112>80 So output is true"
   ]
  },
  {
   "cell_type": "code",
   "execution_count": 7,
   "id": "f61f00c1",
   "metadata": {},
   "outputs": [
    {
     "data": {
      "text/plain": [
       "(112, 80)"
      ]
     },
     "execution_count": 7,
     "metadata": {},
     "output_type": "execute_result"
    }
   ],
   "source": [
    "ord('p'),ord('P')"
   ]
  },
  {
   "cell_type": "code",
   "execution_count": 8,
   "id": "3884d6a1",
   "metadata": {},
   "outputs": [
    {
     "data": {
      "text/plain": [
       "'A'"
      ]
     },
     "execution_count": 8,
     "metadata": {},
     "output_type": "execute_result"
    }
   ],
   "source": [
    "# Second keyword\n",
    "chr(65) #i.e ord('A') will give 65"
   ]
  },
  {
   "cell_type": "code",
   "execution_count": 9,
   "id": "7bc2979c",
   "metadata": {},
   "outputs": [
    {
     "data": {
      "text/plain": [
       "('A', 65)"
      ]
     },
     "execution_count": 9,
     "metadata": {},
     "output_type": "execute_result"
    }
   ],
   "source": [
    "chr(65),ord('A')"
   ]
  },
  {
   "cell_type": "code",
   "execution_count": 10,
   "id": "8d240f45",
   "metadata": {},
   "outputs": [],
   "source": [
    "#Case-1: use for loop 20 to 200\n",
    "#ASCII: where it will start I dont know\n",
    "#    Where it will end\n",
    "#chr(1)\n",
    "#chr(2)\n",
    "#Output format is\n",
    "#ascii starting\n",
    "#65----->A\n",
    "#66---->B\n",
    "#ascii ending"
   ]
  },
  {
   "cell_type": "code",
   "execution_count": 12,
   "id": "bbf3b4ad",
   "metadata": {},
   "outputs": [
    {
     "name": "stdout",
     "output_type": "stream",
     "text": [
      "A\n",
      "B\n"
     ]
    }
   ],
   "source": [
    "print(chr(65))\n",
    "print(chr(66))"
   ]
  },
  {
   "cell_type": "code",
   "execution_count": 19,
   "id": "32c09aed",
   "metadata": {},
   "outputs": [
    {
     "data": {
      "text/plain": [
       "90"
      ]
     },
     "execution_count": 19,
     "metadata": {},
     "output_type": "execute_result"
    }
   ],
   "source": [
    "ord('Z')"
   ]
  },
  {
   "cell_type": "code",
   "execution_count": 22,
   "id": "f2c75588",
   "metadata": {},
   "outputs": [
    {
     "name": "stdout",
     "output_type": "stream",
     "text": [
      "1 \u0001\n",
      "2 \u0002\n",
      "3 \u0003\n",
      "4 \u0004\n",
      "5 \u0005\n",
      "6 \u0006\n",
      "7 \u0007\n",
      "8 \b\n",
      "9 \t\n",
      "10 \n",
      "\n",
      "11 \u000b",
      "\n",
      "12 \f",
      "\n",
      "13 \r\n",
      "14 \u000e\n",
      "15 \u000f\n",
      "16 \u0010\n",
      "17 \u0011\n",
      "18 \u0012\n",
      "19 \u0013\n",
      "20 \u0014\n",
      "21 \u0015\n",
      "22 \u0016\n",
      "23 \u0017\n",
      "24 \u0018\n",
      "25 \u0019\n",
      "26 \u001a\n",
      "27 \u001b\n",
      "28 \u001c",
      "\n",
      "29 \u001d",
      "\n",
      "30 \u001e",
      "\n",
      "31 \u001f\n",
      "32  \n",
      "33 !\n",
      "34 \"\n",
      "35 #\n",
      "36 $\n",
      "37 %\n",
      "38 &\n",
      "39 '\n",
      "40 (\n",
      "41 )\n",
      "42 *\n",
      "43 +\n",
      "44 ,\n",
      "45 -\n",
      "46 .\n",
      "47 /\n",
      "48 0\n",
      "49 1\n",
      "50 2\n",
      "51 3\n",
      "52 4\n",
      "53 5\n",
      "54 6\n",
      "55 7\n",
      "56 8\n",
      "57 9\n",
      "58 :\n",
      "59 ;\n",
      "60 <\n",
      "61 =\n",
      "62 >\n",
      "63 ?\n",
      "64 @\n"
     ]
    }
   ],
   "source": [
    "for i in range(1,65):\n",
    "    print(i,chr(i))  #step1: 1,chr(1) 2,chr(2) "
   ]
  },
  {
   "cell_type": "code",
   "execution_count": 26,
   "id": "e785f746",
   "metadata": {},
   "outputs": [
    {
     "name": "stdout",
     "output_type": "stream",
     "text": [
      "33 ------> !\n",
      "34 ------> \"\n",
      "35 ------> #\n",
      "36 ------> $\n",
      "37 ------> %\n",
      "38 ------> &\n",
      "39 ------> '\n",
      "40 ------> (\n",
      "41 ------> )\n",
      "42 ------> *\n",
      "43 ------> +\n",
      "44 ------> ,\n",
      "45 ------> -\n",
      "46 ------> .\n",
      "47 ------> /\n",
      "48 ------> 0\n",
      "49 ------> 1\n",
      "50 ------> 2\n",
      "51 ------> 3\n",
      "52 ------> 4\n",
      "53 ------> 5\n",
      "54 ------> 6\n",
      "55 ------> 7\n",
      "56 ------> 8\n",
      "57 ------> 9\n",
      "58 ------> :\n",
      "59 ------> ;\n",
      "60 ------> <\n",
      "61 ------> =\n",
      "62 ------> >\n",
      "63 ------> ?\n",
      "64 ------> @\n",
      "65 ------> A\n",
      "66 ------> B\n",
      "67 ------> C\n",
      "68 ------> D\n",
      "69 ------> E\n",
      "70 ------> F\n",
      "71 ------> G\n",
      "72 ------> H\n",
      "73 ------> I\n",
      "74 ------> J\n",
      "75 ------> K\n",
      "76 ------> L\n",
      "77 ------> M\n",
      "78 ------> N\n",
      "79 ------> O\n",
      "80 ------> P\n",
      "81 ------> Q\n",
      "82 ------> R\n",
      "83 ------> S\n",
      "84 ------> T\n",
      "85 ------> U\n",
      "86 ------> V\n",
      "87 ------> W\n",
      "88 ------> X\n",
      "89 ------> Y\n",
      "90 ------> Z\n",
      "91 ------> [\n",
      "92 ------> \\\n",
      "93 ------> ]\n",
      "94 ------> ^\n",
      "95 ------> _\n",
      "96 ------> `\n",
      "97 ------> a\n",
      "98 ------> b\n",
      "99 ------> c\n",
      "100 ------> d\n",
      "101 ------> e\n",
      "102 ------> f\n",
      "103 ------> g\n",
      "104 ------> h\n",
      "105 ------> i\n",
      "106 ------> j\n",
      "107 ------> k\n",
      "108 ------> l\n",
      "109 ------> m\n",
      "110 ------> n\n",
      "111 ------> o\n",
      "112 ------> p\n",
      "113 ------> q\n",
      "114 ------> r\n",
      "115 ------> s\n",
      "116 ------> t\n",
      "117 ------> u\n",
      "118 ------> v\n",
      "119 ------> w\n",
      "120 ------> x\n",
      "121 ------> y\n",
      "122 ------> z\n",
      "123 ------> {\n",
      "124 ------> |\n",
      "125 ------> }\n",
      "126 ------> ~\n"
     ]
    }
   ],
   "source": [
    "for i in range(33,127):\n",
    "    print(i,'------>',chr(i)) "
   ]
  },
  {
   "cell_type": "code",
   "execution_count": 34,
   "id": "c44a6a74",
   "metadata": {},
   "outputs": [
    {
     "name": "stdout",
     "output_type": "stream",
     "text": [
      "p\n",
      "y\n",
      "t\n",
      "h\n",
      "o\n",
      "n\n"
     ]
    },
    {
     "data": {
      "text/plain": [
       "65"
      ]
     },
     "execution_count": 34,
     "metadata": {},
     "output_type": "execute_result"
    }
   ],
   "source": [
    "for i in 'python':#(A,Z):\n",
    "    print(i)\n",
    "ord('A')"
   ]
  },
  {
   "cell_type": "code",
   "execution_count": 33,
   "id": "f234ca14",
   "metadata": {},
   "outputs": [
    {
     "name": "stdout",
     "output_type": "stream",
     "text": [
      "A ----> 65\n",
      "B ----> 66\n",
      "C ----> 67\n",
      "D ----> 68\n",
      "E ----> 69\n",
      "F ----> 70\n",
      "G ----> 71\n",
      "H ----> 72\n",
      "I ----> 73\n",
      "J ----> 74\n",
      "K ----> 75\n",
      "L ----> 76\n",
      "M ----> 77\n",
      "N ----> 78\n",
      "O ----> 79\n",
      "P ----> 80\n",
      "Q ----> 81\n",
      "R ----> 82\n",
      "S ----> 83\n",
      "T ----> 84\n",
      "U ----> 85\n",
      "V ----> 86\n",
      "W ----> 87\n",
      "X ----> 88\n",
      "Y ----> 89\n",
      "Z ----> 90\n"
     ]
    }
   ],
   "source": [
    "for i in 'ABCDEFGHIJKLMNOPQRSTUVWXYZ':#(A,Z):\n",
    "    print(i,'---->',ord(i))\n",
    "\n",
    "for i in range(65,97)\n"
   ]
  },
  {
   "cell_type": "code",
   "execution_count": 36,
   "id": "a5a3e397",
   "metadata": {},
   "outputs": [],
   "source": [
    "#**Package-Name: String**"
   ]
  },
  {
   "cell_type": "code",
   "execution_count": 37,
   "id": "954821cc",
   "metadata": {},
   "outputs": [],
   "source": [
    "import string"
   ]
  },
  {
   "cell_type": "code",
   "execution_count": 38,
   "id": "745ddb14",
   "metadata": {},
   "outputs": [],
   "source": [
    "#step1: apply dir\n",
    "#underatand the method name(without_version__)without underscore\n",
    "#step3: try to use the method name\n",
    "\n",
    "#import<package_name"
   ]
  },
  {
   "cell_type": "code",
   "execution_count": 39,
   "id": "0f7d238c",
   "metadata": {},
   "outputs": [
    {
     "data": {
      "text/plain": [
       "['Formatter',\n",
       " 'Template',\n",
       " '_ChainMap',\n",
       " '__all__',\n",
       " '__builtins__',\n",
       " '__cached__',\n",
       " '__doc__',\n",
       " '__file__',\n",
       " '__loader__',\n",
       " '__name__',\n",
       " '__package__',\n",
       " '__spec__',\n",
       " '_re',\n",
       " '_sentinel_dict',\n",
       " '_string',\n",
       " 'ascii_letters',\n",
       " 'ascii_lowercase',\n",
       " 'ascii_uppercase',\n",
       " 'capwords',\n",
       " 'digits',\n",
       " 'hexdigits',\n",
       " 'octdigits',\n",
       " 'printable',\n",
       " 'punctuation',\n",
       " 'whitespace']"
      ]
     },
     "execution_count": 39,
     "metadata": {},
     "output_type": "execute_result"
    }
   ],
   "source": [
    "import string\n",
    "dir(string)\n"
   ]
  },
  {
   "cell_type": "code",
   "execution_count": 42,
   "id": "0d8bf4e2",
   "metadata": {},
   "outputs": [
    {
     "name": "stdout",
     "output_type": "stream",
     "text": [
      "No Python documentation found for 'abcdefghijklmnopqrstuvwxyzABCDEFGHIJKLMNOPQRSTUVWXYZ'.\n",
      "Use help() to get the interactive help utility.\n",
      "Use help(str) for help on the str class.\n",
      "\n"
     ]
    }
   ],
   "source": [
    "help(string.ascii_letters)"
   ]
  },
  {
   "cell_type": "code",
   "execution_count": 43,
   "id": "590510a2",
   "metadata": {},
   "outputs": [
    {
     "data": {
      "text/plain": [
       "'abcdefghijklmnopqrstuvwxyzABCDEFGHIJKLMNOPQRSTUVWXYZ'"
      ]
     },
     "execution_count": 43,
     "metadata": {},
     "output_type": "execute_result"
    }
   ],
   "source": [
    "string.ascii_letters"
   ]
  },
  {
   "cell_type": "code",
   "execution_count": 44,
   "id": "11430e44",
   "metadata": {},
   "outputs": [
    {
     "data": {
      "text/plain": [
       "'ABCDEFGHIJKLMNOPQRSTUVWXYZ'"
      ]
     },
     "execution_count": 44,
     "metadata": {},
     "output_type": "execute_result"
    }
   ],
   "source": [
    "string.ascii_uppercase"
   ]
  },
  {
   "cell_type": "code",
   "execution_count": 45,
   "id": "7c82ee30",
   "metadata": {},
   "outputs": [
    {
     "data": {
      "text/plain": [
       "'abcdefghijklmnopqrstuvwxyz'"
      ]
     },
     "execution_count": 45,
     "metadata": {},
     "output_type": "execute_result"
    }
   ],
   "source": [
    "string.ascii_lowercase"
   ]
  },
  {
   "cell_type": "code",
   "execution_count": 47,
   "id": "8bd0d446",
   "metadata": {},
   "outputs": [
    {
     "name": "stdout",
     "output_type": "stream",
     "text": [
      "ABCDEFGHIJKLMNOPQRSTUVWXYZ\n"
     ]
    }
   ],
   "source": [
    "print(string.ascii_uppercase)"
   ]
  },
  {
   "cell_type": "code",
   "execution_count": 48,
   "id": "beb5c917",
   "metadata": {},
   "outputs": [
    {
     "name": "stdout",
     "output_type": "stream",
     "text": [
      "A ----> 65\n",
      "B ----> 66\n",
      "C ----> 67\n",
      "D ----> 68\n",
      "E ----> 69\n",
      "F ----> 70\n",
      "G ----> 71\n",
      "H ----> 72\n",
      "I ----> 73\n",
      "J ----> 74\n",
      "K ----> 75\n",
      "L ----> 76\n",
      "M ----> 77\n",
      "N ----> 78\n",
      "O ----> 79\n",
      "P ----> 80\n",
      "Q ----> 81\n",
      "R ----> 82\n",
      "S ----> 83\n",
      "T ----> 84\n",
      "U ----> 85\n",
      "V ----> 86\n",
      "W ----> 87\n",
      "X ----> 88\n",
      "Y ----> 89\n",
      "Z ----> 90\n"
     ]
    }
   ],
   "source": [
    "for i in string.ascii_uppercase:\n",
    "    print(i,'---->',ord(i))"
   ]
  },
  {
   "cell_type": "code",
   "execution_count": 49,
   "id": "61263d60",
   "metadata": {},
   "outputs": [
    {
     "name": "stdout",
     "output_type": "stream",
     "text": [
      "a ----> 97\n",
      "b ----> 98\n",
      "c ----> 99\n",
      "d ----> 100\n",
      "e ----> 101\n",
      "f ----> 102\n",
      "g ----> 103\n",
      "h ----> 104\n",
      "i ----> 105\n",
      "j ----> 106\n",
      "k ----> 107\n",
      "l ----> 108\n",
      "m ----> 109\n",
      "n ----> 110\n",
      "o ----> 111\n",
      "p ----> 112\n",
      "q ----> 113\n",
      "r ----> 114\n",
      "s ----> 115\n",
      "t ----> 116\n",
      "u ----> 117\n",
      "v ----> 118\n",
      "w ----> 119\n",
      "x ----> 120\n",
      "y ----> 121\n",
      "z ----> 122\n"
     ]
    }
   ],
   "source": [
    "for i in string.ascii_lowercase:\n",
    "    print(i,'---->',ord(i))"
   ]
  },
  {
   "cell_type": "code",
   "execution_count": 51,
   "id": "bb0c60f3",
   "metadata": {},
   "outputs": [
    {
     "name": "stdout",
     "output_type": "stream",
     "text": [
      "0 1 2 3 4 5 6 7 8 9 "
     ]
    }
   ],
   "source": [
    "for i in range(10):\n",
    "    print(i,end=' ')"
   ]
  },
  {
   "cell_type": "code",
   "execution_count": null,
   "id": "1237d4b0",
   "metadata": {},
   "outputs": [],
   "source": [
    "#-->Initialisation\n",
    "#-->condition\n",
    "#-->increment/decrement\n",
    "\n",
    "# In for loop these 3 are in a single line\n",
    "# But in WHILE loop you need to provide 3 things\n",
    "\n",
    "#Step1: Initial point\n",
    "#Step2: condition(if this condition satisifies the only it will give the permission to enter into loop)\n",
    "#Step3: Increment/Decrement"
   ]
  },
  {
   "cell_type": "code",
   "execution_count": 56,
   "id": "c5596622",
   "metadata": {},
   "outputs": [
    {
     "name": "stdout",
     "output_type": "stream",
     "text": [
      "0 1 2 3 4 5 6 7 8 9 10 The Loop Ended\n"
     ]
    }
   ],
   "source": [
    "#First give initial point\n",
    "#next while <condition>:\n",
    "# print wt ever u want\n",
    "# i=i+1  or i=i-1\n",
    "\n",
    "#Based on stop value =====think about the condition\n",
    "\n",
    "i=0\n",
    "while i<11:\n",
    "    print(i,end=' ')\n",
    "    #print('Next number')\n",
    "    i=i+1\n",
    "    \n",
    "print('The Loop Ended')"
   ]
  },
  {
   "cell_type": "code",
   "execution_count": 54,
   "id": "3386e4e8",
   "metadata": {},
   "outputs": [
    {
     "name": "stdout",
     "output_type": "stream",
     "text": [
      "0 1 2 3 4 5 6 7 8 9 "
     ]
    }
   ],
   "source": [
    "for i in range(10):print(i,end=' ')"
   ]
  },
  {
   "cell_type": "code",
   "execution_count": null,
   "id": "cd591e81",
   "metadata": {},
   "outputs": [],
   "source": [
    "# WHILE LOOP FORMAT\n",
    "\n",
    "i=0 (initial point)\n",
    "\n",
    "while i<10 : #<condition>\n",
    "    print(i,end=' ') # wtever the print statements in for loop after for condition we can write the same here\n",
    "    i=i+1"
   ]
  },
  {
   "cell_type": "code",
   "execution_count": 59,
   "id": "1a6adec9",
   "metadata": {},
   "outputs": [
    {
     "name": "stdout",
     "output_type": "stream",
     "text": [
      "-1 -2 -3 -4 -5 -6 -7 -8 -9 -10 "
     ]
    }
   ],
   "source": [
    "for i in range(-1,-11,-1):\n",
    "    print(i,end=' ')"
   ]
  },
  {
   "cell_type": "code",
   "execution_count": 60,
   "id": "1d975287",
   "metadata": {},
   "outputs": [
    {
     "name": "stdout",
     "output_type": "stream",
     "text": [
      "-10 -9 -8 -7 -6 -5 -4 -3 -2 -1 "
     ]
    }
   ],
   "source": [
    "for i in range(-10,0,1):\n",
    "    print(i,end=' ')"
   ]
  },
  {
   "cell_type": "code",
   "execution_count": 61,
   "id": "516f7f75",
   "metadata": {},
   "outputs": [
    {
     "name": "stdout",
     "output_type": "stream",
     "text": [
      "10 9 8 7 6 5 4 3 2 1 0 "
     ]
    }
   ],
   "source": [
    "for i in range(10,-1,-1):\n",
    "    print(i,end=' ')"
   ]
  }
 ],
 "metadata": {
  "kernelspec": {
   "display_name": "Python 3 (ipykernel)",
   "language": "python",
   "name": "python3"
  },
  "language_info": {
   "codemirror_mode": {
    "name": "ipython",
    "version": 3
   },
   "file_extension": ".py",
   "mimetype": "text/x-python",
   "name": "python",
   "nbconvert_exporter": "python",
   "pygments_lexer": "ipython3",
   "version": "3.9.13"
  }
 },
 "nbformat": 4,
 "nbformat_minor": 5
}
