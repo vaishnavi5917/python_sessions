{
 "cells": [
  {
   "cell_type": "code",
   "execution_count": 7,
   "id": "244b95e1",
   "metadata": {},
   "outputs": [
    {
     "name": "stdout",
     "output_type": "stream",
     "text": [
      "Enter the distance in kms: 2.3\n",
      "The fare between 4 to 6 is 40rs\n"
     ]
    }
   ],
   "source": [
    "#wap ask the user enter distance\n",
    "# if the fare between 0 and 2km print the fare is 20rs\n",
    "#if the distance between 2km to 4km print the fare is 40rs\n",
    "# if the distance between 4km to 6km prnt the fare is 60rs\n",
    "# if the distance more than 6km print the fare is 100rs\n",
    "\n",
    "try:\n",
    "    distance=eval(input(\"Enter the distance in kms: \"))\n",
    "    if distance>6:\n",
    "        print(\"Fare is 100rs\")\n",
    "    elif distance>4:\n",
    "        print(\"The fare between 4 to 6 is 60rs\")\n",
    "    elif distance>2:\n",
    "        print(\"The fare between 4 to 6 is 40rs\")\n",
    "        \n",
    "    else:\n",
    "        print(\"The fare less than 2kms is: 20rs \")\n",
    "        \n",
    "except Exception as e:\n",
    "    print(e)"
   ]
  },
  {
   "cell_type": "code",
   "execution_count": null,
   "id": "abb2cc8c",
   "metadata": {},
   "outputs": [],
   "source": [
    "# AND OPERATOR ( And means 2 conditions should be true)\n",
    "\n",
    "x   y    xandy\n",
    "0   1      0\n",
    "0   1      0\n",
    "1   0      0\n",
    "1   1      1\n",
    "\n",
    "distance>0  and  distance<2\n",
    "True  and True  ----True(Perimission granted)\n",
    "False and True  ----False (no p)\n",
    "False and False ----False (no p)\n",
    "True  and  False ----False (no p)"
   ]
  },
  {
   "cell_type": "code",
   "execution_count": 5,
   "id": "23809cdb",
   "metadata": {},
   "outputs": [
    {
     "name": "stdout",
     "output_type": "stream",
     "text": [
      "Enter the percentage:75\n",
      "Grade is B\n"
     ]
    }
   ],
   "source": [
    "#WAP ask the user enter percentage\n",
    "# if percentage >90 print Grade A\n",
    "# if percentage between 70 and 90 print Grade B\n",
    "# if percentage between 50 and 70 print grade C\n",
    "# if percentage less than 50 print Grade\n",
    "\n",
    "try:\n",
    "    n1=eval(input(\"Enter the percentage:\"))\n",
    "    if n1>=90:\n",
    "        print(\"Grade is A\")\n",
    "    elif n1>=70:\n",
    "        print(\"Grade is B\")\n",
    "    elif n1>=50:\n",
    "        print(\"Grade is C\")\n",
    "    else:\n",
    "        print(\"Grade is D\")\n",
    "    \n",
    "except Exception as e:\n",
    "    print(e)"
   ]
  },
  {
   "cell_type": "code",
   "execution_count": null,
   "id": "70bfa551",
   "metadata": {},
   "outputs": [],
   "source": [
    "#wap ask the user enter a no\n",
    "# if  -elif  -else\n",
    "#wap ask the user enter a no\n",
    "# check the first condition if no>=0\n",
    "\n",
    "# if that is true check one more condition if number==0 then print it is a zero number \n",
    "#otherwise it is a positive no\n",
    "\n",
    "#otherwise it is a negative number"
   ]
  },
  {
   "cell_type": "code",
   "execution_count": 8,
   "id": "6178224e",
   "metadata": {},
   "outputs": [
    {
     "name": "stdout",
     "output_type": "stream",
     "text": [
      "Enter a no:-9\n",
      "It is a negative no\n"
     ]
    }
   ],
   "source": [
    "number=eval(input(\"Enter a no:\"))\n",
    "if number>=0:\n",
    "    if number==0:\n",
    "        print(\"It is a zero\")\n",
    "    else:\n",
    "        print(\"It is a positive no\")\n",
    "        \n",
    "else:\n",
    "    print(\"It is a negative no\")"
   ]
  },
  {
   "cell_type": "code",
   "execution_count": 4,
   "id": "2a6f559b",
   "metadata": {},
   "outputs": [
    {
     "name": "stdout",
     "output_type": "stream",
     "text": [
      "99\n",
      "out of range\n"
     ]
    }
   ],
   "source": [
    "number=eval(input())\n",
    "if number<99:\n",
    "    if number==0:\n",
    "        print('zero')\n",
    "    elif number<0:\n",
    "        print('negative number')\n",
    "    else:\n",
    "        print('number is between 1 to 99')\n",
    "else:\n",
    "    print(\"out of range\")"
   ]
  },
  {
   "cell_type": "code",
   "execution_count": null,
   "id": "1bef6096",
   "metadata": {},
   "outputs": [],
   "source": [
    "# wap ask the user enter a number greater than or equal to zero\n",
    "# check if it is between 1 and 99; print the no between 1 and 99\n",
    "#check if it is zero; print zero\n",
    "#check if it is more than 99; print the no is out of range \n"
   ]
  },
  {
   "cell_type": "code",
   "execution_count": null,
   "id": "581dee80",
   "metadata": {},
   "outputs": [],
   "source": [
    "# what is your if condition\n",
    "# if that is True ==== how many combinations\n",
    "<99\n",
    "-99\n",
    "0\n",
    "p"
   ]
  },
  {
   "cell_type": "code",
   "execution_count": null,
   "id": "8bb071ef",
   "metadata": {},
   "outputs": [],
   "source": [
    "num=eval(input())\n",
    "if num<99:\n",
    "    if num==0:\n",
    "        print(\"It is a zero\")\n",
    "    else:\n",
    "        print(\"no between 1 to 99\")\n",
    "        \n",
    "else:\n",
    "    print(\"out of range\")"
   ]
  },
  {
   "cell_type": "code",
   "execution_count": null,
   "id": "281372c8",
   "metadata": {},
   "outputs": [],
   "source": [
    "#wap ask the user enter a gender \n",
    "#if gender==male\n",
    "# again ask the user enter age\n",
    "# if age>25 then print(he is a man)\n",
    "#otherwise print he is a boy\n",
    "\n",
    "#otherwise \n",
    "# ask the user enter age\n",
    "# if age>25; print(she is a woman)\n",
    "# otherwise; print(she is a girl)"
   ]
  },
  {
   "cell_type": "code",
   "execution_count": null,
   "id": "bf81c678",
   "metadata": {},
   "outputs": [],
   "source": [
    "gender=eval(input())\n",
    "if gender=='male':\n",
    "    age=eval(input(\"Enter the age\"))\n",
    "    if age>25:\n",
    "        print(\"He is a man\")\n",
    "    else:\n",
    "        print(\"He is a boy\")\n",
    "        \n",
    "        \n",
    "else:\n",
    "    age=eval(input(\"Enter the age\"))\n",
    "    if age>25:\n",
    "        print(\"She is a woman\")\n",
    "    else:\n",
    "        print(\"She is a girl\")"
   ]
  },
  {
   "cell_type": "code",
   "execution_count": null,
   "id": "e89f4cc6",
   "metadata": {},
   "outputs": [],
   "source": [
    "#wap ask the user enter three numbers\n",
    "# find which is the greatest number\n",
    "# frequent interview question"
   ]
  }
 ],
 "metadata": {
  "kernelspec": {
   "display_name": "Python 3 (ipykernel)",
   "language": "python",
   "name": "python3"
  },
  "language_info": {
   "codemirror_mode": {
    "name": "ipython",
    "version": 3
   },
   "file_extension": ".py",
   "mimetype": "text/x-python",
   "name": "python",
   "nbconvert_exporter": "python",
   "pygments_lexer": "ipython3",
   "version": "3.9.13"
  }
 },
 "nbformat": 4,
 "nbformat_minor": 5
}
