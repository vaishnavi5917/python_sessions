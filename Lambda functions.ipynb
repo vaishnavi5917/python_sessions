{
 "cells": [
  {
   "cell_type": "markdown",
   "id": "83140f25",
   "metadata": {},
   "source": [
    "**Lambda fucntion"
   ]
  },
  {
   "cell_type": "code",
   "execution_count": 6,
   "id": "48f171f5",
   "metadata": {},
   "outputs": [
    {
     "data": {
      "text/plain": [
       "20"
      ]
     },
     "execution_count": 6,
     "metadata": {},
     "output_type": "execute_result"
    }
   ],
   "source": [
    "#Normal function\n",
    "\n",
    "def add(x):\n",
    "    return(x+10)\n",
    "add(10)"
   ]
  },
  {
   "cell_type": "code",
   "execution_count": 2,
   "id": "11714af5",
   "metadata": {},
   "outputs": [
    {
     "data": {
      "text/plain": [
       "20"
      ]
     },
     "execution_count": 2,
     "metadata": {},
     "output_type": "execute_result"
    }
   ],
   "source": [
    "# How many arguments are there?  x\n",
    "#what you are returning?        x+10\n",
    "# <function_name>=Lamda <argument_name>:<return_value>\n",
    "\n",
    "add=lambda x:x+10  #fucntion is ready\n",
    "add(10)"
   ]
  },
  {
   "cell_type": "code",
   "execution_count": 3,
   "id": "2e36b408",
   "metadata": {},
   "outputs": [
    {
     "data": {
      "text/plain": [
       "25"
      ]
     },
     "execution_count": 3,
     "metadata": {},
     "output_type": "execute_result"
    }
   ],
   "source": [
    "def mul(num):\n",
    "    return(num*num)\n",
    "mul(5)"
   ]
  },
  {
   "cell_type": "code",
   "execution_count": 4,
   "id": "9db2d1e1",
   "metadata": {},
   "outputs": [
    {
     "data": {
      "text/plain": [
       "25"
      ]
     },
     "execution_count": 4,
     "metadata": {},
     "output_type": "execute_result"
    }
   ],
   "source": [
    "mul=lambda num:num*num\n",
    "mul(5)"
   ]
  },
  {
   "cell_type": "code",
   "execution_count": 5,
   "id": "2fe646ed",
   "metadata": {},
   "outputs": [
    {
     "data": {
      "text/plain": [
       "27"
      ]
     },
     "execution_count": 5,
     "metadata": {},
     "output_type": "execute_result"
    }
   ],
   "source": [
    "def cube(val):\n",
    "    return(val*val*val)\n",
    "cube(3)"
   ]
  },
  {
   "cell_type": "code",
   "execution_count": 13,
   "id": "6bfe958c",
   "metadata": {},
   "outputs": [
    {
     "data": {
      "text/plain": [
       "64"
      ]
     },
     "execution_count": 13,
     "metadata": {},
     "output_type": "execute_result"
    }
   ],
   "source": [
    "cube=lambda val:val*val*val\n",
    "cube(4)"
   ]
  },
  {
   "cell_type": "code",
   "execution_count": 7,
   "id": "6374b8ab",
   "metadata": {},
   "outputs": [
    {
     "ename": "TypeError",
     "evalue": "'int' object is not iterable",
     "output_type": "error",
     "traceback": [
      "\u001b[1;31m---------------------------------------------------------------------------\u001b[0m",
      "\u001b[1;31mTypeError\u001b[0m                                 Traceback (most recent call last)",
      "\u001b[1;32m~\\AppData\\Local\\Temp\\ipykernel_6912\\9778985.py\u001b[0m in \u001b[0;36m<module>\u001b[1;34m\u001b[0m\n\u001b[0;32m      1\u001b[0m \u001b[1;32mdef\u001b[0m \u001b[0msum1\u001b[0m\u001b[1;33m(\u001b[0m\u001b[0ma\u001b[0m\u001b[1;33m,\u001b[0m\u001b[0mb\u001b[0m\u001b[1;33m)\u001b[0m\u001b[1;33m:\u001b[0m\u001b[1;33m\u001b[0m\u001b[1;33m\u001b[0m\u001b[0m\n\u001b[0;32m      2\u001b[0m     \u001b[1;32mreturn\u001b[0m\u001b[1;33m(\u001b[0m\u001b[0ma\u001b[0m\u001b[1;33m+\u001b[0m\u001b[0mb\u001b[0m\u001b[1;33m)\u001b[0m\u001b[1;33m\u001b[0m\u001b[1;33m\u001b[0m\u001b[0m\n\u001b[1;32m----> 3\u001b[1;33m \u001b[0msum\u001b[0m\u001b[1;33m(\u001b[0m\u001b[1;36m10\u001b[0m\u001b[1;33m,\u001b[0m\u001b[1;36m20\u001b[0m\u001b[1;33m)\u001b[0m\u001b[1;33m\u001b[0m\u001b[1;33m\u001b[0m\u001b[0m\n\u001b[0m",
      "\u001b[1;31mTypeError\u001b[0m: 'int' object is not iterable"
     ]
    }
   ],
   "source": [
    "def sum1(a,b):\n",
    "    return(a+b)\n",
    "sum(10,20)"
   ]
  },
  {
   "cell_type": "code",
   "execution_count": 8,
   "id": "9757d43d",
   "metadata": {},
   "outputs": [
    {
     "data": {
      "text/plain": [
       "30"
      ]
     },
     "execution_count": 8,
     "metadata": {},
     "output_type": "execute_result"
    }
   ],
   "source": [
    "# <function_name>= Lambda <argument_name>:<return_value>\n",
    "\n",
    "sum1=lambda a,b:a+b\n",
    "sum1(10,20)"
   ]
  },
  {
   "cell_type": "code",
   "execution_count": 12,
   "id": "42c84fc1",
   "metadata": {},
   "outputs": [
    {
     "data": {
      "text/plain": [
       "43.333333333333336"
      ]
     },
     "execution_count": 12,
     "metadata": {},
     "output_type": "execute_result"
    }
   ],
   "source": [
    "def avg(a,b,c=100):\n",
    "    return((a+b+c)/3)\n",
    "avg(10,20)"
   ]
  },
  {
   "cell_type": "code",
   "execution_count": 14,
   "id": "547215e8",
   "metadata": {},
   "outputs": [
    {
     "data": {
      "text/plain": [
       "43.33"
      ]
     },
     "execution_count": 14,
     "metadata": {},
     "output_type": "execute_result"
    }
   ],
   "source": [
    "Avg=lambda a,b,c=100: round((a+b+c)/3,2)\n",
    "Avg(10,20)"
   ]
  },
  {
   "cell_type": "markdown",
   "id": "7e5c285a",
   "metadata": {},
   "source": [
    "$Lambda functions with if-else $"
   ]
  },
  {
   "cell_type": "code",
   "execution_count": 17,
   "id": "212fe70b",
   "metadata": {},
   "outputs": [
    {
     "data": {
      "text/plain": [
       "80"
      ]
     },
     "execution_count": 17,
     "metadata": {},
     "output_type": "execute_result"
    }
   ],
   "source": [
    "def greater(num1,num2):\n",
    "    if num1>num2:\n",
    "        return(num1)\n",
    "    else:\n",
    "        return(num2)\n",
    "    \n",
    "greater(80,60)"
   ]
  },
  {
   "cell_type": "markdown",
   "id": "46505799",
   "metadata": {},
   "source": [
    "# Format of Lambda function"
   ]
  },
  {
   "cell_type": "code",
   "execution_count": 19,
   "id": "940c3a3d",
   "metadata": {},
   "outputs": [
    {
     "data": {
      "text/plain": [
       "100"
      ]
     },
     "execution_count": 19,
     "metadata": {},
     "output_type": "execute_result"
    }
   ],
   "source": [
    "# <function_name>=lambda <arg1,arg2>:<return>\n",
    "\n",
    "greater=lambda num1,num2: num1 if num1>num2 else num2\n",
    "greater(100,70)"
   ]
  },
  {
   "cell_type": "markdown",
   "id": "7571be5e",
   "metadata": {},
   "source": [
    "**lambda functions with list**"
   ]
  },
  {
   "cell_type": "code",
   "execution_count": 23,
   "id": "a9dcbb8b",
   "metadata": {},
   "outputs": [
    {
     "data": {
      "text/plain": [
       "['Hyd', 'Mumbai', 'Bangalore']"
      ]
     },
     "execution_count": 23,
     "metadata": {},
     "output_type": "execute_result"
    }
   ],
   "source": [
    "#### M-1######\n",
    "list1=['hyd','mumbai','bangalore']\n",
    "#list1.capitalize\n",
    "\n",
    "output=[]\n",
    "\n",
    "for i in list1:\n",
    "    output.append(i.capitalize())\n",
    "output"
   ]
  },
  {
   "cell_type": "code",
   "execution_count": 24,
   "id": "3a065727",
   "metadata": {},
   "outputs": [
    {
     "data": {
      "text/plain": [
       "['Hyd', 'Mumbai', 'Bangalore']"
      ]
     },
     "execution_count": 24,
     "metadata": {},
     "output_type": "execute_result"
    }
   ],
   "source": [
    "################# M-2 ############\n",
    "list1=['hyd','mumbai','bangalore']\n",
    "output=[i.capitalize() for i in list1]\n",
    "output"
   ]
  },
  {
   "cell_type": "code",
   "execution_count": 38,
   "id": "5e73b163",
   "metadata": {},
   "outputs": [
    {
     "data": {
      "text/plain": [
       "<function __main__.abc(i)>"
      ]
     },
     "execution_count": 38,
     "metadata": {},
     "output_type": "execute_result"
    }
   ],
   "source": [
    "################ M-3 ####### with lambda\n",
    "\n",
    "list1=['hyd','mumbai','bangalore']\n",
    "lambda i: i.capitalize(),list1 \n",
    "#in this need to iterate the values\n",
    "\n",
    "def abc(i):\n",
    "    return(i.capitalize())\n",
    "abc\n",
    "#lambda x: x+10 # user providing directly\n",
    "#lambda num: num*num\n",
    "#lambda a,b: a+b"
   ]
  },
  {
   "cell_type": "code",
   "execution_count": 39,
   "id": "46ae50b4",
   "metadata": {},
   "outputs": [
    {
     "data": {
      "text/plain": [
       "['Hyd', 'Mumbai', 'Bangalore']"
      ]
     },
     "execution_count": 39,
     "metadata": {},
     "output_type": "execute_result"
    }
   ],
   "source": [
    "list1=['hyd','mumbai','bangalore']\n",
    "list(map(lambda i: i.capitalize(),list1))\n",
    "\n",
    "#step1: create a lambda function: lambda i:i.capitalize()\n",
    "#step2: add ur iterator(either it is a list or string )\n",
    "\n",
    "#step1,step2: lambda i: i.capitalize(),list1\n",
    "#step3: mapping of both step-1 and step-2 \n",
    "\n",
    "#   map(step1,step2)\n",
    "#   map(lambda i: i.capitalize(),list1)\n",
    "\n",
    "#step4: you need to save the result again in a iterator i.e in a list or tuple\n",
    "\n",
    "#  list(map(step1,step2))\n",
    "#  list(map(lambda i: i.capitalize(),list1))"
   ]
  },
  {
   "cell_type": "markdown",
   "id": "d6b55a4e",
   "metadata": {},
   "source": [
    "1. #step1: create a lambda function: lambda i:i.capitalize()\n",
    "2. #step2: add ur iterator(either it is a list or string )\n",
    "\n",
    "#step1,step2: lambda i: i.capitalize(),list1\n",
    "#step3: mapping of both step-1 and step-2 \n",
    "\n",
    " map(step1,step2)\n",
    "   map(lambda i: i.capitalize(),list1)\n",
    "\n",
    "#step4: you need to save the result again in a iterator i.e in a list or tuple\n",
    "\n",
    " list(map(step1,step2))\n",
    "#list(map(lambda i: i.capitalize(),list1))"
   ]
  },
  {
   "cell_type": "code",
   "execution_count": null,
   "id": "6bcb7876",
   "metadata": {},
   "outputs": [],
   "source": [
    "#step1: create a lambda function: lambda i:i.capitalize()\n",
    "#step2: add ur iterator(either it is a list or string )\n",
    "\n",
    "#step1,step2: lambda i: i.capitalize(),list1\n",
    "#step3: mapping of both step-1 and step-2 \n",
    "\n",
    "#   map(step1,step2)\n",
    "#   map(lambda i: i.capitalize(),list1)\n",
    "\n",
    "#step4: you need to save the result again in a iterator i.e in a list or tuple\n",
    "\n",
    "#  list(map(step1,step2))\n",
    "#  list(map(lambda i: i.capitalize(),list1))"
   ]
  },
  {
   "cell_type": "code",
   "execution_count": null,
   "id": "84914ea2",
   "metadata": {},
   "outputs": [],
   "source": []
  },
  {
   "cell_type": "code",
   "execution_count": 26,
   "id": "eea7af7d",
   "metadata": {},
   "outputs": [
    {
     "name": "stdout",
     "output_type": "stream",
     "text": [
      "p\n",
      "y\n",
      "t\n",
      "h\n",
      "o\n",
      "n\n",
      "1\n",
      "2\n",
      "3\n"
     ]
    }
   ],
   "source": [
    "# what is mean by iterator\n",
    "# which data types we can iterate \n",
    "#which means which data types we can print by using for loop\n",
    "\n",
    "string1='python' \n",
    "for i in string1:print(i)\n",
    "#yes string can be itterated every single aplhbet\n",
    "list1=[1,2,3] \n",
    "for i in list1:\n",
    "    print(i)\n",
    "tuple1=(1,2,3,4)\n"
   ]
  },
  {
   "cell_type": "code",
   "execution_count": 28,
   "id": "c52c414a",
   "metadata": {},
   "outputs": [
    {
     "name": "stdout",
     "output_type": "stream",
     "text": [
      "10\n"
     ]
    }
   ],
   "source": [
    "a=10\n",
    "print(a)"
   ]
  },
  {
   "cell_type": "markdown",
   "id": "2e758da4",
   "metadata": {},
   "source": [
    "1. We can iterate strings, lists, tuples\n",
    "2. iterate means looping\n",
    "3. reversed keyword using below"
   ]
  },
  {
   "cell_type": "code",
   "execution_count": 33,
   "id": "f425d249",
   "metadata": {},
   "outputs": [
    {
     "name": "stdout",
     "output_type": "stream",
     "text": [
      "n\n",
      "o\n",
      "h\n",
      "t\n",
      "y\n",
      "p\n"
     ]
    }
   ],
   "source": [
    "val= reversed('python')\n",
    "for  i in val:\n",
    "    print(i)"
   ]
  },
  {
   "cell_type": "code",
   "execution_count": 45,
   "id": "914f5248",
   "metadata": {},
   "outputs": [
    {
     "data": {
      "text/plain": [
       "[1, 4, 9, 16]"
      ]
     },
     "execution_count": 45,
     "metadata": {},
     "output_type": "execute_result"
    }
   ],
   "source": [
    "list1=[1,2,3,4]\n",
    "#output=[1,4,9,16]\n",
    "\n",
    "#create a nrml function if it has a single value\n",
    "#def square(num):\n",
    "   # return(num*num)\n",
    "\n",
    "#square(10)\n",
    "\n",
    "list(map(lambda num: num*num, list1))# this is called list comprehension"
   ]
  },
  {
   "cell_type": "code",
   "execution_count": 49,
   "id": "bb2b9a26",
   "metadata": {},
   "outputs": [
    {
     "data": {
      "text/plain": [
       "[False, True, True, True]"
      ]
     },
     "execution_count": 49,
     "metadata": {},
     "output_type": "execute_result"
    }
   ],
   "source": [
    "list1=['hyd','biryani','Buvaneshwar','rasagulla']\n",
    "#output: ['Biryani','bhuvaneshwar',rasagulla]\n",
    "list(map(lambda i:len(i)>3,list1))\n"
   ]
  },
  {
   "cell_type": "code",
   "execution_count": 52,
   "id": "2d8b9d68",
   "metadata": {},
   "outputs": [
    {
     "name": "stdout",
     "output_type": "stream",
     "text": [
      "biryani\n",
      "Buvaneshwar\n",
      "rasagulla\n"
     ]
    },
    {
     "data": {
      "text/plain": [
       "['biryani', 'Buvaneshwar', 'rasagulla']"
      ]
     },
     "execution_count": 52,
     "metadata": {},
     "output_type": "execute_result"
    }
   ],
   "source": [
    "list1=['hyd','biryani','Buvaneshwar','rasagulla']\n",
    "\n",
    "#return the items which has length greater than 3\n",
    "for i in list1:\n",
    "    if len(i)>3:\n",
    "        print(i)\n",
    "        \n",
    "#step1:\n",
    "list(filter(lambda i: len(i)>3,list1))"
   ]
  },
  {
   "cell_type": "code",
   "execution_count": 59,
   "id": "147540d5",
   "metadata": {},
   "outputs": [
    {
     "data": {
      "text/plain": [
       "['Buvane#hwar', 'rasagu#la']"
      ]
     },
     "execution_count": 59,
     "metadata": {},
     "output_type": "execute_result"
    }
   ],
   "source": [
    "list1=['hyd','biryani','Buvane#hwar','rasagu#la']\n",
    "list(filter(lambda i:'#' in i, list1))\n",
    "#return those has # symbol\n",
    "#for i in list1:\n",
    "    #if"
   ]
  },
  {
   "cell_type": "code",
   "execution_count": 60,
   "id": "9a1dc9a5",
   "metadata": {},
   "outputs": [
    {
     "data": {
      "text/plain": [
       "[2, 4, 6]"
      ]
     },
     "execution_count": 60,
     "metadata": {},
     "output_type": "execute_result"
    }
   ],
   "source": [
    "list1=[1,2,3,4,5,6]\n",
    "list(filter(lambda i: i%2==0,list1))"
   ]
  },
  {
   "cell_type": "code",
   "execution_count": 63,
   "id": "3f69919e",
   "metadata": {},
   "outputs": [
    {
     "ename": "TypeError",
     "evalue": "'list' object cannot be interpreted as an integer",
     "output_type": "error",
     "traceback": [
      "\u001b[1;31m---------------------------------------------------------------------------\u001b[0m",
      "\u001b[1;31mTypeError\u001b[0m                                 Traceback (most recent call last)",
      "\u001b[1;32m~\\AppData\\Local\\Temp\\ipykernel_6912\\2365478891.py\u001b[0m in \u001b[0;36m<module>\u001b[1;34m\u001b[0m\n\u001b[0;32m      1\u001b[0m \u001b[0mlist1\u001b[0m\u001b[1;33m=\u001b[0m\u001b[1;33m[\u001b[0m\u001b[1;36m1\u001b[0m\u001b[1;33m,\u001b[0m\u001b[1;36m2\u001b[0m\u001b[1;33m,\u001b[0m\u001b[1;36m3\u001b[0m\u001b[1;33m,\u001b[0m\u001b[1;36m4\u001b[0m\u001b[1;33m,\u001b[0m\u001b[1;36m5\u001b[0m\u001b[1;33m,\u001b[0m\u001b[1;36m6\u001b[0m\u001b[1;33m]\u001b[0m\u001b[1;33m\u001b[0m\u001b[1;33m\u001b[0m\u001b[0m\n\u001b[1;32m----> 2\u001b[1;33m \u001b[1;32mfor\u001b[0m \u001b[0mi\u001b[0m \u001b[1;32min\u001b[0m \u001b[0mrange\u001b[0m\u001b[1;33m(\u001b[0m\u001b[0mlist1\u001b[0m\u001b[1;33m)\u001b[0m\u001b[1;33m:\u001b[0m\u001b[1;33m\u001b[0m\u001b[1;33m\u001b[0m\u001b[0m\n\u001b[0m\u001b[0;32m      3\u001b[0m     \u001b[1;32mif\u001b[0m \u001b[0mi\u001b[0m\u001b[1;33m%\u001b[0m\u001b[1;36m2\u001b[0m\u001b[1;33m==\u001b[0m\u001b[1;36m0\u001b[0m\u001b[1;33m:\u001b[0m\u001b[1;33m\u001b[0m\u001b[1;33m\u001b[0m\u001b[0m\n\u001b[0;32m      4\u001b[0m         \u001b[0mprint\u001b[0m\u001b[1;33m(\u001b[0m\u001b[1;34m'even'\u001b[0m\u001b[1;33m)\u001b[0m\u001b[1;33m\u001b[0m\u001b[1;33m\u001b[0m\u001b[0m\n\u001b[0;32m      5\u001b[0m     \u001b[1;32melse\u001b[0m\u001b[1;33m:\u001b[0m\u001b[1;33m\u001b[0m\u001b[1;33m\u001b[0m\u001b[0m\n",
      "\u001b[1;31mTypeError\u001b[0m: 'list' object cannot be interpreted as an integer"
     ]
    }
   ],
   "source": [
    "list1=[1,2,3,4,5,6]\n",
    "\n",
    "#output: [{'even'}]\n",
    "for i in range(list1):\n",
    "    if i%2==0:\n",
    "        print('even')\n",
    "    else:\n",
    "        print('odd')\n",
    "lambda i: "
   ]
  },
  {
   "cell_type": "code",
   "execution_count": null,
   "id": "3162b7cc",
   "metadata": {},
   "outputs": [],
   "source": [
    "list1=[1,2,3,4,5,6]\n",
    "list(map(lambda i: {i:'odd'}))\n"
   ]
  }
 ],
 "metadata": {
  "kernelspec": {
   "display_name": "Python 3 (ipykernel)",
   "language": "python",
   "name": "python3"
  },
  "language_info": {
   "codemirror_mode": {
    "name": "ipython",
    "version": 3
   },
   "file_extension": ".py",
   "mimetype": "text/x-python",
   "name": "python",
   "nbconvert_exporter": "python",
   "pygments_lexer": "ipython3",
   "version": "3.9.13"
  }
 },
 "nbformat": 4,
 "nbformat_minor": 5
}
