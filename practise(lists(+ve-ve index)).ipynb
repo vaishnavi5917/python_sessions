{
 "cells": [
  {
   "cell_type": "code",
   "execution_count": 1,
   "id": "172d3115",
   "metadata": {},
   "outputs": [
    {
     "name": "stdout",
     "output_type": "stream",
     "text": [
      "('A', 'B', 'C', 'D')\n"
     ]
    }
   ],
   "source": [
    "list1='A','B','C','D'\n",
    "print(list1)"
   ]
  },
  {
   "cell_type": "code",
   "execution_count": 15,
   "id": "0ec5c4b9",
   "metadata": {},
   "outputs": [
    {
     "name": "stdout",
     "output_type": "stream",
     "text": [
      "4\n"
     ]
    }
   ],
   "source": [
    "print(len(list1))"
   ]
  },
  {
   "cell_type": "code",
   "execution_count": 6,
   "id": "0dd6fc89",
   "metadata": {},
   "outputs": [
    {
     "name": "stdout",
     "output_type": "stream",
     "text": [
      "0\n",
      "1\n",
      "2\n",
      "3\n"
     ]
    }
   ],
   "source": [
    "for i in range(len(list1)):\n",
    "    print(i)"
   ]
  },
  {
   "cell_type": "code",
   "execution_count": 17,
   "id": "0f11e6ec",
   "metadata": {},
   "outputs": [
    {
     "name": "stdout",
     "output_type": "stream",
     "text": [
      "A ---> 0\n",
      "B ---> 1\n",
      "C ---> 2\n",
      "D ---> 3\n"
     ]
    }
   ],
   "source": [
    "#for loop\n",
    "for i in range(len(list1)):\n",
    "    print(list1[i],'--->',i)"
   ]
  },
  {
   "cell_type": "code",
   "execution_count": 21,
   "id": "7a1f5e8a",
   "metadata": {},
   "outputs": [
    {
     "name": "stdout",
     "output_type": "stream",
     "text": [
      "A ---> 0\n",
      "B ---> 1\n",
      "C ---> 2\n",
      "D ---> 3\n"
     ]
    }
   ],
   "source": [
    "#same while loop\n",
    "i=0\n",
    "while i<=3:\n",
    "    print(list1[i],'--->',i)\n",
    "    i=i+1"
   ]
  },
  {
   "cell_type": "code",
   "execution_count": null,
   "id": "d85e98b2",
   "metadata": {},
   "outputs": [],
   "source": [
    "#1.print the positive index of 'A' is 0\n",
    "#print the positive index of 'B' is 1\n",
    "\n",
    "#2.print the negative index of 'A' is 0\n",
    "#print the negative index of 'B' is 1\n",
    "\n",
    "#3. print the positive index of 'A' is 0 and negative index of 'A' is -4"
   ]
  },
  {
   "cell_type": "code",
   "execution_count": 22,
   "id": "ee18727c",
   "metadata": {},
   "outputs": [
    {
     "name": "stdout",
     "output_type": "stream",
     "text": [
      "The positive index of A is 0\n",
      "The positive index of B is 1\n",
      "The positive index of C is 2\n",
      "The positive index of D is 3\n"
     ]
    }
   ],
   "source": [
    "#q1.\n",
    "for i in range(len(list1)):\n",
    "    print(\"The positive index of {} is {}\".format(list1[i],i))"
   ]
  },
  {
   "cell_type": "code",
   "execution_count": 24,
   "id": "c5430cac",
   "metadata": {},
   "outputs": [
    {
     "name": "stdout",
     "output_type": "stream",
     "text": [
      "The positive index of A is 0\n",
      "The positive index of B is 1\n",
      "The positive index of C is 2\n",
      "The positive index of D is 3\n"
     ]
    }
   ],
   "source": [
    "# same qs with while loop\n",
    "i=0\n",
    "while i<=3:\n",
    "    print(\"The positive index of {} is {}\".format(list1[i],i))\n",
    "    i=i+1"
   ]
  },
  {
   "cell_type": "code",
   "execution_count": 30,
   "id": "2838703f",
   "metadata": {},
   "outputs": [
    {
     "name": "stdout",
     "output_type": "stream",
     "text": [
      "The negative index of A is -4\n",
      "The negative index of B is -3\n",
      "The negative index of C is -2\n",
      "The negative index of D is -1\n"
     ]
    }
   ],
   "source": [
    "#q2. with negative index\n",
    "for i in range(len(list1)):\n",
    "    print(\"The negative index of {} is {}\".format(list1[i],i-len(list1)))"
   ]
  },
  {
   "cell_type": "code",
   "execution_count": 36,
   "id": "3676ec50",
   "metadata": {},
   "outputs": [
    {
     "name": "stdout",
     "output_type": "stream",
     "text": [
      "The negative index of A is -4\n",
      "The negative index of B is -3\n",
      "The negative index of C is -2\n",
      "The negative index of D is -1\n"
     ]
    }
   ],
   "source": [
    "# same with while loop\n",
    "i=0\n",
    "while i<len(list1):\n",
    "    print(\"The negative index of {} is {}\".format(list1[i],i-len(list1)))\n",
    "    i=i+1\n",
    "    "
   ]
  },
  {
   "cell_type": "code",
   "execution_count": 35,
   "id": "d83a5649",
   "metadata": {},
   "outputs": [
    {
     "name": "stdout",
     "output_type": "stream",
     "text": [
      "The positive index and Negative index of A is 0 -4\n",
      "The positive index and Negative index of B is 1 -3\n",
      "The positive index and Negative index of C is 2 -2\n",
      "The positive index and Negative index of D is 3 -1\n"
     ]
    }
   ],
   "source": [
    "#q3. \n",
    "for i in range(len(list1)):\n",
    "    print(\"The positive index and Negative index of {} is {} {}\".format(list1[i],i,i-len(list1)))"
   ]
  },
  {
   "cell_type": "code",
   "execution_count": 38,
   "id": "a65f2093",
   "metadata": {},
   "outputs": [
    {
     "name": "stdout",
     "output_type": "stream",
     "text": [
      "The positive index and Negative index of A is 0 -4\n",
      "The positive index and Negative index of B is 1 -3\n",
      "The positive index and Negative index of C is 2 -2\n",
      "The positive index and Negative index of D is 3 -1\n"
     ]
    }
   ],
   "source": [
    "i=0\n",
    "while i<len(list1):\n",
    "    print(\"The positive index and Negative index of {} is {} {}\".format(list1[i],i,i-len(list1)))\n",
    "    i=i+1"
   ]
  },
  {
   "cell_type": "code",
   "execution_count": 39,
   "id": "53c984fd",
   "metadata": {},
   "outputs": [
    {
     "name": "stdout",
     "output_type": "stream",
     "text": [
      "The positive index and Negative index of A is 0 -4\n",
      "The positive index and Negative index of B is 1 -3\n",
      "The positive index and Negative index of C is 2 -2\n",
      "The positive index and Negative index of D is 3 -1\n"
     ]
    },
    {
     "ename": "IndexError",
     "evalue": "tuple index out of range",
     "output_type": "error",
     "traceback": [
      "\u001b[1;31m---------------------------------------------------------------------------\u001b[0m",
      "\u001b[1;31mIndexError\u001b[0m                                Traceback (most recent call last)",
      "\u001b[1;32m~\\AppData\\Local\\Temp\\ipykernel_13936\\4204720385.py\u001b[0m in \u001b[0;36m<module>\u001b[1;34m\u001b[0m\n\u001b[0;32m      1\u001b[0m \u001b[0mi\u001b[0m\u001b[1;33m=\u001b[0m\u001b[1;36m0\u001b[0m\u001b[1;33m\u001b[0m\u001b[1;33m\u001b[0m\u001b[0m\n\u001b[0;32m      2\u001b[0m \u001b[1;32mwhile\u001b[0m \u001b[0mi\u001b[0m\u001b[1;33m<=\u001b[0m\u001b[0mlen\u001b[0m\u001b[1;33m(\u001b[0m\u001b[0mlist1\u001b[0m\u001b[1;33m)\u001b[0m\u001b[1;33m:\u001b[0m\u001b[1;33m\u001b[0m\u001b[1;33m\u001b[0m\u001b[0m\n\u001b[1;32m----> 3\u001b[1;33m     \u001b[0mprint\u001b[0m\u001b[1;33m(\u001b[0m\u001b[1;34m\"The positive index and Negative index of {} is {} {}\"\u001b[0m\u001b[1;33m.\u001b[0m\u001b[0mformat\u001b[0m\u001b[1;33m(\u001b[0m\u001b[0mlist1\u001b[0m\u001b[1;33m[\u001b[0m\u001b[0mi\u001b[0m\u001b[1;33m]\u001b[0m\u001b[1;33m,\u001b[0m\u001b[0mi\u001b[0m\u001b[1;33m,\u001b[0m\u001b[0mi\u001b[0m\u001b[1;33m-\u001b[0m\u001b[0mlen\u001b[0m\u001b[1;33m(\u001b[0m\u001b[0mlist1\u001b[0m\u001b[1;33m)\u001b[0m\u001b[1;33m)\u001b[0m\u001b[1;33m)\u001b[0m\u001b[1;33m\u001b[0m\u001b[1;33m\u001b[0m\u001b[0m\n\u001b[0m\u001b[0;32m      4\u001b[0m     \u001b[0mi\u001b[0m\u001b[1;33m=\u001b[0m\u001b[0mi\u001b[0m\u001b[1;33m+\u001b[0m\u001b[1;36m1\u001b[0m\u001b[1;33m\u001b[0m\u001b[1;33m\u001b[0m\u001b[0m\n",
      "\u001b[1;31mIndexError\u001b[0m: tuple index out of range"
     ]
    }
   ],
   "source": [
    "i=0\n",
    "while i<=len(list1):\n",
    "    print(\"The positive index and Negative index of {} is {} {}\".format(list1[i],i,i-len(list1)))\n",
    "    i=i+1 #here error becoz in condition we entered i<=len(list1) i.e it < means it can be till 4(0,1,2,3) \n",
    "#but equals to means 4 also will come ie (0,1,2,3,4) thats why error"
   ]
  },
  {
   "cell_type": "code",
   "execution_count": null,
   "id": "5ef742d7",
   "metadata": {},
   "outputs": [],
   "source": []
  }
 ],
 "metadata": {
  "kernelspec": {
   "display_name": "Python 3 (ipykernel)",
   "language": "python",
   "name": "python3"
  },
  "language_info": {
   "codemirror_mode": {
    "name": "ipython",
    "version": 3
   },
   "file_extension": ".py",
   "mimetype": "text/x-python",
   "name": "python",
   "nbconvert_exporter": "python",
   "pygments_lexer": "ipython3",
   "version": "3.9.13"
  }
 },
 "nbformat": 4,
 "nbformat_minor": 5
}
