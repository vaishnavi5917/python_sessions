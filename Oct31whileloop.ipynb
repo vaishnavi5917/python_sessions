{
 "cells": [
  {
   "cell_type": "code",
   "execution_count": 1,
   "id": "687b6f4b",
   "metadata": {},
   "outputs": [
    {
     "name": "stdout",
     "output_type": "stream",
     "text": [
      "0 1 2 3 4 5 6 7 8 9 10 "
     ]
    }
   ],
   "source": [
    "i=0\n",
    "while i<=10:\n",
    "    print(i,end=' ') #right condition\n",
    "    i=i+1"
   ]
  },
  {
   "cell_type": "code",
   "execution_count": 2,
   "id": "27ad5a33",
   "metadata": {},
   "outputs": [
    {
     "name": "stdout",
     "output_type": "stream",
     "text": [
      "0 1 2 3 4 5 6 7 8 9 10 "
     ]
    }
   ],
   "source": [
    "i=0\n",
    "while i>=0:\n",
    "    print(i,end=' ')\n",
    "    i=i+1\n",
    "    if i==11:\n",
    "        break  "
   ]
  },
  {
   "cell_type": "code",
   "execution_count": 3,
   "id": "c2e4fb92",
   "metadata": {},
   "outputs": [
    {
     "name": "stdout",
     "output_type": "stream",
     "text": [
      "0 1 2 3 4 5 6 7 8 9 10 11 "
     ]
    }
   ],
   "source": [
    "# Another difference\n",
    "\n",
    "i=0\n",
    "while i>=0:\n",
    "    print(i,end=' ')\n",
    "    \n",
    "    if i==11:\n",
    "        break  \n",
    "    i=i+1   \n"
   ]
  },
  {
   "cell_type": "code",
   "execution_count": 4,
   "id": "ebbb025b",
   "metadata": {},
   "outputs": [
    {
     "name": "stdout",
     "output_type": "stream",
     "text": [
      "0 1 2 3 4 5 6 7 8 9 10 11 "
     ]
    }
   ],
   "source": [
    "# in order to stop this loop we need to apply a condition\n",
    "#inside the loop\n",
    "i=0\n",
    "while True: #if we dont know any condition we can write true but we need to write if confition or some condition\n",
    "    print(i,end=' ')\n",
    "    if i==11:   #condition to stop the loop\n",
    "        break\n",
    "    i+=1       #i=i+1 is same as i+=1"
   ]
  },
  {
   "cell_type": "code",
   "execution_count": 5,
   "id": "e4a79efc",
   "metadata": {},
   "outputs": [],
   "source": [
    "#True means always go inside the loop and thats why we use if condition and break"
   ]
  },
  {
   "cell_type": "code",
   "execution_count": 6,
   "id": "c7e12efa",
   "metadata": {},
   "outputs": [],
   "source": [
    "#wap ask the user get 10 random nos between 1 to 100\n",
    "# print it is a even no\n",
    "\n",
    "\n",
    "#first write for loop\n",
    "#import package\n",
    "# for i in range(n):\n",
    "# num=<package_name>.<method_name>(1,100)\n",
    "# if num%2==0:\n",
    "#    print('{} is an even no'.format(num))\n",
    "#  else:\n",
    "     #print('{} is an odd no'.format(num))  \n",
    "    \n",
    "    \n",
    "#then implement in while loop\n",
    "#initial point\n",
    "#while<condition>:\n",
    "#copy paste same lines under for loop\n",
    "#increment"
   ]
  },
  {
   "cell_type": "code",
   "execution_count": 7,
   "id": "fcbb11e5",
   "metadata": {},
   "outputs": [
    {
     "name": "stdout",
     "output_type": "stream",
     "text": [
      "69 is a odd no\n",
      "12 is an even no\n",
      "31 is a odd no\n",
      "88 is an even no\n",
      "72 is an even no\n",
      "35 is a odd no\n",
      "93 is a odd no\n",
      "23 is a odd no\n",
      "1 is a odd no\n",
      "90 is an even no\n"
     ]
    }
   ],
   "source": [
    "import random\n",
    "dir(random)\n",
    "for i in range(10):\n",
    "    num=random.randint(1,100)\n",
    "    if num%2==0:\n",
    "        print('{} is an even no'.format(num))\n",
    "    else:\n",
    "        print('{} is a odd no'.format(num))\n",
    "        "
   ]
  },
  {
   "cell_type": "code",
   "execution_count": 8,
   "id": "7de893b7",
   "metadata": {},
   "outputs": [
    {
     "name": "stdout",
     "output_type": "stream",
     "text": [
      "36 is an even no\n",
      "93 is a odd no\n",
      "77 is a odd no\n",
      "83 is a odd no\n",
      "59 is a odd no\n",
      "48 is an even no\n",
      "28 is an even no\n",
      "87 is a odd no\n",
      "43 is a odd no\n",
      "11 is a odd no\n"
     ]
    }
   ],
   "source": [
    "i=0\n",
    "while True:\n",
    "    num=random.randint(1,100)\n",
    "    if num%2==0:\n",
    "        print('{} is an even no'.format(num))\n",
    "    else:\n",
    "        print('{} is a odd no'.format(num))\n",
    "    i=i+1\n",
    "    if i==10:\n",
    "        break"
   ]
  },
  {
   "cell_type": "code",
   "execution_count": 9,
   "id": "bddf14b8",
   "metadata": {},
   "outputs": [],
   "source": [
    "#wap ask the user enter a no and get a square of the no\n",
    "# this task we need to do 3 times\n",
    "#num=eval(\"enter the no\")\n",
    "#print(\"the square of {} is {}\".format(num,num*num))\n",
    "\n",
    "#for loop\n",
    "#while loop"
   ]
  },
  {
   "cell_type": "code",
   "execution_count": 10,
   "id": "98bd7661",
   "metadata": {},
   "outputs": [
    {
     "name": "stdout",
     "output_type": "stream",
     "text": [
      "enter the no2\n",
      "the square of 2 is 4\n",
      "enter the no5\n",
      "the square of 5 is 25\n",
      "enter the no8\n",
      "the square of 8 is 64\n"
     ]
    }
   ],
   "source": [
    "for i in range(3):\n",
    "    num=eval(input(\"enter the no\"))\n",
    "    print(\"the square of {} is {}\".format(num,num*num))\n"
   ]
  },
  {
   "cell_type": "code",
   "execution_count": 11,
   "id": "eb093bbb",
   "metadata": {},
   "outputs": [
    {
     "name": "stdout",
     "output_type": "stream",
     "text": [
      "enter the no2\n",
      "the square of 2 is 4\n",
      "enter the no5\n",
      "the square of 5 is 25\n",
      "enter the no8\n",
      "the square of 8 is 64\n",
      "enter the no3\n",
      "the square of 3 is 9\n"
     ]
    }
   ],
   "source": [
    "i=0\n",
    "while i<=3:\n",
    "    num=eval(input(\"enter the no\"))\n",
    "    print(\"the square of {} is {}\".format(num,num*num))\n",
    "    i=i+1"
   ]
  },
  {
   "cell_type": "code",
   "execution_count": 12,
   "id": "3ac639c5",
   "metadata": {},
   "outputs": [],
   "source": [
    "# package name=time "
   ]
  },
  {
   "cell_type": "code",
   "execution_count": 13,
   "id": "fc236267",
   "metadata": {},
   "outputs": [
    {
     "name": "stdout",
     "output_type": "stream",
     "text": [
      "enter the no5\n",
      "the square of 5 is 25\n",
      "enter the no7\n",
      "the square of 7 is 49\n",
      "enter the no4\n",
      "the square of 4 is 16\n",
      "Time taken in seconds is: 1.741727352142334\n"
     ]
    }
   ],
   "source": [
    "import time\n",
    "start=time.time()  #starts here\n",
    "\n",
    "for i in range(3):\n",
    "    num=eval(input(\"enter the no\"))\n",
    "    print(\"the square of {} is {}\".format(num,num*num))\n",
    "\n",
    "end=time.time()\n",
    "print(\"Time taken in seconds is:\",end-start)"
   ]
  },
  {
   "cell_type": "code",
   "execution_count": 14,
   "id": "77b297b7",
   "metadata": {},
   "outputs": [
    {
     "name": "stdout",
     "output_type": "stream",
     "text": [
      "enter the no5\n",
      "the square of 5 is 25\n",
      "enter the no7\n",
      "the square of 7 is 49\n",
      "enter the no4\n",
      "the square of 4 is 16\n",
      "enter the no2\n",
      "the square of 2 is 4\n",
      "Time taken in seconds is: 3.4358396530151367\n"
     ]
    }
   ],
   "source": [
    "start=time.time()\n",
    "i=0\n",
    "while i<=3:\n",
    "    num=eval(input(\"enter the no\"))\n",
    "    print(\"the square of {} is {}\".format(num,num*num))\n",
    "    i=i+1\n",
    "    \n",
    "end=time.time()\n",
    "print(\"Time taken in seconds is:\",end-start)"
   ]
  },
  {
   "cell_type": "code",
   "execution_count": 15,
   "id": "c3ad9b30",
   "metadata": {},
   "outputs": [
    {
     "name": "stdout",
     "output_type": "stream",
     "text": [
      "hii\n",
      "hello\n",
      "enter a no3\n"
     ]
    }
   ],
   "source": [
    "print(\"hii\")\n",
    "print(\"hello\")\n",
    "num=eval(input(\"enter a no\"))"
   ]
  },
  {
   "cell_type": "code",
   "execution_count": 16,
   "id": "cfc3552b",
   "metadata": {},
   "outputs": [
    {
     "name": "stdout",
     "output_type": "stream",
     "text": [
      "hii\n",
      "hello\n",
      "enter a no2\n"
     ]
    }
   ],
   "source": [
    "print(\"hii\")\n",
    "time.sleep(2)\n",
    "print(\"hello\") #after 2 seconds hello will print\n",
    "time.sleep(3)\n",
    "num=eval(input(\"enter a no\")) #after 3 seconds enter a no "
   ]
  },
  {
   "cell_type": "code",
   "execution_count": 17,
   "id": "fb210665",
   "metadata": {},
   "outputs": [],
   "source": [
    "#wap ask the user print sum of natural nos\n",
    "#with for loop\n",
    "#with while loop"
   ]
  },
  {
   "cell_type": "code",
   "execution_count": 18,
   "id": "26cfd10e",
   "metadata": {},
   "outputs": [
    {
     "name": "stdout",
     "output_type": "stream",
     "text": [
      "55\n"
     ]
    }
   ],
   "source": [
    "#num=eval(input(\"Sum of 10 natural nos: \"))\n",
    "num=0\n",
    "for i in range(0,11):\n",
    "    num=num+i\n",
    "print(num)\n",
    "    "
   ]
  },
  {
   "cell_type": "code",
   "execution_count": 21,
   "id": "a35b24b2",
   "metadata": {},
   "outputs": [
    {
     "name": "stdout",
     "output_type": "stream",
     "text": [
      "66\n"
     ]
    }
   ],
   "source": [
    "i=1\n",
    "num=0\n",
    "while i<=11:\n",
    "    num=num+i\n",
    "    i+=1\n",
    "    \n",
    "print(num)"
   ]
  },
  {
   "cell_type": "code",
   "execution_count": null,
   "id": "ed649e85",
   "metadata": {},
   "outputs": [],
   "source": []
  }
 ],
 "metadata": {
  "kernelspec": {
   "display_name": "Python 3 (ipykernel)",
   "language": "python",
   "name": "python3"
  },
  "language_info": {
   "codemirror_mode": {
    "name": "ipython",
    "version": 3
   },
   "file_extension": ".py",
   "mimetype": "text/x-python",
   "name": "python",
   "nbconvert_exporter": "python",
   "pygments_lexer": "ipython3",
   "version": "3.9.13"
  }
 },
 "nbformat": 4,
 "nbformat_minor": 5
}
