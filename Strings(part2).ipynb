{
 "cells": [
  {
   "cell_type": "code",
   "execution_count": 1,
   "id": "f276ce83",
   "metadata": {},
   "outputs": [],
   "source": [
    "# how to read the strings\n",
    "#single/double quotes\n",
    "#triple quotes(doc string)\n",
    "# type method\n",
    "#len method\n",
    "# max min method\n",
    "#concatenation (add of strings)\n",
    "#index operations\n",
    "#how to iterate the letters by using for loop range function\n",
    "# also learnt using while loop\n",
    "# positvie/negative/both combined\n",
    "#counter programs(counting no of 'a')\n",
    "#index of 'a'\n",
    "#no of vowels\n",
    "#no of unique vowels\n"
   ]
  },
  {
   "cell_type": "code",
   "execution_count": 3,
   "id": "d52cad7c",
   "metadata": {},
   "outputs": [],
   "source": [
    "str1='hello'\n",
    "str2='python'"
   ]
  },
  {
   "cell_type": "code",
   "execution_count": 5,
   "id": "cf637321",
   "metadata": {},
   "outputs": [
    {
     "name": "stdout",
     "output_type": "stream",
     "text": [
      "hellopython\n"
     ]
    }
   ],
   "source": [
    "print(str1+str2)"
   ]
  },
  {
   "cell_type": "code",
   "execution_count": null,
   "id": "f2f3e392",
   "metadata": {},
   "outputs": [],
   "source": [
    "#$mutability$-$Immutability$"
   ]
  },
  {
   "cell_type": "code",
   "execution_count": 7,
   "id": "337ae572",
   "metadata": {},
   "outputs": [],
   "source": [
    "string1='python'\n",
    "\n",
    "#I want to replace 'p' with 'P'\n",
    "#based on index operation if u change it or not\n",
    "#if u change the value by using (index operation) we need to pakka ention this bracket: mutable\n",
    "#if u couldn't change the value by using index operation: immutable"
   ]
  },
  {
   "cell_type": "code",
   "execution_count": 8,
   "id": "3630036f",
   "metadata": {},
   "outputs": [
    {
     "ename": "TypeError",
     "evalue": "'str' object does not support item assignment",
     "output_type": "error",
     "traceback": [
      "\u001b[1;31m---------------------------------------------------------------------------\u001b[0m",
      "\u001b[1;31mTypeError\u001b[0m                                 Traceback (most recent call last)",
      "\u001b[1;32m~\\AppData\\Local\\Temp\\ipykernel_2000\\1713875836.py\u001b[0m in \u001b[0;36m<module>\u001b[1;34m\u001b[0m\n\u001b[1;32m----> 1\u001b[1;33m \u001b[0mstring1\u001b[0m\u001b[1;33m[\u001b[0m\u001b[1;36m0\u001b[0m\u001b[1;33m]\u001b[0m\u001b[1;33m=\u001b[0m\u001b[1;34m'P'\u001b[0m\u001b[1;33m\u001b[0m\u001b[1;33m\u001b[0m\u001b[0m\n\u001b[0m\u001b[0;32m      2\u001b[0m \u001b[1;33m\u001b[0m\u001b[0m\n\u001b[0;32m      3\u001b[0m \u001b[1;31m#strings are immutable\u001b[0m\u001b[1;33m\u001b[0m\u001b[1;33m\u001b[0m\u001b[0m\n",
      "\u001b[1;31mTypeError\u001b[0m: 'str' object does not support item assignment"
     ]
    }
   ],
   "source": [
    "string1[0]='P'\n",
    "\n",
    "#strings are immutable "
   ]
  },
  {
   "cell_type": "code",
   "execution_count": 9,
   "id": "1e54ad35",
   "metadata": {},
   "outputs": [],
   "source": [
    "list1=[10,20,30]"
   ]
  },
  {
   "cell_type": "code",
   "execution_count": 10,
   "id": "ef40c5c6",
   "metadata": {},
   "outputs": [],
   "source": [
    "list1[0]=100"
   ]
  },
  {
   "cell_type": "code",
   "execution_count": 12,
   "id": "835c4e7e",
   "metadata": {},
   "outputs": [
    {
     "data": {
      "text/plain": [
       "100"
      ]
     },
     "execution_count": 12,
     "metadata": {},
     "output_type": "execute_result"
    }
   ],
   "source": [
    "list1[0]"
   ]
  },
  {
   "cell_type": "code",
   "execution_count": 13,
   "id": "f3dd2368",
   "metadata": {},
   "outputs": [],
   "source": [
    "# SLICING\n",
    "\n",
    "string1='hello how are you'"
   ]
  },
  {
   "cell_type": "code",
   "execution_count": 14,
   "id": "139b87c6",
   "metadata": {},
   "outputs": [],
   "source": [
    "#this concept is same as range() in for loop"
   ]
  },
  {
   "cell_type": "code",
   "execution_count": 15,
   "id": "3e2c89b2",
   "metadata": {},
   "outputs": [
    {
     "data": {
      "text/plain": [
       "'h'"
      ]
     },
     "execution_count": 15,
     "metadata": {},
     "output_type": "execute_result"
    }
   ],
   "source": [
    "string1='hello how are you'\n",
    "string1[0]\n",
    "#string1[start:stop]\n",
    "\n",
    "#range(start,stop,step) for range fn we will use (,comma)\n",
    "# for slicing fn we use (colon:)"
   ]
  },
  {
   "cell_type": "code",
   "execution_count": 17,
   "id": "fa65c412",
   "metadata": {},
   "outputs": [
    {
     "data": {
      "text/plain": [
       "'llo how '"
      ]
     },
     "execution_count": 17,
     "metadata": {},
     "output_type": "execute_result"
    }
   ],
   "source": [
    "string1[2:10]\n",
    "\n",
    "#wt is the direction: positive\n",
    "#start=2\n",
    "#stop=10-1=9"
   ]
  },
  {
   "cell_type": "code",
   "execution_count": 16,
   "id": "4abee4d4",
   "metadata": {},
   "outputs": [
    {
     "ename": "SyntaxError",
     "evalue": "invalid syntax (2337443126.py, line 1)",
     "output_type": "error",
     "traceback": [
      "\u001b[1;36m  File \u001b[1;32m\"C:\\Users\\Vaishnavi\\AppData\\Local\\Temp\\ipykernel_2000\\2337443126.py\"\u001b[1;36m, line \u001b[1;32m1\u001b[0m\n\u001b[1;33m    h  e  l  l  o   h  o  w    a  r  e    y  o  u\u001b[0m\n\u001b[1;37m       ^\u001b[0m\n\u001b[1;31mSyntaxError\u001b[0m\u001b[1;31m:\u001b[0m invalid syntax\n"
     ]
    }
   ],
   "source": [
    "h  e  l  l  o   h  o  w    a  r  e    y  o  u\n",
    "0  1  2  3  4   5  6  7    8  9  10   11 12 13 "
   ]
  },
  {
   "cell_type": "code",
   "execution_count": 18,
   "id": "977b3e22",
   "metadata": {},
   "outputs": [
    {
     "data": {
      "text/plain": [
       "17"
      ]
     },
     "execution_count": 18,
     "metadata": {},
     "output_type": "execute_result"
    }
   ],
   "source": [
    "len(string1)"
   ]
  },
  {
   "cell_type": "code",
   "execution_count": 19,
   "id": "ea7b8ed4",
   "metadata": {},
   "outputs": [
    {
     "data": {
      "text/plain": [
       "'el o r '"
      ]
     },
     "execution_count": 19,
     "metadata": {},
     "output_type": "execute_result"
    }
   ],
   "source": [
    "string1[1:15:2]\n",
    "#start=1\n",
    "#stop=15-1=14\n",
    "#post:  step=2\n",
    "# 1   3   5   7   9   11   13\n",
    "# e   l       o       r"
   ]
  },
  {
   "cell_type": "code",
   "execution_count": 20,
   "id": "96cb61e4",
   "metadata": {},
   "outputs": [
    {
     "data": {
      "text/plain": [
       "''"
      ]
     },
     "execution_count": 20,
     "metadata": {},
     "output_type": "execute_result"
    }
   ],
   "source": [
    "string1[1:15:-2]\n",
    "#start=1\n",
    "#stop=16\n",
    "#dire=-ve"
   ]
  },
  {
   "cell_type": "code",
   "execution_count": 21,
   "id": "a01c6273",
   "metadata": {},
   "outputs": [
    {
     "data": {
      "text/plain": [
       "'hello how are you'"
      ]
     },
     "execution_count": 21,
     "metadata": {},
     "output_type": "execute_result"
    }
   ],
   "source": [
    "string1[::]  #string1[start:stop:step]"
   ]
  },
  {
   "cell_type": "code",
   "execution_count": 22,
   "id": "15659420",
   "metadata": {},
   "outputs": [
    {
     "data": {
      "text/plain": [
       "'hello how are you'"
      ]
     },
     "execution_count": 22,
     "metadata": {},
     "output_type": "execute_result"
    }
   ],
   "source": [
    "string1[0:] #string1=[start=0: stop: step]"
   ]
  },
  {
   "cell_type": "code",
   "execution_count": 23,
   "id": "98196b95",
   "metadata": {},
   "outputs": [
    {
     "name": "stdout",
     "output_type": "stream",
     "text": [
      "hello how are you\n"
     ]
    }
   ],
   "source": [
    "print(string1[:len(string1)])"
   ]
  },
  {
   "cell_type": "code",
   "execution_count": 25,
   "id": "49f90d05",
   "metadata": {},
   "outputs": [
    {
     "name": "stdout",
     "output_type": "stream",
     "text": [
      "hello how are you\n",
      "hello how are you\n"
     ]
    }
   ],
   "source": [
    "print(string1[:])\n",
    "print(string1[::])"
   ]
  },
  {
   "cell_type": "code",
   "execution_count": null,
   "id": "c3677d19",
   "metadata": {},
   "outputs": [],
   "source": [
    "-17 -16 -15 -14 -13 -12  -11 -10 -9   -8 -7 -6  -5  -4  -3  -2 -1\n",
    "h    e   l   l   o        h   o   w    a  r  e       y   o   u\n",
    "0    1   2   3   4   5    6   7   8    9  10 11 12  13  14  15 16"
   ]
  },
  {
   "cell_type": "code",
   "execution_count": 26,
   "id": "afb0eef3",
   "metadata": {},
   "outputs": [
    {
     "data": {
      "text/plain": [
       "''"
      ]
     },
     "execution_count": 26,
     "metadata": {},
     "output_type": "execute_result"
    }
   ],
   "source": [
    "string1[-2:-15]\n",
    "#start=-2\n",
    "#direction=\n",
    "#step value ntg mentioned: positive\n",
    "#not possible"
   ]
  },
  {
   "cell_type": "code",
   "execution_count": 27,
   "id": "29b09990",
   "metadata": {},
   "outputs": [
    {
     "data": {
      "text/plain": [
       "'oy era woh ol'"
      ]
     },
     "execution_count": 27,
     "metadata": {},
     "output_type": "execute_result"
    }
   ],
   "source": [
    "string1[-2:-15:-1]\n",
    "#start=-2  dire=-ve  stop=-15+1=14  possible"
   ]
  },
  {
   "cell_type": "code",
   "execution_count": 28,
   "id": "3971612b",
   "metadata": {},
   "outputs": [
    {
     "data": {
      "text/plain": [
       "''"
      ]
     },
     "execution_count": 28,
     "metadata": {},
     "output_type": "execute_result"
    }
   ],
   "source": [
    "string1[-15:-2:-1]"
   ]
  },
  {
   "cell_type": "code",
   "execution_count": 29,
   "id": "c6cf51ef",
   "metadata": {},
   "outputs": [
    {
     "data": {
      "text/plain": [
       "''"
      ]
     },
     "execution_count": 29,
     "metadata": {},
     "output_type": "execute_result"
    }
   ],
   "source": [
    "string1[-15:-2:-2]"
   ]
  },
  {
   "cell_type": "code",
   "execution_count": 30,
   "id": "bf09f464",
   "metadata": {},
   "outputs": [
    {
     "data": {
      "text/plain": [
       "'woh ol'"
      ]
     },
     "execution_count": 30,
     "metadata": {},
     "output_type": "execute_result"
    }
   ],
   "source": [
    "string1[8:-15:-1]"
   ]
  },
  {
   "cell_type": "code",
   "execution_count": 31,
   "id": "416f54e6",
   "metadata": {},
   "outputs": [
    {
     "data": {
      "text/plain": [
       "'w'"
      ]
     },
     "execution_count": 31,
     "metadata": {},
     "output_type": "execute_result"
    }
   ],
   "source": [
    "string1[8:-10:-1]"
   ]
  },
  {
   "cell_type": "code",
   "execution_count": 32,
   "id": "b652061b",
   "metadata": {},
   "outputs": [
    {
     "data": {
      "text/plain": [
       "'w'"
      ]
     },
     "execution_count": 32,
     "metadata": {},
     "output_type": "execute_result"
    }
   ],
   "source": [
    "string1[8:-10:-2]"
   ]
  },
  {
   "cell_type": "code",
   "execution_count": 33,
   "id": "461adb38",
   "metadata": {},
   "outputs": [
    {
     "data": {
      "text/plain": [
       "'l '"
      ]
     },
     "execution_count": 33,
     "metadata": {},
     "output_type": "execute_result"
    }
   ],
   "source": [
    "string1[-15:8:3]"
   ]
  },
  {
   "cell_type": "code",
   "execution_count": 34,
   "id": "4b471952",
   "metadata": {},
   "outputs": [
    {
     "data": {
      "text/plain": [
       "'hello how are you'"
      ]
     },
     "execution_count": 34,
     "metadata": {},
     "output_type": "execute_result"
    }
   ],
   "source": [
    "#If i want reverse the string\n",
    "string1[::1]\n",
    "#positive dir:\n",
    "#start:start\n",
    "#stop=last"
   ]
  },
  {
   "cell_type": "code",
   "execution_count": 35,
   "id": "1cc62cc3",
   "metadata": {},
   "outputs": [
    {
     "data": {
      "text/plain": [
       "'uoy era woh olleh'"
      ]
     },
     "execution_count": 35,
     "metadata": {},
     "output_type": "execute_result"
    }
   ],
   "source": [
    "string1[::-1]\n",
    "#In negative: \n",
    "#start:u\n",
    "#stop:h"
   ]
  },
  {
   "cell_type": "code",
   "execution_count": 36,
   "id": "18d6209b",
   "metadata": {},
   "outputs": [],
   "source": [
    "#STRING METHODS:\n"
   ]
  },
  {
   "cell_type": "code",
   "execution_count": 37,
   "id": "fec8af11",
   "metadata": {},
   "outputs": [
    {
     "data": {
      "text/plain": [
       "['__add__',\n",
       " '__class__',\n",
       " '__contains__',\n",
       " '__delattr__',\n",
       " '__dir__',\n",
       " '__doc__',\n",
       " '__eq__',\n",
       " '__format__',\n",
       " '__ge__',\n",
       " '__getattribute__',\n",
       " '__getitem__',\n",
       " '__getnewargs__',\n",
       " '__gt__',\n",
       " '__hash__',\n",
       " '__init__',\n",
       " '__init_subclass__',\n",
       " '__iter__',\n",
       " '__le__',\n",
       " '__len__',\n",
       " '__lt__',\n",
       " '__mod__',\n",
       " '__mul__',\n",
       " '__ne__',\n",
       " '__new__',\n",
       " '__reduce__',\n",
       " '__reduce_ex__',\n",
       " '__repr__',\n",
       " '__rmod__',\n",
       " '__rmul__',\n",
       " '__setattr__',\n",
       " '__sizeof__',\n",
       " '__str__',\n",
       " '__subclasshook__',\n",
       " 'capitalize',\n",
       " 'casefold',\n",
       " 'center',\n",
       " 'count',\n",
       " 'encode',\n",
       " 'endswith',\n",
       " 'expandtabs',\n",
       " 'find',\n",
       " 'format',\n",
       " 'format_map',\n",
       " 'index',\n",
       " 'isalnum',\n",
       " 'isalpha',\n",
       " 'isascii',\n",
       " 'isdecimal',\n",
       " 'isdigit',\n",
       " 'isidentifier',\n",
       " 'islower',\n",
       " 'isnumeric',\n",
       " 'isprintable',\n",
       " 'isspace',\n",
       " 'istitle',\n",
       " 'isupper',\n",
       " 'join',\n",
       " 'ljust',\n",
       " 'lower',\n",
       " 'lstrip',\n",
       " 'maketrans',\n",
       " 'partition',\n",
       " 'removeprefix',\n",
       " 'removesuffix',\n",
       " 'replace',\n",
       " 'rfind',\n",
       " 'rindex',\n",
       " 'rjust',\n",
       " 'rpartition',\n",
       " 'rsplit',\n",
       " 'rstrip',\n",
       " 'split',\n",
       " 'splitlines',\n",
       " 'startswith',\n",
       " 'strip',\n",
       " 'swapcase',\n",
       " 'title',\n",
       " 'translate',\n",
       " 'upper',\n",
       " 'zfill']"
      ]
     },
     "execution_count": 37,
     "metadata": {},
     "output_type": "execute_result"
    }
   ],
   "source": [
    "dir('name')"
   ]
  },
  {
   "cell_type": "code",
   "execution_count": 43,
   "id": "70c0fe39",
   "metadata": {},
   "outputs": [],
   "source": [
    "#CAPITALISE METHOD:\n",
    "\n",
    "name='nareshit'\n",
    "#how to read method\n",
    "#<package_name>.<method>"
   ]
  },
  {
   "cell_type": "code",
   "execution_count": 39,
   "id": "47324eb4",
   "metadata": {},
   "outputs": [
    {
     "name": "stdout",
     "output_type": "stream",
     "text": [
      "Help on built-in function capitalize:\n",
      "\n",
      "capitalize() method of builtins.str instance\n",
      "    Return a capitalized version of the string.\n",
      "    \n",
      "    More specifically, make the first character have upper case and the rest lower\n",
      "    case.\n",
      "\n"
     ]
    }
   ],
   "source": [
    "help(name.capitalize)"
   ]
  },
  {
   "cell_type": "code",
   "execution_count": 40,
   "id": "d1a21eaf",
   "metadata": {},
   "outputs": [
    {
     "data": {
      "text/plain": [
       "'Naresh it'"
      ]
     },
     "execution_count": 40,
     "metadata": {},
     "output_type": "execute_result"
    }
   ],
   "source": [
    "name.capitalize()"
   ]
  },
  {
   "cell_type": "code",
   "execution_count": 45,
   "id": "9b5ee172",
   "metadata": {},
   "outputs": [
    {
     "data": {
      "text/plain": [
       "'Naresh it'"
      ]
     },
     "execution_count": 45,
     "metadata": {},
     "output_type": "execute_result"
    }
   ],
   "source": [
    "name='naresh it'\n",
    "name.capitalize()"
   ]
  },
  {
   "cell_type": "code",
   "execution_count": 46,
   "id": "92bc76a8",
   "metadata": {},
   "outputs": [
    {
     "name": "stdout",
     "output_type": "stream",
     "text": [
      "Help on built-in function upper:\n",
      "\n",
      "upper() method of builtins.str instance\n",
      "    Return a copy of the string converted to uppercase.\n",
      "\n"
     ]
    }
   ],
   "source": [
    "#UPPER AND LOWER\n",
    "name='naresh it'\n",
    "help(name.upper)"
   ]
  },
  {
   "cell_type": "code",
   "execution_count": 47,
   "id": "a336d652",
   "metadata": {},
   "outputs": [
    {
     "data": {
      "text/plain": [
       "'NARESH IT'"
      ]
     },
     "execution_count": 47,
     "metadata": {},
     "output_type": "execute_result"
    }
   ],
   "source": [
    "name.upper()"
   ]
  },
  {
   "cell_type": "code",
   "execution_count": 48,
   "id": "237edb6d",
   "metadata": {},
   "outputs": [
    {
     "data": {
      "text/plain": [
       "'naresh it'"
      ]
     },
     "execution_count": 48,
     "metadata": {},
     "output_type": "execute_result"
    }
   ],
   "source": [
    "name.lower()"
   ]
  },
  {
   "cell_type": "code",
   "execution_count": 51,
   "id": "ca07f186",
   "metadata": {},
   "outputs": [
    {
     "name": "stdout",
     "output_type": "stream",
     "text": [
      "Naresh it\n",
      "NARESH IT\n",
      "naresh it\n"
     ]
    }
   ],
   "source": [
    "name1='naresh IT'\n",
    "print(name1.capitalize())\n",
    "print(name1.upper())\n",
    "print(name1.lower())"
   ]
  },
  {
   "cell_type": "code",
   "execution_count": 52,
   "id": "df253b59",
   "metadata": {},
   "outputs": [
    {
     "name": "stdout",
     "output_type": "stream",
     "text": [
      "Help on built-in function casefold:\n",
      "\n",
      "casefold() method of builtins.str instance\n",
      "    Return a version of the string suitable for caseless comparisons.\n",
      "\n"
     ]
    }
   ],
   "source": [
    "#CASE FOLD\n",
    "name2='naresh it'\n",
    "help(name.casefold)\n"
   ]
  },
  {
   "cell_type": "code",
   "execution_count": 56,
   "id": "3ccd2094",
   "metadata": {},
   "outputs": [
    {
     "data": {
      "text/plain": [
       "'nareshit'"
      ]
     },
     "execution_count": 56,
     "metadata": {},
     "output_type": "execute_result"
    }
   ],
   "source": [
    "name2='Naresh it'\n",
    "name.casefold()"
   ]
  },
  {
   "cell_type": "code",
   "execution_count": 64,
   "id": "cfceed48",
   "metadata": {},
   "outputs": [
    {
     "data": {
      "text/plain": [
       "'Hello'"
      ]
     },
     "execution_count": 64,
     "metadata": {},
     "output_type": "execute_result"
    }
   ],
   "source": [
    "string1='hello'\n",
    "string2='H'\n",
    "string3=string1[1:]\n",
    "string2+string3\n",
    "\n",
    "#output: string1='Hello' without using string method\n"
   ]
  },
  {
   "cell_type": "code",
   "execution_count": 69,
   "id": "daea95fa",
   "metadata": {},
   "outputs": [
    {
     "name": "stdout",
     "output_type": "stream",
     "text": [
      "3\n",
      "0.0\n"
     ]
    }
   ],
   "source": [
    "string='hello hai how are you'\n",
    "#how many h:3\n",
    "import time\n",
    "start=time.time()\n",
    "count=0\n",
    "for i in string:\n",
    "    if i in string:\n",
    "        if i=='h':\n",
    "            count=count+1\n",
    "print(count)\n",
    "end=time.time()\n",
    "print(end-start)"
   ]
  },
  {
   "cell_type": "code",
   "execution_count": 1,
   "id": "9a6fdf78",
   "metadata": {},
   "outputs": [],
   "source": [
    "# NOVEMBER 6th\n",
    "\n",
    "#REPLACE"
   ]
  },
  {
   "cell_type": "code",
   "execution_count": 2,
   "id": "89e2fe72",
   "metadata": {},
   "outputs": [],
   "source": [
    "string1='welcome'\n",
    "# I want replace 'l' with 'L'"
   ]
  },
  {
   "cell_type": "code",
   "execution_count": 3,
   "id": "1e6c8126",
   "metadata": {},
   "outputs": [
    {
     "ename": "TypeError",
     "evalue": "'str' object does not support item assignment",
     "output_type": "error",
     "traceback": [
      "\u001b[1;31m---------------------------------------------------------------------------\u001b[0m",
      "\u001b[1;31mTypeError\u001b[0m                                 Traceback (most recent call last)",
      "\u001b[1;32m~\\AppData\\Local\\Temp\\ipykernel_25264\\3576152369.py\u001b[0m in \u001b[0;36m<module>\u001b[1;34m\u001b[0m\n\u001b[1;32m----> 1\u001b[1;33m \u001b[0mstring1\u001b[0m\u001b[1;33m[\u001b[0m\u001b[1;36m2\u001b[0m\u001b[1;33m]\u001b[0m\u001b[1;33m=\u001b[0m\u001b[1;34m'L'\u001b[0m\u001b[1;33m\u001b[0m\u001b[1;33m\u001b[0m\u001b[0m\n\u001b[0m",
      "\u001b[1;31mTypeError\u001b[0m: 'str' object does not support item assignment"
     ]
    }
   ],
   "source": [
    "string1[2]='L' #will get error becoz strings are immutable"
   ]
  },
  {
   "cell_type": "code",
   "execution_count": 14,
   "id": "c1ffa770",
   "metadata": {},
   "outputs": [
    {
     "data": {
      "text/plain": [
       "'weLcome'"
      ]
     },
     "execution_count": 14,
     "metadata": {},
     "output_type": "execute_result"
    }
   ],
   "source": [
    "#welcome===\n",
    "#we=string1[:2]\n",
    "#come= string1[3:]\n",
    "string1[:2]+'L'+string1[3:] #this is nrml operation i.e slicing + concatenation\n"
   ]
  },
  {
   "cell_type": "code",
   "execution_count": 5,
   "id": "ea06ca22",
   "metadata": {},
   "outputs": [
    {
     "data": {
      "text/plain": [
       "'weLcome'"
      ]
     },
     "execution_count": 5,
     "metadata": {},
     "output_type": "execute_result"
    }
   ],
   "source": [
    "string1.replace('l','L')"
   ]
  },
  {
   "cell_type": "code",
   "execution_count": 7,
   "id": "8ad8fd44",
   "metadata": {},
   "outputs": [
    {
     "data": {
      "text/plain": [
       "'weLcome'"
      ]
     },
     "execution_count": 7,
     "metadata": {},
     "output_type": "execute_result"
    }
   ],
   "source": [
    "#all together\n",
    "string1='welcome'\n",
    "#======slicing+concatenation====\n",
    "string1[:2]+'L'+string1[3:]\n",
    "#======Replace method=====\n",
    "string1.replace('l','L')"
   ]
  },
  {
   "cell_type": "code",
   "execution_count": 6,
   "id": "18cf1bf3",
   "metadata": {},
   "outputs": [
    {
     "data": {
      "text/plain": [
       "'$esta$t'"
      ]
     },
     "execution_count": 6,
     "metadata": {},
     "output_type": "execute_result"
    }
   ],
   "source": [
    "# input: restart\n",
    "#output1: $estart\n",
    "#output2: resta$t\n",
    "\n",
    "#what is the initial drawback\n",
    "'restart'.replace('r','$')\n",
    "#replace method will replace with all the occurences like all r's in this."
   ]
  },
  {
   "cell_type": "code",
   "execution_count": 20,
   "id": "b4a14ba8",
   "metadata": {},
   "outputs": [
    {
     "data": {
      "text/plain": [
       "'restart$restar'"
      ]
     },
     "execution_count": 20,
     "metadata": {},
     "output_type": "execute_result"
    }
   ],
   "source": [
    "string1='restart'\n",
    "string1[:]+'$'+string1[:6]"
   ]
  },
  {
   "cell_type": "code",
   "execution_count": 23,
   "id": "b46b450f",
   "metadata": {},
   "outputs": [
    {
     "data": {
      "text/plain": [
       "'$estart'"
      ]
     },
     "execution_count": 23,
     "metadata": {},
     "output_type": "execute_result"
    }
   ],
   "source": [
    "string1='restart'\n",
    "string1.replace('restart','$estart')"
   ]
  },
  {
   "cell_type": "code",
   "execution_count": 28,
   "id": "8a8ccf6d",
   "metadata": {},
   "outputs": [
    {
     "name": "stdout",
     "output_type": "stream",
     "text": [
      "$esta$t\n",
      "$estart\n"
     ]
    },
    {
     "data": {
      "text/plain": [
       "'resta$t'"
      ]
     },
     "execution_count": 28,
     "metadata": {},
     "output_type": "execute_result"
    }
   ],
   "source": [
    "string1='restart'\n",
    "print(string1.replace('r','$'))\n",
    "#in above code im not providing count value\n",
    "#what is default value=-1\n",
    "#replace maximum occurences\n",
    "\n",
    "print(string1.replace('r','$',1)) #dont give count=1 dont assign any variable\n",
    "#whenever u see '/' in the function inside\n",
    "#then dont provide vraiable name\n",
    "\n",
    "# 1 means what is replace one occurence only\n",
    "\n",
    "#now i want to do second occurence\n",
    "#as of now we r counting the index \n",
    "string1[1:] #'estart'\n",
    "string1[:1] #'r'\n",
    "\n",
    "print(string1[:1]+string1[1:].replace('r','$',1))"
   ]
  },
  {
   "cell_type": "code",
   "execution_count": 31,
   "id": "cd70b425",
   "metadata": {},
   "outputs": [
    {
     "name": "stdout",
     "output_type": "stream",
     "text": [
      "resta$t\n"
     ]
    }
   ],
   "source": [
    "str1=string1[1:] #'estart'\n",
    "str2=string1[:1] #'r'\n",
    "str3=str1.replace('r','$',1)\n",
    "print(str2+str3)"
   ]
  },
  {
   "cell_type": "code",
   "execution_count": 34,
   "id": "b83dc29b",
   "metadata": {},
   "outputs": [
    {
     "data": {
      "text/plain": [
       "'vaashnava'"
      ]
     },
     "execution_count": 34,
     "metadata": {},
     "output_type": "execute_result"
    }
   ],
   "source": [
    "name='vaishnavi'\n",
    "\n",
    "name.replace('i','a',2)"
   ]
  },
  {
   "cell_type": "code",
   "execution_count": 35,
   "id": "0dde77e0",
   "metadata": {},
   "outputs": [],
   "source": [
    "#INDEX"
   ]
  },
  {
   "cell_type": "code",
   "execution_count": null,
   "id": "bdf2f518",
   "metadata": {},
   "outputs": [],
   "source": [
    "string1='python'\n",
    "# if i want to know\n"
   ]
  },
  {
   "cell_type": "code",
   "execution_count": 36,
   "id": "db6097ee",
   "metadata": {},
   "outputs": [
    {
     "name": "stdout",
     "output_type": "stream",
     "text": [
      "3\n",
      "6\n"
     ]
    }
   ],
   "source": [
    "string1=\n",
    "print(string1.index('t'))\n",
    "f_o=string1.index('t')  #3\n",
    "#it will provide only first occurence of character index\n",
    "print(string1.index('t',f_o+1))"
   ]
  },
  {
   "cell_type": "code",
   "execution_count": 37,
   "id": "4cbf073a",
   "metadata": {},
   "outputs": [],
   "source": [
    "#Another qs here"
   ]
  },
  {
   "cell_type": "code",
   "execution_count": 38,
   "id": "ded2a176",
   "metadata": {},
   "outputs": [
    {
     "ename": "ValueError",
     "evalue": "substring not found",
     "output_type": "error",
     "traceback": [
      "\u001b[1;31m---------------------------------------------------------------------------\u001b[0m",
      "\u001b[1;31mValueError\u001b[0m                                Traceback (most recent call last)",
      "\u001b[1;32m~\\AppData\\Local\\Temp\\ipykernel_25264\\2135564642.py\u001b[0m in \u001b[0;36m<module>\u001b[1;34m\u001b[0m\n\u001b[1;32m----> 1\u001b[1;33m \u001b[0mstring1\u001b[0m\u001b[1;33m.\u001b[0m\u001b[0mindex\u001b[0m\u001b[1;33m(\u001b[0m\u001b[1;34m't'\u001b[0m\u001b[1;33m,\u001b[0m\u001b[1;36m13\u001b[0m\u001b[1;33m)\u001b[0m\u001b[1;33m\u001b[0m\u001b[1;33m\u001b[0m\u001b[0m\n\u001b[0m",
      "\u001b[1;31mValueError\u001b[0m: substring not found"
     ]
    }
   ],
   "source": [
    "string1.index('t',13)"
   ]
  },
  {
   "cell_type": "code",
   "execution_count": 41,
   "id": "82ee9277",
   "metadata": {},
   "outputs": [
    {
     "data": {
      "text/plain": [
       "12"
      ]
     },
     "execution_count": 41,
     "metadata": {},
     "output_type": "execute_result"
    }
   ],
   "source": [
    "string1='restart how to '\n",
    "#what is the index of first 't':\n",
    "#t=3 6 11\n",
    "f_o=string1.index('t') #3\n",
    "# index method will provide first occurence\n",
    "s_o=string1.index('t',f_o+1)\n",
    "string1.index('t',s_o+1)"
   ]
  },
  {
   "cell_type": "code",
   "execution_count": 45,
   "id": "2b7f64a7",
   "metadata": {},
   "outputs": [
    {
     "name": "stdout",
     "output_type": "stream",
     "text": [
      "3\n",
      "3\n"
     ]
    }
   ],
   "source": [
    "string1='restart how to'  #IMPORTANT QUESTION\n",
    "print(string1.count('t')) #3\n",
    "print(string1.index('t')) #3"
   ]
  },
  {
   "cell_type": "code",
   "execution_count": 50,
   "id": "2bc69e73",
   "metadata": {},
   "outputs": [
    {
     "name": "stdout",
     "output_type": "stream",
     "text": [
      "0\n",
      "restart how to\n"
     ]
    }
   ],
   "source": [
    "print(string1.count('T')) #0  #IMPORTANT QUESTION\n",
    "#print(string1.index('T')) #sub string error\n",
    "print(string1.replace('TTTT','&')) #NO error "
   ]
  },
  {
   "cell_type": "code",
   "execution_count": 51,
   "id": "63b897ef",
   "metadata": {},
   "outputs": [
    {
     "data": {
      "text/plain": [
       "'Python'"
      ]
     },
     "execution_count": 51,
     "metadata": {},
     "output_type": "execute_result"
    }
   ],
   "source": [
    "#IMPORTANT QUESTION\n",
    "'Python'.replace('z','ZZZZ') #no error here"
   ]
  },
  {
   "cell_type": "code",
   "execution_count": 52,
   "id": "986ba647",
   "metadata": {},
   "outputs": [],
   "source": [
    "#find operation"
   ]
  },
  {
   "cell_type": "code",
   "execution_count": 56,
   "id": "8ee6f1d6",
   "metadata": {},
   "outputs": [
    {
     "data": {
      "text/plain": [
       "-1"
      ]
     },
     "execution_count": 56,
     "metadata": {},
     "output_type": "execute_result"
    }
   ],
   "source": [
    "string1='restart how to'\n",
    "f_o=string1.find('t')\n",
    "s_o=string1.find('t',f_o+1)\n",
    "s_o\n",
    "\n",
    "string1.find('Z') #string"
   ]
  },
  {
   "cell_type": "code",
   "execution_count": 58,
   "id": "06d4dba0",
   "metadata": {},
   "outputs": [
    {
     "ename": "ValueError",
     "evalue": "substring not found",
     "output_type": "error",
     "traceback": [
      "\u001b[1;31m---------------------------------------------------------------------------\u001b[0m",
      "\u001b[1;31mValueError\u001b[0m                                Traceback (most recent call last)",
      "\u001b[1;32m~\\AppData\\Local\\Temp\\ipykernel_25264\\291805689.py\u001b[0m in \u001b[0;36m<module>\u001b[1;34m\u001b[0m\n\u001b[0;32m      4\u001b[0m \u001b[0ms_o\u001b[0m\u001b[1;33m\u001b[0m\u001b[1;33m\u001b[0m\u001b[0m\n\u001b[0;32m      5\u001b[0m \u001b[1;33m\u001b[0m\u001b[0m\n\u001b[1;32m----> 6\u001b[1;33m \u001b[0mstring1\u001b[0m\u001b[1;33m.\u001b[0m\u001b[0mindex\u001b[0m\u001b[1;33m(\u001b[0m\u001b[1;34m'Z'\u001b[0m\u001b[1;33m)\u001b[0m\u001b[1;33m\u001b[0m\u001b[1;33m\u001b[0m\u001b[0m\n\u001b[0m",
      "\u001b[1;31mValueError\u001b[0m: substring not found"
     ]
    }
   ],
   "source": [
    "string1='restart how to'\n",
    "f_o=string1.index('t')\n",
    "s_o=string1.index('t',f_o+1)\n",
    "s_o\n",
    "\n",
    "string1.index('Z')"
   ]
  },
  {
   "cell_type": "code",
   "execution_count": null,
   "id": "f1fbfdf2",
   "metadata": {},
   "outputs": [],
   "source": [
    "#what is the difference between index and find\n",
    "\n"
   ]
  },
  {
   "cell_type": "code",
   "execution_count": null,
   "id": "121fc4ba",
   "metadata": {},
   "outputs": [],
   "source": [
    "print(string1.count('T')) #0\n",
    "print(string1.index('T'))  #sub string error\n",
    "print(string1.replace(\"TTTT\",'&')) # NO error\n",
    "print(string1.find('TTTT'))  #-1"
   ]
  },
  {
   "cell_type": "code",
   "execution_count": null,
   "id": "0537d5c2",
   "metadata": {},
   "outputs": [],
   "source": [
    "--> capitalize/casefold/upper/lower\n",
    "--> count\n",
    "--> replace\n",
    "-->index/find"
   ]
  },
  {
   "cell_type": "code",
   "execution_count": null,
   "id": "e77c20d3",
   "metadata": {},
   "outputs": [],
   "source": [
    "$split$"
   ]
  },
  {
   "cell_type": "code",
   "execution_count": 60,
   "id": "8f7e5e37",
   "metadata": {},
   "outputs": [
    {
     "data": {
      "text/plain": [
       "['hai', 'how', 'are', 'you']"
      ]
     },
     "execution_count": 60,
     "metadata": {},
     "output_type": "execute_result"
    }
   ],
   "source": [
    "string1='hai how are you'\n",
    "string1.split() #nothing mentioned means it will take the space"
   ]
  },
  {
   "cell_type": "code",
   "execution_count": 67,
   "id": "cd3970ec",
   "metadata": {},
   "outputs": [
    {
     "data": {
      "text/plain": [
       "['hai how', 'are you']"
      ]
     },
     "execution_count": 67,
     "metadata": {},
     "output_type": "execute_result"
    }
   ],
   "source": [
    "string2='hai how,are you'\n",
    "string2.split(',')"
   ]
  },
  {
   "cell_type": "code",
   "execution_count": 64,
   "id": "28f691a6",
   "metadata": {},
   "outputs": [
    {
     "name": "stdout",
     "output_type": "stream",
     "text": [
      "hai how,are you\n"
     ]
    }
   ],
   "source": [
    "var1='hai how'\n",
    "var2='are you'\n",
    "print(var1,var2,sep=',')"
   ]
  },
  {
   "cell_type": "code",
   "execution_count": 68,
   "id": "3dcf74ab",
   "metadata": {},
   "outputs": [
    {
     "data": {
      "text/plain": [
       "['h', 'i how,', 're you']"
      ]
     },
     "execution_count": 68,
     "metadata": {},
     "output_type": "execute_result"
    }
   ],
   "source": [
    "string2='hai how,are you'\n",
    "string2.split('a')"
   ]
  },
  {
   "cell_type": "code",
   "execution_count": 61,
   "id": "4709f612",
   "metadata": {},
   "outputs": [
    {
     "data": {
      "text/plain": [
       "0j"
      ]
     },
     "execution_count": 61,
     "metadata": {},
     "output_type": "execute_result"
    }
   ],
   "source": [
    "complex()"
   ]
  },
  {
   "cell_type": "code",
   "execution_count": 1,
   "id": "933470b4",
   "metadata": {},
   "outputs": [],
   "source": [
    "# NOV 7th"
   ]
  },
  {
   "cell_type": "code",
   "execution_count": null,
   "id": "16b649c4",
   "metadata": {},
   "outputs": [],
   "source": [
    "sent1='rashaad.omkar@gmail.com'\n",
    "#extract only: omkar\n",
    "sent2='mobin.sourav@uma.com'\n",
    "#extract: uma\n",
    "#dont slice that\n",
    "#you are count\n",
    "#index and find\n",
    "#use only mmethods\n",
    "sent1.replace()"
   ]
  },
  {
   "cell_type": "code",
   "execution_count": 3,
   "id": "990ab695",
   "metadata": {},
   "outputs": [
    {
     "data": {
      "text/plain": [
       "'mobin'"
      ]
     },
     "execution_count": 3,
     "metadata": {},
     "output_type": "execute_result"
    }
   ],
   "source": [
    "sent1='omkaromkar.mobin@gmail.com'\n",
    "sent1[sent1.find('.')+1:sent1.find('@')]"
   ]
  },
  {
   "cell_type": "code",
   "execution_count": 6,
   "id": "9df99b12",
   "metadata": {},
   "outputs": [
    {
     "data": {
      "text/plain": [
       "'nareshit'"
      ]
     },
     "execution_count": 6,
     "metadata": {},
     "output_type": "execute_result"
    }
   ],
   "source": [
    "#sent2='mobin.sourav@uma.com'\n",
    "sent2='mobin.sourabsahoo@nareshit.ac.in'\n",
    "\n",
    "#between '@' and '.'(second)\n",
    "index1=sent2.index('@')\n",
    "first_dot_index=sent2.index('.')\n",
    "sec_dot_index=sent2.index('.',first_dot_index+1)\n",
    "sent2[index1+1:sec_dot_index]"
   ]
  },
  {
   "cell_type": "code",
   "execution_count": 4,
   "id": "eecbef9b",
   "metadata": {},
   "outputs": [
    {
     "data": {
      "text/plain": [
       "'mlr'"
      ]
     },
     "execution_count": 4,
     "metadata": {},
     "output_type": "execute_result"
    }
   ],
   "source": [
    "sent2='mobin.sourav@uma.com'\n",
    "sent2='mobin.soura@nareshit.ac.in'\n",
    "sent2='mobin.sourav@mlr.edu.ac.in'\n",
    "sent2[sent2.index('@')+1:sent2.index('.',sent2.index('.')+1)]"
   ]
  },
  {
   "cell_type": "code",
   "execution_count": 8,
   "id": "b6506e1e",
   "metadata": {},
   "outputs": [],
   "source": [
    "#  $strip$-$lstrip$-$rstrip$:"
   ]
  },
  {
   "cell_type": "code",
   "execution_count": 9,
   "id": "18dba83a",
   "metadata": {},
   "outputs": [],
   "source": [
    "string1=' hai how are you '\n",
    "string2=' hai how are you'  #right *strip/rstrip\n",
    "string3='hai how are you '  #left *strip/lstrip"
   ]
  },
  {
   "cell_type": "code",
   "execution_count": null,
   "id": "ce6a032c",
   "metadata": {},
   "outputs": [],
   "source": [
    "--> If u want to remove strips we use method strip\n",
    "-->strip: It will remove spaces both sides\n",
    "-->lstrip: It will remove left side space\n",
    "-->rstrip: It will remove right side space"
   ]
  },
  {
   "cell_type": "code",
   "execution_count": 13,
   "id": "13e34efc",
   "metadata": {},
   "outputs": [
    {
     "name": "stdout",
     "output_type": "stream",
     "text": [
      "hai how are you\n",
      "hai how are you\n",
      "hai how are you\n",
      "hai how are you\n"
     ]
    }
   ],
   "source": [
    "print(string1)\n",
    "print(string2.strip())\n",
    "print(string2.lstrip())\n",
    "print(string2.rstrip())"
   ]
  },
  {
   "cell_type": "code",
   "execution_count": 14,
   "id": "aebdc7f7",
   "metadata": {},
   "outputs": [
    {
     "name": "stdout",
     "output_type": "stream",
     "text": [
      "hai how are you\n"
     ]
    }
   ],
   "source": [
    "string1='hai how are you'\n",
    "print(string1)"
   ]
  },
  {
   "cell_type": "code",
   "execution_count": 16,
   "id": "7736ed16",
   "metadata": {},
   "outputs": [
    {
     "name": "stdout",
     "output_type": "stream",
     "text": [
      "hello\n",
      "hello&&&&&&&\n",
      "&&&&&hello\n"
     ]
    }
   ],
   "source": [
    "string1='&&&&&hello&&&&&&&'\n",
    "print(string1.strip('&'))\n",
    "print(string1.lstrip('&'))\n",
    "print(string1.rstrip('&'))"
   ]
  },
  {
   "cell_type": "code",
   "execution_count": 17,
   "id": "8204c09c",
   "metadata": {},
   "outputs": [],
   "source": [
    "## startswith-endswith"
   ]
  },
  {
   "cell_type": "code",
   "execution_count": 18,
   "id": "0b274b79",
   "metadata": {},
   "outputs": [
    {
     "data": {
      "text/plain": [
       "True"
      ]
     },
     "execution_count": 18,
     "metadata": {},
     "output_type": "execute_result"
    }
   ],
   "source": [
    "string1='hai how are you'\n",
    "string1.startswith('hai')"
   ]
  },
  {
   "cell_type": "code",
   "execution_count": 20,
   "id": "c7ee9ace",
   "metadata": {},
   "outputs": [
    {
     "data": {
      "text/plain": [
       "True"
      ]
     },
     "execution_count": 20,
     "metadata": {},
     "output_type": "execute_result"
    }
   ],
   "source": [
    "string1='hai how are you'\n",
    "string1.endswith('you')"
   ]
  },
  {
   "cell_type": "code",
   "execution_count": 21,
   "id": "3a37e394",
   "metadata": {},
   "outputs": [
    {
     "data": {
      "text/plain": [
       "True"
      ]
     },
     "execution_count": 21,
     "metadata": {},
     "output_type": "execute_result"
    }
   ],
   "source": [
    "string1='hai how are you'\n",
    "string1.endswith('you')"
   ]
  },
  {
   "cell_type": "code",
   "execution_count": 22,
   "id": "79f263d0",
   "metadata": {},
   "outputs": [
    {
     "data": {
      "text/plain": [
       "True"
      ]
     },
     "execution_count": 22,
     "metadata": {},
     "output_type": "execute_result"
    }
   ],
   "source": [
    "string1.startswith(string1)\n",
    "string2.endswith(string1)"
   ]
  },
  {
   "cell_type": "code",
   "execution_count": null,
   "id": "5c815722",
   "metadata": {},
   "outputs": [],
   "source": [
    "---> capiatlise/casefold/upper/lower\n",
    "\n",
    "---> index/find\n",
    "\n",
    "--> strip/lstrip/rstip\n",
    "\n",
    "--> startswith/endswith\n",
    "\n",
    "---> count\n",
    "\n",
    "--> replace\n",
    "\n",
    "---> split"
   ]
  },
  {
   "cell_type": "code",
   "execution_count": 24,
   "id": "ccf604b8",
   "metadata": {},
   "outputs": [
    {
     "data": {
      "text/plain": [
       "['__add__',\n",
       " '__class__',\n",
       " '__contains__',\n",
       " '__delattr__',\n",
       " '__dir__',\n",
       " '__doc__',\n",
       " '__eq__',\n",
       " '__format__',\n",
       " '__ge__',\n",
       " '__getattribute__',\n",
       " '__getitem__',\n",
       " '__getnewargs__',\n",
       " '__gt__',\n",
       " '__hash__',\n",
       " '__init__',\n",
       " '__init_subclass__',\n",
       " '__iter__',\n",
       " '__le__',\n",
       " '__len__',\n",
       " '__lt__',\n",
       " '__mod__',\n",
       " '__mul__',\n",
       " '__ne__',\n",
       " '__new__',\n",
       " '__reduce__',\n",
       " '__reduce_ex__',\n",
       " '__repr__',\n",
       " '__rmod__',\n",
       " '__rmul__',\n",
       " '__setattr__',\n",
       " '__sizeof__',\n",
       " '__str__',\n",
       " '__subclasshook__',\n",
       " 'capitalize',\n",
       " 'casefold',\n",
       " 'center',\n",
       " 'count',\n",
       " 'encode',\n",
       " 'endswith',\n",
       " 'expandtabs',\n",
       " 'find',\n",
       " 'format',\n",
       " 'format_map',\n",
       " 'index',\n",
       " 'isalnum',\n",
       " 'isalpha',\n",
       " 'isascii',\n",
       " 'isdecimal',\n",
       " 'isdigit',\n",
       " 'isidentifier',\n",
       " 'islower',\n",
       " 'isnumeric',\n",
       " 'isprintable',\n",
       " 'isspace',\n",
       " 'istitle',\n",
       " 'isupper',\n",
       " 'join',\n",
       " 'ljust',\n",
       " 'lower',\n",
       " 'lstrip',\n",
       " 'maketrans',\n",
       " 'partition',\n",
       " 'removeprefix',\n",
       " 'removesuffix',\n",
       " 'replace',\n",
       " 'rfind',\n",
       " 'rindex',\n",
       " 'rjust',\n",
       " 'rpartition',\n",
       " 'rsplit',\n",
       " 'rstrip',\n",
       " 'split',\n",
       " 'splitlines',\n",
       " 'startswith',\n",
       " 'strip',\n",
       " 'swapcase',\n",
       " 'title',\n",
       " 'translate',\n",
       " 'upper',\n",
       " 'zfill']"
      ]
     },
     "execution_count": 24,
     "metadata": {},
     "output_type": "execute_result"
    }
   ],
   "source": [
    "dir('')"
   ]
  },
  {
   "cell_type": "code",
   "execution_count": null,
   "id": "d86f66eb",
   "metadata": {},
   "outputs": [],
   "source": [
    "#isalpha\n",
    "#isnumeric\n",
    "#isupper\n",
    "#islower\n",
    "#isdecimal"
   ]
  },
  {
   "cell_type": "code",
   "execution_count": 26,
   "id": "4a3df7ef",
   "metadata": {},
   "outputs": [
    {
     "data": {
      "text/plain": [
       "False"
      ]
     },
     "execution_count": 26,
     "metadata": {},
     "output_type": "execute_result"
    }
   ],
   "source": [
    "string1='1234'\n",
    "string1.isalpha()"
   ]
  },
  {
   "cell_type": "code",
   "execution_count": 27,
   "id": "44d41c98",
   "metadata": {},
   "outputs": [
    {
     "data": {
      "text/plain": [
       "True"
      ]
     },
     "execution_count": 27,
     "metadata": {},
     "output_type": "execute_result"
    }
   ],
   "source": [
    "string1='1234'\n",
    "string1.isnumeric()"
   ]
  },
  {
   "cell_type": "code",
   "execution_count": 29,
   "id": "58c26734",
   "metadata": {},
   "outputs": [
    {
     "name": "stdout",
     "output_type": "stream",
     "text": [
      "True\n",
      "True\n"
     ]
    }
   ],
   "source": [
    "string1='python123'\n",
    "print(string1.isalnum())\n",
    "str1='python'\n",
    "print(str1.isalpha())"
   ]
  },
  {
   "cell_type": "code",
   "execution_count": 33,
   "id": "e48203fc",
   "metadata": {},
   "outputs": [
    {
     "data": {
      "text/plain": [
       "True"
      ]
     },
     "execution_count": 33,
     "metadata": {},
     "output_type": "execute_result"
    }
   ],
   "source": [
    "string1='my name is vaishu'\n",
    "string1.islower()\n"
   ]
  },
  {
   "cell_type": "code",
   "execution_count": 35,
   "id": "71cb0a38",
   "metadata": {},
   "outputs": [
    {
     "data": {
      "text/plain": [
       "False"
      ]
     },
     "execution_count": 35,
     "metadata": {},
     "output_type": "execute_result"
    }
   ],
   "source": [
    "string2='10.6'\n",
    "string2.isdecimal()"
   ]
  },
  {
   "cell_type": "code",
   "execution_count": 36,
   "id": "1c4cda9f",
   "metadata": {},
   "outputs": [
    {
     "data": {
      "text/plain": [
       "True"
      ]
     },
     "execution_count": 36,
     "metadata": {},
     "output_type": "execute_result"
    }
   ],
   "source": [
    "string1='bikas'\n",
    "string1.isalnum()"
   ]
  },
  {
   "cell_type": "code",
   "execution_count": null,
   "id": "24a26d43",
   "metadata": {},
   "outputs": [],
   "source": [
    "#Q1) in a given statement what is the most repeated word\n",
    "#example: 'hai how are you you hai'\n",
    "\n",
    "#Q2) In a given sentence what is the maximu length of the the string\n",
    "# what is the min length of the string\n",
    "#'hello python how are youuu'\n",
    "\n",
    "#Q3) str1='hyd'  str2='chennai'  str3='mumbai'\n",
    "#greatest world and smallest word: interms of ascii"
   ]
  },
  {
   "cell_type": "code",
   "execution_count": null,
   "id": "d350f1c9",
   "metadata": {},
   "outputs": [],
   "source": []
  },
  {
   "cell_type": "code",
   "execution_count": null,
   "id": "e0f19326",
   "metadata": {},
   "outputs": [],
   "source": [
    "string1='hai how are you you,hai'\n",
    "if 'you' in string1:\n",
    "    "
   ]
  }
 ],
 "metadata": {
  "kernelspec": {
   "display_name": "Python 3 (ipykernel)",
   "language": "python",
   "name": "python3"
  },
  "language_info": {
   "codemirror_mode": {
    "name": "ipython",
    "version": 3
   },
   "file_extension": ".py",
   "mimetype": "text/x-python",
   "name": "python",
   "nbconvert_exporter": "python",
   "pygments_lexer": "ipython3",
   "version": "3.9.13"
  }
 },
 "nbformat": 4,
 "nbformat_minor": 5
}
