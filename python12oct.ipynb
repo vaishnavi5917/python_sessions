{
 "cells": [
  {
   "cell_type": "code",
   "execution_count": 1,
   "id": "d2fee76d",
   "metadata": {},
   "outputs": [
    {
     "name": "stdout",
     "output_type": "stream",
     "text": [
      "hai hello\n"
     ]
    }
   ],
   "source": [
    "#end opeartor\n",
    "#If we want to combine 2 print statements into one statement\n",
    "print(\"hai\", end=' ')\n",
    "print(\"hello\")"
   ]
  },
  {
   "cell_type": "code",
   "execution_count": 5,
   "id": "e168ca5e",
   "metadata": {},
   "outputs": [
    {
     "name": "stdout",
     "output_type": "stream",
     "text": [
      "hai hello\n",
      "hai & hello\n"
     ]
    }
   ],
   "source": [
    "#SEPARATOR OPERATOR\n",
    "\n",
    "print('hai','hello')\n",
    "#how many words are there: 2\n",
    "# you want to separate hai and hello with\n",
    "#and\n",
    "\n",
    "print('hai','hello', sep=' & ')"
   ]
  },
  {
   "cell_type": "code",
   "execution_count": 4,
   "id": "2a71171c",
   "metadata": {},
   "outputs": [
    {
     "name": "stdout",
     "output_type": "stream",
     "text": [
      "10:02:2023\n"
     ]
    }
   ],
   "source": [
    "print('10','02','2023', sep=':')"
   ]
  },
  {
   "cell_type": "code",
   "execution_count": 29,
   "id": "8ccb7039",
   "metadata": {},
   "outputs": [
    {
     "name": "stdout",
     "output_type": "stream",
     "text": [
      "Enter the distance in kms: 10\n",
      "Enter the fare in rs: 250\n",
      "For 10 kms the fare is 250\n"
     ]
    }
   ],
   "source": [
    "# wap ask the user to enter a distance in km\n",
    "# ask the user to enter a fare in rs\n",
    "# calculate total amt to pay\n",
    "\n",
    "# O/P:  for 2 kms the fair is 20rs.\n",
    "# also learned here only how to use separator i.e to keep . in print statement with and without sep\n",
    "distance=eval(input(\"Enter the distance in kms: \"))\n",
    "fare=eval(input(\"Enter the fare in rs: \"))\n",
    "total=distance*fare\n",
    "print(\"For {} kms the fare is {}\". format(distance,fare,total),sep='.')\n",
    "#the dot is too far\n"
   ]
  },
  {
   "cell_type": "code",
   "execution_count": 23,
   "id": "5370bd8e",
   "metadata": {},
   "outputs": [
    {
     "name": "stdout",
     "output_type": "stream",
     "text": [
      "a&b\n"
     ]
    }
   ],
   "source": [
    "print('a','b',sep='&')"
   ]
  },
  {
   "cell_type": "code",
   "execution_count": 17,
   "id": "2da57295",
   "metadata": {},
   "outputs": [
    {
     "name": "stdout",
     "output_type": "stream",
     "text": [
      "Ramesh & 35\n",
      "Ramesh age is 35\n"
     ]
    }
   ],
   "source": [
    "print('Ramesh', '35', sep=' & ')\n",
    "print('Ramesh', '35', sep=' age is ')"
   ]
  },
  {
   "cell_type": "code",
   "execution_count": null,
   "id": "d4ec3a46",
   "metadata": {},
   "outputs": [],
   "source": []
  }
 ],
 "metadata": {
  "kernelspec": {
   "display_name": "Python 3 (ipykernel)",
   "language": "python",
   "name": "python3"
  },
  "language_info": {
   "codemirror_mode": {
    "name": "ipython",
    "version": 3
   },
   "file_extension": ".py",
   "mimetype": "text/x-python",
   "name": "python",
   "nbconvert_exporter": "python",
   "pygments_lexer": "ipython3",
   "version": "3.9.13"
  }
 },
 "nbformat": 4,
 "nbformat_minor": 5
}
