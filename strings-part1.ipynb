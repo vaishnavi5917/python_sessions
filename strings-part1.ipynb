{
 "cells": [
  {
   "cell_type": "code",
   "execution_count": null,
   "id": "18a56bb1",
   "metadata": {},
   "outputs": [],
   "source": [
    "# INDEXING\n",
    "\n",
    "#how many letters are there:6\n",
    "# python index starts with: 0\n",
    "\n",
    "name='python'"
   ]
  },
  {
   "cell_type": "code",
   "execution_count": null,
   "id": "3b637a4c",
   "metadata": {},
   "outputs": [],
   "source": [
    "name[0]  #p\n",
    "name[1]  #y\n",
    "name[2]  #t\n",
    "name[3]  #h\n",
    "name[4]  #o\n",
    "name[5]  #n\n",
    "\n",
    "name[i]"
   ]
  },
  {
   "cell_type": "code",
   "execution_count": 48,
   "id": "4108c174",
   "metadata": {},
   "outputs": [
    {
     "name": "stdout",
     "output_type": "stream",
     "text": [
      "p\n",
      "y\n",
      "t\n",
      "h\n",
      "o\n",
      "n\n"
     ]
    }
   ],
   "source": [
    "# how to print any word/sentence by using range method\n",
    "for i in range(6):\n",
    "    print(name[i])"
   ]
  },
  {
   "cell_type": "code",
   "execution_count": 49,
   "id": "5f14cc19",
   "metadata": {},
   "outputs": [
    {
     "name": "stdout",
     "output_type": "stream",
     "text": [
      "p\n",
      "y\n",
      "t\n",
      "h\n",
      "o\n",
      "n\n"
     ]
    },
    {
     "ename": "IndexError",
     "evalue": "string index out of range",
     "output_type": "error",
     "traceback": [
      "\u001b[1;31m---------------------------------------------------------------------------\u001b[0m",
      "\u001b[1;31mIndexError\u001b[0m                                Traceback (most recent call last)",
      "\u001b[1;32m~\\AppData\\Local\\Temp\\ipykernel_22596\\3386267680.py\u001b[0m in \u001b[0;36m<module>\u001b[1;34m\u001b[0m\n\u001b[0;32m      1\u001b[0m \u001b[0mname\u001b[0m\u001b[1;33m=\u001b[0m\u001b[1;34m'python'\u001b[0m\u001b[1;33m\u001b[0m\u001b[1;33m\u001b[0m\u001b[0m\n\u001b[0;32m      2\u001b[0m \u001b[1;32mfor\u001b[0m \u001b[0mi\u001b[0m \u001b[1;32min\u001b[0m \u001b[0mrange\u001b[0m\u001b[1;33m(\u001b[0m\u001b[1;36m7\u001b[0m\u001b[1;33m)\u001b[0m\u001b[1;33m:\u001b[0m  \u001b[1;31m#1st error i.e (string out of range means no sixth letter)\u001b[0m\u001b[1;33m\u001b[0m\u001b[1;33m\u001b[0m\u001b[0m\n\u001b[1;32m----> 3\u001b[1;33m     \u001b[0mprint\u001b[0m\u001b[1;33m(\u001b[0m\u001b[0mname\u001b[0m\u001b[1;33m[\u001b[0m\u001b[0mi\u001b[0m\u001b[1;33m]\u001b[0m\u001b[1;33m)\u001b[0m\u001b[1;33m\u001b[0m\u001b[1;33m\u001b[0m\u001b[0m\n\u001b[0m",
      "\u001b[1;31mIndexError\u001b[0m: string index out of range"
     ]
    }
   ],
   "source": [
    "name='python'\n",
    "for i in range(7):  #1st error i.e (string out of range means no sixth letter)\n",
    "    print(name[i])"
   ]
  },
  {
   "cell_type": "code",
   "execution_count": null,
   "id": "b658cc6b",
   "metadata": {},
   "outputs": [],
   "source": [
    "name1='hello how are you' #spaces are also considered one character\n",
    "print(len(name1))\n",
    "# i need to provide some number\n",
    "for i in range(len(name1)):\n",
    "    print(name1[i],end=' ')"
   ]
  },
  {
   "cell_type": "code",
   "execution_count": 6,
   "id": "304e5374",
   "metadata": {},
   "outputs": [
    {
     "name": "stdout",
     "output_type": "stream",
     "text": [
      "The index of p is 0\n",
      "The index of y is 1\n",
      "The index of t is 2\n",
      "The index of h is 3\n",
      "The index of o is 4\n",
      "The index of n is 5\n"
     ]
    }
   ],
   "source": [
    "#wap ask the user print the letters from a given word \n",
    "#using for loop\n",
    "#print statement shld be like this: 'the index of p is: 0'\n",
    "#'the index of y is: 1'\n",
    "\n",
    "#I want letter and attached index no\n",
    "name='python'\n",
    "for i in range(len(name)):\n",
    "    #print(i,'----->',name[i])\n",
    "    print('The index of {} is {}'.format(name[i],i))"
   ]
  },
  {
   "cell_type": "code",
   "execution_count": 7,
   "id": "321a050c",
   "metadata": {},
   "outputs": [
    {
     "name": "stdout",
     "output_type": "stream",
     "text": [
      "The index of p is 0\n",
      "The index of y is 1\n",
      "The index of t is 2\n",
      "The index of h is 3\n",
      "The index of o is 4\n",
      "The index of n is 5\n"
     ]
    }
   ],
   "source": [
    "name2='python'\n",
    "i=0\n",
    "while i<len(name2):\n",
    "    print('The index of {} is {}'.format(name2[i],i))\n",
    "    i+=1\n",
    "\n",
    "    #wrapper is \n",
    "#1.initial point\n",
    "#2.condition\n",
    "#3.Increment"
   ]
  },
  {
   "cell_type": "code",
   "execution_count": null,
   "id": "80653247",
   "metadata": {},
   "outputs": [],
   "source": [
    "#negative values\n",
    "\n"
   ]
  },
  {
   "cell_type": "code",
   "execution_count": null,
   "id": "e5efc88f",
   "metadata": {},
   "outputs": [],
   "source": [
    "#wap ask the user print the letters from a given word \n",
    "#using for loop\n",
    "# the -ve index of p is -6\n",
    "# the -ve index of y is -5\n",
    " "
   ]
  },
  {
   "cell_type": "code",
   "execution_count": 2,
   "id": "18e16f6d",
   "metadata": {},
   "outputs": [
    {
     "name": "stdout",
     "output_type": "stream",
     "text": [
      "-6\n",
      "-5\n",
      "-4\n",
      "-3\n",
      "-2\n",
      "-1\n"
     ]
    }
   ],
   "source": [
    "for i in range(-6,0):\n",
    "    print(i)"
   ]
  },
  {
   "cell_type": "code",
   "execution_count": 3,
   "id": "ea3338eb",
   "metadata": {},
   "outputs": [
    {
     "name": "stdout",
     "output_type": "stream",
     "text": [
      "-6\n",
      "-5\n",
      "-4\n",
      "-3\n",
      "-2\n",
      "-1\n"
     ]
    }
   ],
   "source": [
    "#Another method for same prblm above\n",
    "name3='python'\n",
    "for i in range(len(name3)):\n",
    "    print(i-len(name3))\n",
    "    #print('The negative index of {} is {}'.format()"
   ]
  },
  {
   "cell_type": "code",
   "execution_count": 4,
   "id": "da111790",
   "metadata": {},
   "outputs": [
    {
     "name": "stdout",
     "output_type": "stream",
     "text": [
      "The negative index of p is -6\n",
      "The negative index of y is -5\n",
      "The negative index of t is -4\n",
      "The negative index of h is -3\n",
      "The negative index of o is -2\n",
      "The negative index of n is -1\n"
     ]
    }
   ],
   "source": [
    "name3='python'\n",
    "for i in range(-len(name3),0):\n",
    "    print('The negative index of {} is {}'.format(name3[i],i))"
   ]
  },
  {
   "cell_type": "code",
   "execution_count": 5,
   "id": "79708f8e",
   "metadata": {
    "scrolled": true
   },
   "outputs": [
    {
     "name": "stdout",
     "output_type": "stream",
     "text": [
      "The negative index of p is -6\n",
      "The negative index of y is -5\n",
      "The negative index of t is -4\n",
      "The negative index of h is -3\n",
      "The negative index of o is -2\n",
      "The negative index of n is -1\n"
     ]
    }
   ],
   "source": [
    "name4='python'\n",
    "for i in range(len(name4)):\n",
    "    print('The negative index of {} is {}'.format(name4[i],i-len(name4)))"
   ]
  },
  {
   "cell_type": "code",
   "execution_count": 1,
   "id": "d6901aa5",
   "metadata": {},
   "outputs": [],
   "source": [
    "name5='python'\n",
    "i=0\n",
    "while i>len(name5):\n",
    "    print(i)\n",
    "    i-=1"
   ]
  },
  {
   "cell_type": "code",
   "execution_count": 17,
   "id": "5b347c06",
   "metadata": {},
   "outputs": [
    {
     "name": "stdout",
     "output_type": "stream",
     "text": [
      "The positive index of is 0 and negative index is -6\n",
      "The positive index of is 1 and negative index is -5\n",
      "The positive index of is 2 and negative index is -4\n",
      "The positive index of is 3 and negative index is -3\n",
      "The positive index of is 4 and negative index is -2\n",
      "The positive index of is 5 and negative index is -1\n"
     ]
    }
   ],
   "source": [
    "names='python'\n",
    "for i in range(len(names)):\n",
    "    #print(i,'--->',name[i])\n",
    "    print('The positive index of is {} and negative index is {}'.format(i,i-len(names)))\n",
    "\n",
    "    \n",
    "\n",
    "    \n",
    "    "
   ]
  },
  {
   "cell_type": "code",
   "execution_count": 24,
   "id": "4145ef2d",
   "metadata": {},
   "outputs": [
    {
     "name": "stdout",
     "output_type": "stream",
     "text": [
      "0 p -6\n",
      "1 y -5\n",
      "2 t -4\n",
      "3 h -3\n",
      "4 o -2\n",
      "5 n -1\n"
     ]
    }
   ],
   "source": [
    "name7='python'\n",
    "for i in range(len(name7)):\n",
    "    print(i,name7[i],i-len(name7))"
   ]
  },
  {
   "cell_type": "code",
   "execution_count": 25,
   "id": "e07d8208",
   "metadata": {},
   "outputs": [],
   "source": [
    "sent='hai how are you'\n",
    "#q1 print how many 'a' are there: 3\n",
    "#iterate the lettersthrough for loop\n",
    "#count=0\n",
    "# apply if condition letter=='a':\n",
    "#count+=1\n",
    "#q2 print the index of 'a'\n",
    "#q3 print the no of unique:1\n"
   ]
  },
  {
   "cell_type": "code",
   "execution_count": 41,
   "id": "155dea47",
   "metadata": {},
   "outputs": [
    {
     "name": "stdout",
     "output_type": "stream",
     "text": [
      "h\n",
      "a\n",
      "i\n",
      " \n",
      "h\n",
      "o\n",
      "w\n",
      " \n",
      "a\n",
      "r\n",
      "e\n",
      " \n",
      "y\n",
      "o\n",
      "u\n",
      "No of repeated a are: 2\n"
     ]
    }
   ],
   "source": [
    "sent='hai how are you'\n",
    "#first iterrate the letters\n",
    "count=0\n",
    "for i in range(len(sent)):\n",
    "    print(sent[i])\n",
    "    if sent[i]=='a':\n",
    "        count=count+1\n",
    "print(\"No of repeated a are:\",count)"
   ]
  },
  {
   "cell_type": "code",
   "execution_count": 45,
   "id": "9323ae0d",
   "metadata": {},
   "outputs": [
    {
     "name": "stdout",
     "output_type": "stream",
     "text": [
      "1\n",
      "8\n",
      "The index of a are: 2\n"
     ]
    }
   ],
   "source": [
    "#2q. print index of a:\n",
    "\n",
    "sent='hai how are you'\n",
    "count=0\n",
    "for i in range(len(sent)):\n",
    "    if sent[i]=='a':\n",
    "        count=count+1\n",
    "        print(i)\n",
    "print(\"The index of a are:\",count)"
   ]
  },
  {
   "cell_type": "code",
   "execution_count": 43,
   "id": "269e1d15",
   "metadata": {},
   "outputs": [
    {
     "data": {
      "text/plain": [
       "True"
      ]
     },
     "execution_count": 43,
     "metadata": {},
     "output_type": "execute_result"
    }
   ],
   "source": [
    "sent[i] in 'aeiou'"
   ]
  },
  {
   "cell_type": "code",
   "execution_count": 47,
   "id": "c1c0bf3d",
   "metadata": {},
   "outputs": [
    {
     "name": "stdout",
     "output_type": "stream",
     "text": [
      "1\n",
      "2\n",
      "5\n",
      "8\n",
      "10\n",
      "13\n",
      "14\n",
      "The vowels are: 7\n"
     ]
    }
   ],
   "source": [
    "#3q No of vowels in the given sentence:\n",
    "sent='hai how are you'\n",
    "count=0\n",
    "for i in range(len(sent)):\n",
    "    if sent[i] in 'aeiou':\n",
    "        count=count+1\n",
    "        print(i)\n",
    "print(\"The vowels are:\",count)\n"
   ]
  },
  {
   "cell_type": "code",
   "execution_count": null,
   "id": "95a190f9",
   "metadata": {},
   "outputs": [],
   "source": [
    "#take an empty string \n",
    "#string1=''\n",
    "#iterate through loop\n",
    "# firt letter: \n",
    "# if 'a' in 'aeiou':\n",
    "# if 'a' not in string1   #string1='a'\n",
    "#string1=string1+'a'\n",
    "\n",
    "#check 2 conditions parallely\n",
    "#the given letter is in aeiou\n",
    "#If that is true check abt same letter it is there in empty string\n",
    "#if it is not there move to empty string\n",
    "#if it is there dont move it\n",
    "\n",
    "    #counter program\n",
    "    #vowels\n",
    "    #unique vowels\n",
    "    \n"
   ]
  }
 ],
 "metadata": {
  "kernelspec": {
   "display_name": "Python 3 (ipykernel)",
   "language": "python",
   "name": "python3"
  },
  "language_info": {
   "codemirror_mode": {
    "name": "ipython",
    "version": 3
   },
   "file_extension": ".py",
   "mimetype": "text/x-python",
   "name": "python",
   "nbconvert_exporter": "python",
   "pygments_lexer": "ipython3",
   "version": "3.9.13"
  }
 },
 "nbformat": 4,
 "nbformat_minor": 5
}
