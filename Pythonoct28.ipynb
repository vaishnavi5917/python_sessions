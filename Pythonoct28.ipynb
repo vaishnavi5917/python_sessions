{
 "cells": [
  {
   "cell_type": "code",
   "execution_count": null,
   "id": "5948cf2f",
   "metadata": {},
   "outputs": [],
   "source": [
    "# Find the sum of first 10 natural numbers \n",
    "# natural: countable\n",
    "\n",
    "sum1=0\n",
    "for i in range(1,11):\n",
    "    sum1=sum1+i\n",
    "    \n",
    "print(\"The sum of first 10 natural numbers are:\",sum1)"
   ]
  },
  {
   "cell_type": "code",
   "execution_count": null,
   "id": "5eb40f06",
   "metadata": {},
   "outputs": [],
   "source": [
    "#wap ask get a 20 random number between 1 to 100\n",
    "# count the no of values which are greater than 50 and less than 90\n",
    "#which are between 50 and 90\n",
    "# you need to get the count out of 20 no how any numbers are between 50 and 90\n",
    "\n"
   ]
  },
  {
   "cell_type": "code",
   "execution_count": null,
   "id": "51f327a9",
   "metadata": {},
   "outputs": [],
   "source": [
    "#generalised expression\n",
    "#what is vary and what is common\n",
    "# i in name\n",
    "\n",
    "name='python'#in operator\n",
    "\n",
    "count=0\n",
    "for i in name:\n",
    "    print(i)\n",
    "    count=count+1\n",
    "    print(count,i)\n",
    "print(\"total count:\",count\")\n",
    "#range====numbers\n",
    "#in=====stringss\n",
    "#eval====numbers\n",
    "#input=====strings"
   ]
  },
  {
   "cell_type": "code",
   "execution_count": null,
   "id": "7e17b05a",
   "metadata": {},
   "outputs": [],
   "source": [
    "#wap ask the user enter a name:vaishnavi\n",
    "#count the no of letters: using for loop and in operator\n",
    "#if the count>5: print(you have lengthy name)\n",
    "#else:print(you have a small name)\n",
    "\n",
    "name='vaishnavi'\n",
    "count=0\n",
    "for i in name"
   ]
  },
  {
   "cell_type": "code",
   "execution_count": 4,
   "id": "1dc6b72a",
   "metadata": {},
   "outputs": [
    {
     "name": "stdout",
     "output_type": "stream",
     "text": [
      "The letter 'a' appears {} times in your name. 2\n"
     ]
    }
   ],
   "source": [
    "#wap ask the user enter your name: python p=='a'(everytime check for every letter)\n",
    "#iterate ur name with loop\n",
    "#check the condition if i=='a': count it\n",
    "#print how many letter 'a' are there in your name \n",
    "name = 'vaishnavi'\n",
    "\n",
    "# Initialize a variable to count the number of 'a' characters\n",
    "count= 0\n",
    "\n",
    "# Iterate through each letter in the name\n",
    "for i in name:\n",
    "    if i == 'a': \n",
    "        count =count+ 1\n",
    "\n",
    "# Print the number of 'a' characters in the name\n",
    "print(\"The letter 'a' appears {} times in your name.\",count_a)"
   ]
  },
  {
   "cell_type": "code",
   "execution_count": null,
   "id": "6b0572cd",
   "metadata": {},
   "outputs": [],
   "source": []
  }
 ],
 "metadata": {
  "kernelspec": {
   "display_name": "Python 3 (ipykernel)",
   "language": "python",
   "name": "python3"
  },
  "language_info": {
   "codemirror_mode": {
    "name": "ipython",
    "version": 3
   },
   "file_extension": ".py",
   "mimetype": "text/x-python",
   "name": "python",
   "nbconvert_exporter": "python",
   "pygments_lexer": "ipython3",
   "version": "3.9.13"
  }
 },
 "nbformat": 4,
 "nbformat_minor": 5
}
