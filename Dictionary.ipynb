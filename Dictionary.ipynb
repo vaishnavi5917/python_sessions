{
 "cells": [
  {
   "cell_type": "code",
   "execution_count": 1,
   "id": "cc4fd47c",
   "metadata": {},
   "outputs": [],
   "source": [
    "#Topics which are covered: \n",
    "#--> Strings\n",
    "#--> List\n",
    "#--> Dictionary\n",
    "# tuple/set\n",
    "#lambda functions\n",
    "#file handling"
   ]
  },
  {
   "cell_type": "markdown",
   "id": "d3d1cc2d",
   "metadata": {},
   "source": [
    "# Dictionary"
   ]
  },
  {
   "cell_type": "code",
   "execution_count": 2,
   "id": "e55d1c15",
   "metadata": {},
   "outputs": [
    {
     "name": "stdout",
     "output_type": "stream",
     "text": [
      "Ram 25\n",
      "Raheem 30\n",
      "Robert 35\n"
     ]
    }
   ],
   "source": [
    "names=['Ram','Raheem','Robert']\n",
    "ages=[25,30,35]\n",
    "\n",
    "for i,j in zip(names,ages):\n",
    "    print(i,j)"
   ]
  },
  {
   "cell_type": "markdown",
   "id": "e9cd7066",
   "metadata": {},
   "source": [
    "# Key-value pair concept"
   ]
  },
  {
   "cell_type": "code",
   "execution_count": 11,
   "id": "0d76c0a5",
   "metadata": {},
   "outputs": [
    {
     "data": {
      "text/plain": [
       "{'Ram': 25, 'Raheem': 30, 'Robert': 35}"
      ]
     },
     "execution_count": 11,
     "metadata": {},
     "output_type": "execute_result"
    }
   ],
   "source": [
    "#{key:value} # This is the Format\n",
    "dict1= {'Ram':25,'Raheem':30,'Robert':35} #these are paired\n",
    "dict1"
   ]
  },
  {
   "cell_type": "markdown",
   "id": "339a6844",
   "metadata": {},
   "source": [
    "# type len max min"
   ]
  },
  {
   "cell_type": "markdown",
   "id": "2cf6fb83",
   "metadata": {},
   "source": [
    "# 15 Keywords\n",
    "1. "
   ]
  },
  {
   "cell_type": "code",
   "execution_count": 12,
   "id": "8754c92a",
   "metadata": {},
   "outputs": [
    {
     "data": {
      "text/plain": [
       "dict"
      ]
     },
     "execution_count": 12,
     "metadata": {},
     "output_type": "execute_result"
    }
   ],
   "source": [
    "type(dict1)"
   ]
  },
  {
   "cell_type": "code",
   "execution_count": 13,
   "id": "de1e65d3",
   "metadata": {},
   "outputs": [
    {
     "data": {
      "text/plain": [
       "3"
      ]
     },
     "execution_count": 13,
     "metadata": {},
     "output_type": "execute_result"
    }
   ],
   "source": [
    "len(dict1) #becoz ram and 25 is one pair like that"
   ]
  },
  {
   "cell_type": "code",
   "execution_count": 17,
   "id": "54e5516f",
   "metadata": {},
   "outputs": [
    {
     "data": {
      "text/plain": [
       "'Robert'"
      ]
     },
     "execution_count": 17,
     "metadata": {},
     "output_type": "execute_result"
    }
   ],
   "source": [
    "max(dict1)"
   ]
  },
  {
   "cell_type": "code",
   "execution_count": 15,
   "id": "fea70b2a",
   "metadata": {},
   "outputs": [
    {
     "data": {
      "text/plain": [
       "'Raheem'"
      ]
     },
     "execution_count": 15,
     "metadata": {},
     "output_type": "execute_result"
    }
   ],
   "source": [
    "min(dict1)"
   ]
  },
  {
   "cell_type": "markdown",
   "id": "d57dd80c",
   "metadata": {},
   "source": [
    "1. max values and min values based on asci keys only\n",
    "2. key should be always 1 and value should be many(in dictionary)\n",
    "3. List is array of elements\n",
    "\n"
   ]
  },
  {
   "cell_type": "code",
   "execution_count": 30,
   "id": "fc31c407",
   "metadata": {},
   "outputs": [
    {
     "data": {
      "text/plain": [
       "{'Fruits': {'like': ['Apple', 'Cherry']}}"
      ]
     },
     "execution_count": 30,
     "metadata": {},
     "output_type": "execute_result"
    }
   ],
   "source": [
    "#this ill work because this is what dictionary is \n",
    "d1={'Ram':25,'Raheem':30,'Robert':25}\n",
    "d2={'names':['Ram','Raheem','Robert'],'ages':[25,20,25]}\n",
    "d3={25:'Ram'}\n",
    "#d4={['Ram','Raheem','Robert']:'names'}\n",
    "d5={25:35}\n",
    "d5\n",
    "d6={'A':'Apple',\n",
    "   'B':'10.5',\n",
    "   'C':'10+5j',\n",
    "   12:['A','B','C']}\n",
    "d7={'Fruits':{'like':['Apple','Cherry']}} #json file types\n"
   ]
  },
  {
   "cell_type": "markdown",
   "id": "88d2e97f",
   "metadata": {},
   "source": [
    "# If we provide multiple values at key position it will fail"
   ]
  },
  {
   "cell_type": "code",
   "execution_count": 31,
   "id": "780367e5",
   "metadata": {},
   "outputs": [
    {
     "data": {
      "text/plain": [
       "{'Mobin': 'Amazon'}"
      ]
     },
     "execution_count": 31,
     "metadata": {},
     "output_type": "execute_result"
    }
   ],
   "source": [
    "d8={'Mobin':'Amazon','Mobin':'Amazon'}\n",
    "d8"
   ]
  },
  {
   "cell_type": "markdown",
   "id": "b819b42f",
   "metadata": {},
   "source": [
    "# duplicates are not allowed"
   ]
  },
  {
   "cell_type": "code",
   "execution_count": 32,
   "id": "f9b2698d",
   "metadata": {},
   "outputs": [
    {
     "data": {
      "text/plain": [
       "{'Ravi': 35}"
      ]
     },
     "execution_count": 32,
     "metadata": {},
     "output_type": "execute_result"
    }
   ],
   "source": [
    "d9={'Ravi':25,'Ravi':35}\n",
    "d9"
   ]
  },
  {
   "cell_type": "markdown",
   "id": "0aaa4e92",
   "metadata": {},
   "source": [
    "# If keys are same last or latest value only will take"
   ]
  },
  {
   "cell_type": "code",
   "execution_count": 33,
   "id": "556d44d3",
   "metadata": {},
   "outputs": [
    {
     "data": {
      "text/plain": [
       "{'Ram': 25, 'Raheem': 30, 'Robert': 35}"
      ]
     },
     "execution_count": 33,
     "metadata": {},
     "output_type": "execute_result"
    }
   ],
   "source": [
    "dict1"
   ]
  },
  {
   "cell_type": "markdown",
   "id": "e1ba3983",
   "metadata": {},
   "source": [
    "1. in operator"
   ]
  },
  {
   "cell_type": "code",
   "execution_count": 36,
   "id": "e79ecaba",
   "metadata": {},
   "outputs": [
    {
     "data": {
      "text/plain": [
       "True"
      ]
     },
     "execution_count": 36,
     "metadata": {},
     "output_type": "execute_result"
    }
   ],
   "source": [
    "'Ram' in dict1"
   ]
  },
  {
   "cell_type": "code",
   "execution_count": 37,
   "id": "d3777713",
   "metadata": {},
   "outputs": [
    {
     "ename": "SyntaxError",
     "evalue": "illegal target for annotation (188876429.py, line 1)",
     "output_type": "error",
     "traceback": [
      "\u001b[1;36m  File \u001b[1;32m\"C:\\Users\\Vaishnavi\\AppData\\Local\\Temp\\ipykernel_12564\\188876429.py\"\u001b[1;36m, line \u001b[1;32m1\u001b[0m\n\u001b[1;33m    'Ram':25 in dict1\u001b[0m\n\u001b[1;37m    ^\u001b[0m\n\u001b[1;31mSyntaxError\u001b[0m\u001b[1;31m:\u001b[0m illegal target for annotation\n"
     ]
    }
   ],
   "source": [
    "'Ram':25 in dict1"
   ]
  },
  {
   "cell_type": "markdown",
   "id": "5ea25be7",
   "metadata": {},
   "source": [
    "1. error becoz keys are important then only true value will be if values if we give it will show error"
   ]
  },
  {
   "cell_type": "code",
   "execution_count": 38,
   "id": "5e869fff",
   "metadata": {},
   "outputs": [
    {
     "data": {
      "text/plain": [
       "True"
      ]
     },
     "execution_count": 38,
     "metadata": {},
     "output_type": "execute_result"
    }
   ],
   "source": [
    "'Ram' in dict1\n",
    "'Raheem' in dict1\n",
    "'Robert' in dict1\n",
    "\n",
    "#i in dict1"
   ]
  },
  {
   "cell_type": "code",
   "execution_count": 39,
   "id": "8b8aaa01",
   "metadata": {},
   "outputs": [
    {
     "name": "stdout",
     "output_type": "stream",
     "text": [
      "Ram\n",
      "Raheem\n",
      "Robert\n"
     ]
    }
   ],
   "source": [
    "for i in dict1:\n",
    "    print(i)"
   ]
  },
  {
   "cell_type": "markdown",
   "id": "6f677da4",
   "metadata": {},
   "source": [
    "1. here also when we itterate through loop only keys will come values will not come this is very very imp interview qs"
   ]
  },
  {
   "cell_type": "markdown",
   "id": "411434c3",
   "metadata": {},
   "source": [
    "index\n",
    "1. dictionary values retrive based on keys only"
   ]
  },
  {
   "cell_type": "code",
   "execution_count": 41,
   "id": "d2a369f5",
   "metadata": {},
   "outputs": [
    {
     "ename": "KeyError",
     "evalue": "0",
     "output_type": "error",
     "traceback": [
      "\u001b[1;31m---------------------------------------------------------------------------\u001b[0m",
      "\u001b[1;31mKeyError\u001b[0m                                  Traceback (most recent call last)",
      "\u001b[1;32m~\\AppData\\Local\\Temp\\ipykernel_12564\\715492027.py\u001b[0m in \u001b[0;36m<module>\u001b[1;34m\u001b[0m\n\u001b[1;32m----> 1\u001b[1;33m \u001b[0mdict1\u001b[0m\u001b[1;33m[\u001b[0m\u001b[1;36m0\u001b[0m\u001b[1;33m]\u001b[0m\u001b[1;33m\u001b[0m\u001b[1;33m\u001b[0m\u001b[0m\n\u001b[0m",
      "\u001b[1;31mKeyError\u001b[0m: 0"
     ]
    }
   ],
   "source": [
    "dict1[0]"
   ]
  },
  {
   "cell_type": "code",
   "execution_count": 42,
   "id": "cc991161",
   "metadata": {},
   "outputs": [
    {
     "data": {
      "text/plain": [
       "25"
      ]
     },
     "execution_count": 42,
     "metadata": {},
     "output_type": "execute_result"
    }
   ],
   "source": [
    "dict1['Ram']"
   ]
  },
  {
   "cell_type": "markdown",
   "id": "15259f05",
   "metadata": {},
   "source": [
    "2. We can get ask dict index of keys only we cant ask values "
   ]
  },
  {
   "cell_type": "code",
   "execution_count": 50,
   "id": "1bedb33f",
   "metadata": {},
   "outputs": [
    {
     "data": {
      "text/plain": [
       "{'Ram': 25, 'Raheem': 30, 'Robert': 35}"
      ]
     },
     "execution_count": 50,
     "metadata": {},
     "output_type": "execute_result"
    }
   ],
   "source": [
    "dict1"
   ]
  },
  {
   "cell_type": "code",
   "execution_count": 43,
   "id": "0885b3dd",
   "metadata": {},
   "outputs": [
    {
     "data": {
      "text/plain": [
       "(25, 30, 35)"
      ]
     },
     "execution_count": 43,
     "metadata": {},
     "output_type": "execute_result"
    }
   ],
   "source": [
    "dict1['Ram'],dict1['Raheem'],dict1['Robert']"
   ]
  },
  {
   "cell_type": "code",
   "execution_count": 44,
   "id": "4c9775ba",
   "metadata": {},
   "outputs": [],
   "source": [
    "#wap by using for loop to get values\n",
    "#if you iterate nrmly only keys are coming"
   ]
  },
  {
   "cell_type": "code",
   "execution_count": 45,
   "id": "1a185559",
   "metadata": {},
   "outputs": [
    {
     "data": {
      "text/plain": [
       "'p'"
      ]
     },
     "execution_count": 45,
     "metadata": {},
     "output_type": "execute_result"
    }
   ],
   "source": [
    "str1='python'\n",
    "str1[0]"
   ]
  },
  {
   "cell_type": "code",
   "execution_count": 54,
   "id": "d3927313",
   "metadata": {},
   "outputs": [
    {
     "data": {
      "text/plain": [
       "{'Ram': 25, 'Raheem': 30, 'Robert': 35}"
      ]
     },
     "execution_count": 54,
     "metadata": {},
     "output_type": "execute_result"
    }
   ],
   "source": [
    "dict1"
   ]
  },
  {
   "cell_type": "code",
   "execution_count": 64,
   "id": "3dba06d9",
   "metadata": {},
   "outputs": [
    {
     "data": {
      "text/plain": [
       "True"
      ]
     },
     "execution_count": 64,
     "metadata": {},
     "output_type": "execute_result"
    }
   ],
   "source": [
    "dict1= {'Ram': 25, 'Raheem': 30, 'Robert': 35}\n",
    "'Ram' in dict1\n",
    "'Raheem' in dict1\n",
    "'Robert' in dict1\n",
    " # i in range"
   ]
  },
  {
   "cell_type": "code",
   "execution_count": 70,
   "id": "ce9ec04d",
   "metadata": {},
   "outputs": [
    {
     "name": "stdout",
     "output_type": "stream",
     "text": [
      "0\n",
      "1\n",
      "2\n"
     ]
    }
   ],
   "source": [
    "for i in range(len(dict1)):\n",
    "    print(i)"
   ]
  },
  {
   "cell_type": "code",
   "execution_count": 71,
   "id": "5b5fa86b",
   "metadata": {},
   "outputs": [],
   "source": [
    "# see from notes\n"
   ]
  },
  {
   "cell_type": "code",
   "execution_count": 72,
   "id": "54d2c159",
   "metadata": {},
   "outputs": [],
   "source": [
    "# How to create a empty dictionary"
   ]
  },
  {
   "cell_type": "code",
   "execution_count": 73,
   "id": "c447da6a",
   "metadata": {},
   "outputs": [],
   "source": [
    "dict1={}\n",
    "\n",
    "list1=[]\n",
    "\n",
    "string1=''"
   ]
  },
  {
   "cell_type": "code",
   "execution_count": 74,
   "id": "f1a0fedb",
   "metadata": {},
   "outputs": [
    {
     "data": {
      "text/plain": [
       "{'Nareshit': ['DS', 'MLOPS', 'DE']}"
      ]
     },
     "execution_count": 74,
     "metadata": {},
     "output_type": "execute_result"
    }
   ],
   "source": [
    "dict1['Nareshit']=['DS','MLOPS','DE']\n",
    "dict1"
   ]
  },
  {
   "cell_type": "code",
   "execution_count": 76,
   "id": "906ff46d",
   "metadata": {},
   "outputs": [
    {
     "data": {
      "text/plain": [
       "{'Nareshit': ['DS', 'MLOPS', 'DE'], 'India': 'in semis'}"
      ]
     },
     "execution_count": 76,
     "metadata": {},
     "output_type": "execute_result"
    }
   ],
   "source": [
    "dict1['India']='in semis'\n",
    "dict1"
   ]
  },
  {
   "cell_type": "code",
   "execution_count": 77,
   "id": "7957ffbe",
   "metadata": {},
   "outputs": [
    {
     "data": {
      "text/plain": [
       "{'Apple': 'fruit', 'car': 'vehicle'}"
      ]
     },
     "execution_count": 77,
     "metadata": {},
     "output_type": "execute_result"
    }
   ],
   "source": [
    "dict2={}\n",
    "dict2['Apple']='fruit'\n",
    "dict2['car']='vehicle'\n",
    "dict2"
   ]
  },
  {
   "cell_type": "code",
   "execution_count": null,
   "id": "02e8c68d",
   "metadata": {},
   "outputs": [],
   "source": [
    "#wap ask the user get 5 random numbers\n",
    "# and perform even and odd operation\n",
    "\n",
    "#output:{'even':[10,12,14],'odd':[11,13]}\n",
    "\n"
   ]
  },
  {
   "cell_type": "code",
   "execution_count": null,
   "id": "27bdbe76",
   "metadata": {},
   "outputs": [],
   "source": []
  },
  {
   "cell_type": "code",
   "execution_count": null,
   "id": "f32a95b5",
   "metadata": {},
   "outputs": [],
   "source": []
  },
  {
   "cell_type": "code",
   "execution_count": null,
   "id": "a666f4c1",
   "metadata": {},
   "outputs": [],
   "source": []
  },
  {
   "cell_type": "code",
   "execution_count": null,
   "id": "a1fb532d",
   "metadata": {},
   "outputs": [],
   "source": []
  },
  {
   "cell_type": "code",
   "execution_count": null,
   "id": "114609e0",
   "metadata": {},
   "outputs": [],
   "source": []
  },
  {
   "cell_type": "code",
   "execution_count": null,
   "id": "fe85aad2",
   "metadata": {},
   "outputs": [],
   "source": []
  },
  {
   "cell_type": "code",
   "execution_count": null,
   "id": "c667de41",
   "metadata": {},
   "outputs": [],
   "source": []
  },
  {
   "cell_type": "code",
   "execution_count": null,
   "id": "b124cda8",
   "metadata": {},
   "outputs": [],
   "source": []
  },
  {
   "cell_type": "code",
   "execution_count": null,
   "id": "c0eed7a1",
   "metadata": {},
   "outputs": [],
   "source": []
  },
  {
   "cell_type": "code",
   "execution_count": null,
   "id": "0a915821",
   "metadata": {},
   "outputs": [],
   "source": []
  },
  {
   "cell_type": "code",
   "execution_count": null,
   "id": "23382f74",
   "metadata": {},
   "outputs": [],
   "source": []
  },
  {
   "cell_type": "markdown",
   "id": "2861ab76",
   "metadata": {},
   "source": [
    "# Nov 15 class\n"
   ]
  },
  {
   "cell_type": "code",
   "execution_count": 80,
   "id": "cbc667a9",
   "metadata": {},
   "outputs": [
    {
     "data": {
      "text/plain": [
       "{'Course_id1': 'DS',\n",
       " 'Course_duration': 4,\n",
       " 'course_fee': 18000,\n",
       " 'Institute': 'Naresh IT'}"
      ]
     },
     "execution_count": 80,
     "metadata": {},
     "output_type": "execute_result"
    }
   ],
   "source": [
    "dict1={'Course_id1':'DS',\"Course_duration\":4,\n",
    "       'course_fee':18000,'Institute':'Naresh IT'}\n",
    "dict1"
   ]
  },
  {
   "cell_type": "markdown",
   "id": "7f17d248",
   "metadata": {},
   "source": [
    "# items-keys-values\n",
    "1. items means all will come\n",
    "2. keys means only keys will come\n",
    "3. values means only values will come"
   ]
  },
  {
   "cell_type": "code",
   "execution_count": 81,
   "id": "1c0767ae",
   "metadata": {},
   "outputs": [
    {
     "data": {
      "text/plain": [
       "dict_items([('Course_id1', 'DS'), ('Course_duration', 4), ('course_fee', 18000), ('Institute', 'Naresh IT')])"
      ]
     },
     "execution_count": 81,
     "metadata": {},
     "output_type": "execute_result"
    }
   ],
   "source": [
    "dict1.items()\n",
    "\n",
    "# All will come"
   ]
  },
  {
   "cell_type": "code",
   "execution_count": 84,
   "id": "a64839d1",
   "metadata": {},
   "outputs": [
    {
     "data": {
      "text/plain": [
       "dict_items"
      ]
     },
     "execution_count": 84,
     "metadata": {},
     "output_type": "execute_result"
    }
   ],
   "source": [
    "type(dict1.items())"
   ]
  },
  {
   "cell_type": "markdown",
   "id": "bff6d75a",
   "metadata": {},
   "source": [
    "1. It is a new type: dict_items\n",
    "2. It is not a list"
   ]
  },
  {
   "cell_type": "code",
   "execution_count": 87,
   "id": "f71e7894",
   "metadata": {},
   "outputs": [
    {
     "name": "stdout",
     "output_type": "stream",
     "text": [
      "('Course_id1', 'DS')\n",
      "('Course_duration', 4)\n",
      "('course_fee', 18000)\n",
      "('Institute', 'Naresh IT')\n"
     ]
    }
   ],
   "source": [
    "for i in dict1.items():\n",
    "    print(i)"
   ]
  },
  {
   "cell_type": "code",
   "execution_count": 88,
   "id": "2ca5cde0",
   "metadata": {},
   "outputs": [
    {
     "name": "stdout",
     "output_type": "stream",
     "text": [
      "Course_id1 DS\n",
      "Course_duration 4\n",
      "course_fee 18000\n",
      "Institute Naresh IT\n"
     ]
    }
   ],
   "source": [
    "for i,j in dict1.items():\n",
    "    print(i,j)"
   ]
  },
  {
   "cell_type": "code",
   "execution_count": 90,
   "id": "8844daff",
   "metadata": {},
   "outputs": [
    {
     "data": {
      "text/plain": [
       "[('Course_id1', 'DS'),\n",
       " ('Course_duration', 4),\n",
       " ('course_fee', 18000),\n",
       " ('Institute', 'Naresh IT')]"
      ]
     },
     "execution_count": 90,
     "metadata": {},
     "output_type": "execute_result"
    }
   ],
   "source": [
    "list(dict1.items()) #type cast using list\n",
    "# we can convert into list also"
   ]
  },
  {
   "cell_type": "code",
   "execution_count": 93,
   "id": "6d301b2f",
   "metadata": {},
   "outputs": [
    {
     "name": "stdout",
     "output_type": "stream",
     "text": [
      "Course_id1 : DS\n",
      "Course_duration : 4\n",
      "course_fee : 18000\n",
      "Institute : Naresh IT\n"
     ]
    }
   ],
   "source": [
    "for i,j in dict1.items():\n",
    "    print(i,\":\",j)"
   ]
  },
  {
   "cell_type": "markdown",
   "id": "ffd6701e",
   "metadata": {},
   "source": [
    "1. If later we want to create or add a new item we cant add in dict so we can do that by taking it as a list\n",
    "2. There is a way we can convert dict values into list values and then again we can go back"
   ]
  },
  {
   "cell_type": "code",
   "execution_count": 97,
   "id": "a2ce8d29",
   "metadata": {},
   "outputs": [],
   "source": [
    "keys= dict1.keys()"
   ]
  },
  {
   "cell_type": "code",
   "execution_count": 98,
   "id": "659b982a",
   "metadata": {},
   "outputs": [
    {
     "data": {
      "text/plain": [
       "['Course_id1', 'Course_duration', 'course_fee', 'Institute']"
      ]
     },
     "execution_count": 98,
     "metadata": {},
     "output_type": "execute_result"
    }
   ],
   "source": [
    "list(keys)"
   ]
  },
  {
   "cell_type": "code",
   "execution_count": 99,
   "id": "8d954584",
   "metadata": {},
   "outputs": [],
   "source": [
    "values=dict1.values()"
   ]
  },
  {
   "cell_type": "code",
   "execution_count": 100,
   "id": "579d02f7",
   "metadata": {},
   "outputs": [
    {
     "data": {
      "text/plain": [
       "['DS', 4, 18000, 'Naresh IT']"
      ]
     },
     "execution_count": 100,
     "metadata": {},
     "output_type": "execute_result"
    }
   ],
   "source": [
    "list(values)"
   ]
  },
  {
   "cell_type": "code",
   "execution_count": 95,
   "id": "4e3f0cfb",
   "metadata": {},
   "outputs": [
    {
     "data": {
      "text/plain": [
       "dict_values(['DS', 4, 18000, 'Naresh IT'])"
      ]
     },
     "execution_count": 95,
     "metadata": {},
     "output_type": "execute_result"
    }
   ],
   "source": [
    "dict1.values()"
   ]
  },
  {
   "cell_type": "code",
   "execution_count": 101,
   "id": "493f6c5d",
   "metadata": {},
   "outputs": [
    {
     "data": {
      "text/plain": [
       "{'Course_id1': 'DS',\n",
       " 'Course_duration': 4,\n",
       " 'course_fee': 18000,\n",
       " 'Institute': 'Naresh IT'}"
      ]
     },
     "execution_count": 101,
     "metadata": {},
     "output_type": "execute_result"
    }
   ],
   "source": [
    "# one list keys\n",
    "#second list values\n",
    "\n",
    "# can you create the dictionary\n",
    "#output: \n",
    "dict1={'Course_id1':'DS',\"Course_duration\":4,\n",
    "       'course_fee':18000,'Institute':'Naresh IT'}\n",
    "dict1"
   ]
  },
  {
   "cell_type": "code",
   "execution_count": 102,
   "id": "9154b0fe",
   "metadata": {},
   "outputs": [
    {
     "data": {
      "text/plain": [
       "{'A': 1, 'B': 2, 'C': 3}"
      ]
     },
     "execution_count": 102,
     "metadata": {},
     "output_type": "execute_result"
    }
   ],
   "source": [
    "list1=['A','B','C']\n",
    "list2=[1,2,3]\n",
    "\n",
    "dict1=dict(zip(list1,list2))\n",
    "dict1"
   ]
  },
  {
   "cell_type": "code",
   "execution_count": 105,
   "id": "cd0b2cde",
   "metadata": {},
   "outputs": [
    {
     "data": {
      "text/plain": [
       "{'keys': ['A', 'B', 'C'], 'value': [1, 2, 3]}"
      ]
     },
     "execution_count": 105,
     "metadata": {},
     "output_type": "execute_result"
    }
   ],
   "source": [
    "dict2={}\n",
    "dict2['keys']=keys\n",
    "dict2['value']=values\n",
    "dict2"
   ]
  },
  {
   "cell_type": "code",
   "execution_count": 108,
   "id": "ffaf8e15",
   "metadata": {},
   "outputs": [
    {
     "data": {
      "text/plain": [
       "{'A': 1, 'B': 2, 'C': 3}"
      ]
     },
     "execution_count": 108,
     "metadata": {},
     "output_type": "execute_result"
    }
   ],
   "source": [
    "keys=['A','B','C']\n",
    "values=[1,2,3]\n",
    "\n",
    "dict1={}\n",
    "for i,j in zip(keys,values):\n",
    "    dict1[i]=j\n",
    "dict1"
   ]
  },
  {
   "cell_type": "code",
   "execution_count": 103,
   "id": "d3dc86d7",
   "metadata": {},
   "outputs": [],
   "source": [
    "keys=['A','B','C']\n",
    "values=[1,2,3]\n",
    "\n",
    "dict1={}\n",
    "for i,j in zip(keys,values):\n",
    "    dict1[i]=j \n",
    "# We r creating empty dictionary next we r taking i,j in zip type\n",
    "# then next dict1[i(value) means key]=j(value means values)\n",
    "\n",
    "list1=[]\n",
    "for i in range(10):\n",
    "    list1.append"
   ]
  },
  {
   "cell_type": "markdown",
   "id": "90a18c88",
   "metadata": {},
   "source": [
    "1. Here we r creating a dictionary by taking 2 list values\n"
   ]
  },
  {
   "cell_type": "code",
   "execution_count": 104,
   "id": "3603ce53",
   "metadata": {},
   "outputs": [
    {
     "data": {
      "text/plain": [
       "{'A': 1, 'B': 2, 'C': 3}"
      ]
     },
     "execution_count": 104,
     "metadata": {},
     "output_type": "execute_result"
    }
   ],
   "source": [
    "dict1"
   ]
  },
  {
   "cell_type": "markdown",
   "id": "3aa0edd0",
   "metadata": {},
   "source": [
    "1. Remember the zip methods\n",
    "2. how to create list to dictionary\n",
    "3. AND dict to list"
   ]
  },
  {
   "cell_type": "code",
   "execution_count": 109,
   "id": "ba345332",
   "metadata": {},
   "outputs": [
    {
     "data": {
      "text/plain": [
       "[0, 1, 2, 3, 4, 5, 6, 7, 8, 9]"
      ]
     },
     "execution_count": 109,
     "metadata": {},
     "output_type": "execute_result"
    }
   ],
   "source": [
    "[i for i in range(10)] #list"
   ]
  },
  {
   "cell_type": "code",
   "execution_count": 111,
   "id": "29225704",
   "metadata": {},
   "outputs": [
    {
     "data": {
      "text/plain": [
       "{'A': 1, 'B': 2, 'C': 3}"
      ]
     },
     "execution_count": 111,
     "metadata": {},
     "output_type": "execute_result"
    }
   ],
   "source": [
    "{i:j for i,j in zip(keys,values)} #dictionary comprehension"
   ]
  },
  {
   "cell_type": "markdown",
   "id": "ad5f4961",
   "metadata": {},
   "source": [
    "1. Can you get a keys list and values list from dictionary\n",
    "2. can you make a dictionary by using 2 lists\n",
    "d1"
   ]
  },
  {
   "cell_type": "markdown",
   "id": "06b7e77b",
   "metadata": {},
   "source": [
    "$get$"
   ]
  },
  {
   "cell_type": "code",
   "execution_count": 112,
   "id": "7065b234",
   "metadata": {},
   "outputs": [
    {
     "data": {
      "text/plain": [
       "{'A': 1, 'B': 2, 'C': 3}"
      ]
     },
     "execution_count": 112,
     "metadata": {},
     "output_type": "execute_result"
    }
   ],
   "source": [
    "dict1"
   ]
  },
  {
   "cell_type": "code",
   "execution_count": null,
   "id": "3ac55654",
   "metadata": {},
   "outputs": [],
   "source": [
    "<initalized>.<method_name>()"
   ]
  },
  {
   "cell_type": "code",
   "execution_count": 116,
   "id": "f3911b90",
   "metadata": {},
   "outputs": [
    {
     "data": {
      "text/plain": [
       "1"
      ]
     },
     "execution_count": 116,
     "metadata": {},
     "output_type": "execute_result"
    }
   ],
   "source": [
    "dict1.get('A')"
   ]
  },
  {
   "cell_type": "code",
   "execution_count": 117,
   "id": "e01e2dbb",
   "metadata": {},
   "outputs": [
    {
     "data": {
      "text/plain": [
       "1"
      ]
     },
     "execution_count": 117,
     "metadata": {},
     "output_type": "execute_result"
    }
   ],
   "source": [
    "dict1['A']"
   ]
  },
  {
   "cell_type": "code",
   "execution_count": 120,
   "id": "c170f7da",
   "metadata": {},
   "outputs": [],
   "source": [
    "dict1.get('a') #No answer no error"
   ]
  },
  {
   "cell_type": "code",
   "execution_count": 118,
   "id": "8b32cafe",
   "metadata": {},
   "outputs": [
    {
     "ename": "KeyError",
     "evalue": "'a'",
     "output_type": "error",
     "traceback": [
      "\u001b[1;31m---------------------------------------------------------------------------\u001b[0m",
      "\u001b[1;31mKeyError\u001b[0m                                  Traceback (most recent call last)",
      "\u001b[1;32m~\\AppData\\Local\\Temp\\ipykernel_12564\\795442319.py\u001b[0m in \u001b[0;36m<module>\u001b[1;34m\u001b[0m\n\u001b[1;32m----> 1\u001b[1;33m \u001b[0mdict1\u001b[0m\u001b[1;33m[\u001b[0m\u001b[1;34m'a'\u001b[0m\u001b[1;33m]\u001b[0m\u001b[1;33m\u001b[0m\u001b[1;33m\u001b[0m\u001b[0m\n\u001b[0m",
      "\u001b[1;31mKeyError\u001b[0m: 'a'"
     ]
    }
   ],
   "source": [
    "dict1['a']"
   ]
  },
  {
   "cell_type": "markdown",
   "id": "88e54bd9",
   "metadata": {},
   "source": [
    "$clear$-$copy$"
   ]
  },
  {
   "cell_type": "code",
   "execution_count": 121,
   "id": "2d5c9acc",
   "metadata": {},
   "outputs": [
    {
     "name": "stdout",
     "output_type": "stream",
     "text": [
      "l1: []\n",
      "l2: [1, 2, 3]\n"
     ]
    }
   ],
   "source": [
    "l1=[1,2,3]\n",
    "l2=l1.copy()\n",
    "l1.clear()\n",
    "print('l1:',l1)\n",
    "print('l2:',l2)"
   ]
  },
  {
   "cell_type": "code",
   "execution_count": 123,
   "id": "b8487541",
   "metadata": {},
   "outputs": [
    {
     "name": "stdout",
     "output_type": "stream",
     "text": [
      "d1: {}\n",
      "d2: {'City': 'Hyd'}\n"
     ]
    }
   ],
   "source": [
    "d1={'City':'Hyd'}\n",
    "d2=d1.copy()\n",
    "d1.clear()\n",
    "print('d1:',d1)\n",
    "print('d2:',d2)"
   ]
  },
  {
   "cell_type": "markdown",
   "id": "26016b3c",
   "metadata": {},
   "source": [
    "$pop$-$popitem$-$delete$"
   ]
  },
  {
   "cell_type": "code",
   "execution_count": 124,
   "id": "507351c1",
   "metadata": {},
   "outputs": [
    {
     "data": {
      "text/plain": [
       "{'Course_id1': 'DS',\n",
       " 'Course_duration': 4,\n",
       " 'course_fee': 18000,\n",
       " 'Institute': 'Naresh IT'}"
      ]
     },
     "execution_count": 124,
     "metadata": {},
     "output_type": "execute_result"
    }
   ],
   "source": [
    "dict1={'Course_id1':'DS',\n",
    "       \"Course_duration\":4,\n",
    "       'course_fee':18000,\n",
    "       'Institute':'Naresh IT'}\n",
    "dict1"
   ]
  },
  {
   "cell_type": "code",
   "execution_count": 125,
   "id": "4b6f1a18",
   "metadata": {},
   "outputs": [
    {
     "data": {
      "text/plain": [
       "('Institute', 'Naresh IT')"
      ]
     },
     "execution_count": 125,
     "metadata": {},
     "output_type": "execute_result"
    }
   ],
   "source": [
    "dict1.popitem()\n",
    "\n",
    "#popitem is not taking any arguments\n",
    "#It will return the output\n",
    "#which pair it is removing? : Last in First out"
   ]
  },
  {
   "cell_type": "code",
   "execution_count": 128,
   "id": "02aa1ecf",
   "metadata": {},
   "outputs": [
    {
     "data": {
      "text/plain": [
       "{'Course_id1': 'DS', 'Course_duration': 4, 'course_fee': 18000}"
      ]
     },
     "execution_count": 128,
     "metadata": {},
     "output_type": "execute_result"
    }
   ],
   "source": [
    "dict1"
   ]
  },
  {
   "cell_type": "code",
   "execution_count": 129,
   "id": "b57b01ad",
   "metadata": {},
   "outputs": [
    {
     "name": "stdout",
     "output_type": "stream",
     "text": [
      "{'Course_id1': 'DS', 'Course_duration': 4, 'Institute': 'Naresh IT'}\n"
     ]
    }
   ],
   "source": [
    "dict1={'Course_id1':'DS',\n",
    "       \"Course_duration\":4,\n",
    "       'course_fee':18000,\n",
    "       'Institute':'Naresh IT'}\n",
    "dict1.pop('course_fee')\n",
    "print(dict1)\n"
   ]
  },
  {
   "cell_type": "code",
   "execution_count": 131,
   "id": "fb6a01b1",
   "metadata": {},
   "outputs": [
    {
     "name": "stdout",
     "output_type": "stream",
     "text": [
      "{'Course_id1': 'DS', 'course_fee': 18000, 'Institute': 'Naresh IT'}\n"
     ]
    }
   ],
   "source": [
    "dict1={'Course_id1':'DS',\n",
    "       \"Course_duration\":4,\n",
    "       'course_fee':18000,\n",
    "       'Institute':'Naresh IT'}\n",
    "del dict1['Course_duration']\n",
    "print(dict1)\n"
   ]
  },
  {
   "cell_type": "code",
   "execution_count": 132,
   "id": "56413c88",
   "metadata": {},
   "outputs": [
    {
     "data": {
      "text/plain": [
       "[200, 300]"
      ]
     },
     "execution_count": 132,
     "metadata": {},
     "output_type": "execute_result"
    }
   ],
   "source": [
    "list1=[100,200,300]\n",
    "del list1[0]\n",
    "list1"
   ]
  },
  {
   "cell_type": "markdown",
   "id": "0f8d934e",
   "metadata": {},
   "source": [
    "$setasde fault$"
   ]
  },
  {
   "cell_type": "code",
   "execution_count": 135,
   "id": "49b3ff7c",
   "metadata": {},
   "outputs": [
    {
     "data": {
      "text/plain": [
       "{'Course_id1': 'DS',\n",
       " 'Course_duration': 4,\n",
       " 'course_fee': 18000,\n",
       " 'Institute': 'Naresh IT',\n",
       " 'package': None,\n",
       " 'certification': 'valid'}"
      ]
     },
     "execution_count": 135,
     "metadata": {},
     "output_type": "execute_result"
    }
   ],
   "source": [
    "dict1={'Course_id1':'DS',\n",
    "       \"Course_duration\":4,\n",
    "       'course_fee':18000,\n",
    "       'Institute':'Naresh IT'}\n",
    "dict1.setdefault('package')\n",
    "#we are not providing value: None\n",
    "dict1.setdefault('certification','valid') #both key and value also\n",
    "dict1"
   ]
  },
  {
   "cell_type": "markdown",
   "id": "27d39e26",
   "metadata": {},
   "source": [
    "$fromkeys$"
   ]
  },
  {
   "cell_type": "code",
   "execution_count": 136,
   "id": "7b5e75b5",
   "metadata": {},
   "outputs": [
    {
     "data": {
      "text/plain": [
       "{'p': 10, 'y': 10, 't': 10, 'h': 10, 'o': 10, 'n': 10}"
      ]
     },
     "execution_count": 136,
     "metadata": {},
     "output_type": "execute_result"
    }
   ],
   "source": [
    "dict1={}\n",
    "dict1.fromkeys('python',10)"
   ]
  },
  {
   "cell_type": "code",
   "execution_count": 137,
   "id": "ca84d669",
   "metadata": {},
   "outputs": [
    {
     "data": {
      "text/plain": [
       "{2: 'even', 4: 'even', 6: 'even', 7: 'even'}"
      ]
     },
     "execution_count": 137,
     "metadata": {},
     "output_type": "execute_result"
    }
   ],
   "source": [
    "dict1={}\n",
    "list1=[2,4,6,7]\n",
    "dict1.fromkeys(list1,'even')\n"
   ]
  },
  {
   "cell_type": "code",
   "execution_count": 138,
   "id": "572e807c",
   "metadata": {},
   "outputs": [
    {
     "data": {
      "text/plain": [
       "{'A': 'nareshit', 'B': 'nareshit', 'C': 'nareshit'}"
      ]
     },
     "execution_count": 138,
     "metadata": {},
     "output_type": "execute_result"
    }
   ],
   "source": [
    "dict1={}\n",
    "employee=['A','B','C']\n",
    "dict1.fromkeys(employee,'nareshit')"
   ]
  },
  {
   "cell_type": "code",
   "execution_count": null,
   "id": "cc85fee2",
   "metadata": {},
   "outputs": [],
   "source": []
  }
 ],
 "metadata": {
  "kernelspec": {
   "display_name": "Python 3 (ipykernel)",
   "language": "python",
   "name": "python3"
  },
  "language_info": {
   "codemirror_mode": {
    "name": "ipython",
    "version": 3
   },
   "file_extension": ".py",
   "mimetype": "text/x-python",
   "name": "python",
   "nbconvert_exporter": "python",
   "pygments_lexer": "ipython3",
   "version": "3.9.13"
  }
 },
 "nbformat": 4,
 "nbformat_minor": 5
}
