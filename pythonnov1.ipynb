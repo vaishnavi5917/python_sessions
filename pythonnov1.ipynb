{
 "cells": [
  {
   "cell_type": "code",
   "execution_count": null,
   "id": "066b69e9",
   "metadata": {},
   "outputs": [
    {
     "name": "stdout",
     "output_type": "stream",
     "text": [
      "Enter no of chances!:2\n",
      "Enter the password:akki\n",
      "you are out!!\n",
      "{} chances are available, pls enter the password!!,chance\n",
      "Enter the password:arha\n",
      "you are out!!\n",
      "{} chances are available, pls enter the password!!,chance\n",
      "Enter the password:vaishu\n",
      "you are out!!\n",
      "{} chances are available, pls enter the password!!,chance\n",
      "Enter the password:nikki\n",
      "you are out!!\n",
      "{} chances are available, pls enter the password!!,chance\n"
     ]
    }
   ],
   "source": [
    "i=0\n",
    "chance=eval(input(\"Enter no of chances!:\"))\n",
    "while i<chance:\n",
    "    p=input(\"Enter the password:\")\n",
    "    if p=='python':\n",
    "        print('you are in!!!')\n",
    "        break\n",
    "    elif chance-i-1==0:\n",
    "        print(\"chances are over!!\")\n",
    "    else:\n",
    "        print('you are out!!')\n",
    "        print('{} chances are available, pls enter the password!!,chance')\n",
    "i+=1"
   ]
  },
  {
   "cell_type": "code",
   "execution_count": 1,
   "id": "22941d4e",
   "metadata": {},
   "outputs": [
    {
     "data": {
      "text/plain": [
       "0"
      ]
     },
     "execution_count": 1,
     "metadata": {},
     "output_type": "execute_result"
    }
   ],
   "source": [
    "8%2"
   ]
  },
  {
   "cell_type": "code",
   "execution_count": 2,
   "id": "1a627f64",
   "metadata": {},
   "outputs": [
    {
     "name": "stdout",
     "output_type": "stream",
     "text": [
      "1\n",
      "2\n"
     ]
    }
   ],
   "source": [
    "i=1\n",
    "while True:\n",
    "    if i%3==0:\n",
    "        break\n",
    "    print(i)\n",
    "    \n",
    "    i+=1"
   ]
  },
  {
   "cell_type": "code",
   "execution_count": 3,
   "id": "281fb55c",
   "metadata": {},
   "outputs": [
    {
     "name": "stdout",
     "output_type": "stream",
     "text": [
      "0\n",
      "1\n",
      "2\n"
     ]
    }
   ],
   "source": [
    "i = 0\n",
    "while i < 5:\n",
    "    print(i)\n",
    "    i += 1\n",
    "    if i == 3:\n",
    "        break\n",
    "else:\n",
    "    print(0)"
   ]
  },
  {
   "cell_type": "code",
   "execution_count": 4,
   "id": "04ba60e2",
   "metadata": {},
   "outputs": [
    {
     "name": "stdout",
     "output_type": "stream",
     "text": [
      "['ad', 'bd', 'cd', 'ae', 'be', 'ce', 'af', 'bf', 'cf']\n"
     ]
    }
   ],
   "source": [
    "list1=[]\n",
    "list2=[]\n",
    "for j in 'def':\n",
    "    for i in 'abc':\n",
    "        list1.append(i+j)\n",
    "    list2=list1\n",
    "print(list1)\n",
    "        "
   ]
  },
  {
   "cell_type": "code",
   "execution_count": null,
   "id": "156c2dea",
   "metadata": {},
   "outputs": [],
   "source": []
  }
 ],
 "metadata": {
  "kernelspec": {
   "display_name": "Python 3 (ipykernel)",
   "language": "python",
   "name": "python3"
  },
  "language_info": {
   "codemirror_mode": {
    "name": "ipython",
    "version": 3
   },
   "file_extension": ".py",
   "mimetype": "text/x-python",
   "name": "python",
   "nbconvert_exporter": "python",
   "pygments_lexer": "ipython3",
   "version": "3.9.13"
  }
 },
 "nbformat": 4,
 "nbformat_minor": 5
}
